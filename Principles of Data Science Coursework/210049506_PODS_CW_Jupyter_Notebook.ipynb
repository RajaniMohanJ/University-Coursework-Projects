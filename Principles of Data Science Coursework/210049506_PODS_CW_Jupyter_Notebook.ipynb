{
 "cells": [
  {
   "cell_type": "markdown",
   "id": "56984452",
   "metadata": {},
   "source": [
    "# Analysis of FAA Air Incidents Data"
   ]
  },
  {
   "cell_type": "markdown",
   "id": "e645862b",
   "metadata": {},
   "source": [
    "Data set source: https://www.kaggle.com/prathamsharma123/aviation-accidents-and-incidents-ntsb-faa-waas?select=faa_incidents_data.csv"
   ]
  },
  {
   "cell_type": "markdown",
   "id": "5eed38cb",
   "metadata": {},
   "source": [
    "### IN3061/INM430 Principles of Data Science | RAJANI MOHAN JANIPALLI | City University of London"
   ]
  },
  {
   "cell_type": "markdown",
   "id": "386c566f",
   "metadata": {},
   "source": [
    "##### About Data set\n",
    "Data set is a record for general aviation and commercial air incidents from the year 1978 to 2015, collected from FAA’s AIDS website."
   ]
  },
  {
   "cell_type": "markdown",
   "id": "22fac8ea",
   "metadata": {},
   "source": [
    "Import useful libraries."
   ]
  },
  {
   "cell_type": "code",
   "execution_count": 1,
   "id": "e92004e6",
   "metadata": {},
   "outputs": [],
   "source": [
    "import numpy as np\n",
    "import pandas as pd\n",
    "import matplotlib.pyplot as plt\n",
    "import seaborn as sns"
   ]
  },
  {
   "cell_type": "markdown",
   "id": "1c3348b2",
   "metadata": {},
   "source": [
    "Load the data. Code reference: lab week two feedback."
   ]
  },
  {
   "cell_type": "code",
   "execution_count": 2,
   "id": "1b8037e6",
   "metadata": {},
   "outputs": [
    {
     "name": "stderr",
     "output_type": "stream",
     "text": [
      "C:\\Users\\jraja\\anaconda3\\lib\\site-packages\\IPython\\core\\interactiveshell.py:3444: DtypeWarning: Columns (12,14) have mixed types.Specify dtype option on import or set low_memory=False.\n",
      "  exec(code_obj, self.user_global_ns, self.user_ns)\n"
     ]
    }
   ],
   "source": [
    "av_data = pd.read_csv('faa_incidents_data.csv', encoding = 'ISO-8859-1')"
   ]
  },
  {
   "cell_type": "markdown",
   "id": "e0773657",
   "metadata": {},
   "source": [
    "Have a glance of data frame. Code reference: Data camp course on data manipulation with pandas."
   ]
  },
  {
   "cell_type": "code",
   "execution_count": 3,
   "id": "c45e234a",
   "metadata": {},
   "outputs": [
    {
     "data": {
      "text/html": [
       "<div>\n",
       "<style scoped>\n",
       "    .dataframe tbody tr th:only-of-type {\n",
       "        vertical-align: middle;\n",
       "    }\n",
       "\n",
       "    .dataframe tbody tr th {\n",
       "        vertical-align: top;\n",
       "    }\n",
       "\n",
       "    .dataframe thead th {\n",
       "        text-align: right;\n",
       "    }\n",
       "</style>\n",
       "<table border=\"1\" class=\"dataframe\">\n",
       "  <thead>\n",
       "    <tr style=\"text-align: right;\">\n",
       "      <th></th>\n",
       "      <th>AIDS Report Number</th>\n",
       "      <th>Local Event Date</th>\n",
       "      <th>Event City</th>\n",
       "      <th>Event State</th>\n",
       "      <th>Event Airport</th>\n",
       "      <th>Event Type</th>\n",
       "      <th>Aircraft Damage</th>\n",
       "      <th>Flight Phase</th>\n",
       "      <th>Aircraft Make</th>\n",
       "      <th>Aircraft Model</th>\n",
       "      <th>...</th>\n",
       "      <th>Total Injuries</th>\n",
       "      <th>Aircraft Engine Make</th>\n",
       "      <th>Aircraft Engine Model</th>\n",
       "      <th>Engine Group Code</th>\n",
       "      <th>Nbr of Engines</th>\n",
       "      <th>PIC Certificate Type</th>\n",
       "      <th>PIC Flight Time Total Hrs</th>\n",
       "      <th>PIC Flight Time Total Make-Model</th>\n",
       "      <th></th>\n",
       "      <th>.1</th>\n",
       "    </tr>\n",
       "  </thead>\n",
       "  <tbody>\n",
       "    <tr>\n",
       "      <th>0</th>\n",
       "      <td>19780101000019I</td>\n",
       "      <td>01-JAN-78</td>\n",
       "      <td>WAHPETON</td>\n",
       "      <td>ND</td>\n",
       "      <td>BRECKENRIDGE</td>\n",
       "      <td>INCIDENT</td>\n",
       "      <td>MINOR</td>\n",
       "      <td>ROLL-OUT (FIXED WING)</td>\n",
       "      <td>CESSNA</td>\n",
       "      <td>182</td>\n",
       "      <td>...</td>\n",
       "      <td>0</td>\n",
       "      <td>NaN</td>\n",
       "      <td>NaN</td>\n",
       "      <td>NaN</td>\n",
       "      <td>1.0</td>\n",
       "      <td>PRIVATE PILOT</td>\n",
       "      <td>245.0</td>\n",
       "      <td>136.0</td>\n",
       "      <td>0.0</td>\n",
       "      <td>0.0</td>\n",
       "    </tr>\n",
       "    <tr>\n",
       "      <th>1</th>\n",
       "      <td>19780101000029I</td>\n",
       "      <td>01-JAN-78</td>\n",
       "      <td>FAIRBANKS</td>\n",
       "      <td>AK</td>\n",
       "      <td>FAIRBANKS INTL</td>\n",
       "      <td>INCIDENT</td>\n",
       "      <td>MINOR</td>\n",
       "      <td>ROLL-OUT (FIXED WING)</td>\n",
       "      <td>PIPER</td>\n",
       "      <td>PA18</td>\n",
       "      <td>...</td>\n",
       "      <td>0</td>\n",
       "      <td>NaN</td>\n",
       "      <td>NaN</td>\n",
       "      <td>NaN</td>\n",
       "      <td>1.0</td>\n",
       "      <td>STUDENT</td>\n",
       "      <td>200.0</td>\n",
       "      <td>2.0</td>\n",
       "      <td>0.0</td>\n",
       "      <td>0.0</td>\n",
       "    </tr>\n",
       "    <tr>\n",
       "      <th>2</th>\n",
       "      <td>19780101000039I</td>\n",
       "      <td>01-JAN-78</td>\n",
       "      <td>BRUNSWICK</td>\n",
       "      <td>GA</td>\n",
       "      <td>JEKYLL ISLAND</td>\n",
       "      <td>INCIDENT</td>\n",
       "      <td>NaN</td>\n",
       "      <td>NORMAL CRUISE</td>\n",
       "      <td>BEECH</td>\n",
       "      <td>35</td>\n",
       "      <td>...</td>\n",
       "      <td>0</td>\n",
       "      <td>NaN</td>\n",
       "      <td>NaN</td>\n",
       "      <td>NaN</td>\n",
       "      <td>1.0</td>\n",
       "      <td>PRIVATE PILOT</td>\n",
       "      <td>NaN</td>\n",
       "      <td>0.0</td>\n",
       "      <td>0.0</td>\n",
       "      <td>0.0</td>\n",
       "    </tr>\n",
       "    <tr>\n",
       "      <th>3</th>\n",
       "      <td>19780101000049I</td>\n",
       "      <td>01-JAN-78</td>\n",
       "      <td>CARLSBAD</td>\n",
       "      <td>CA</td>\n",
       "      <td>MC CLELLAN-PALOMAR</td>\n",
       "      <td>INCIDENT</td>\n",
       "      <td>MINOR</td>\n",
       "      <td>LEVEL OFF TOUCHDOWN</td>\n",
       "      <td>CESSNA</td>\n",
       "      <td>310</td>\n",
       "      <td>...</td>\n",
       "      <td>0</td>\n",
       "      <td>NaN</td>\n",
       "      <td>NaN</td>\n",
       "      <td>NaN</td>\n",
       "      <td>2.0</td>\n",
       "      <td>COMMERCIAL PILOT FLIGHT INSTRUCTOR</td>\n",
       "      <td>2000.0</td>\n",
       "      <td>400.0</td>\n",
       "      <td>0.0</td>\n",
       "      <td>0.0</td>\n",
       "    </tr>\n",
       "    <tr>\n",
       "      <th>4</th>\n",
       "      <td>19780101000059I</td>\n",
       "      <td>01-JAN-78</td>\n",
       "      <td>TROUTDALE</td>\n",
       "      <td>OR</td>\n",
       "      <td>TROUTDALE MUNI</td>\n",
       "      <td>INCIDENT</td>\n",
       "      <td>MINOR</td>\n",
       "      <td>GROUND TAXI, OTHER AIRPLANE</td>\n",
       "      <td>CESSNA</td>\n",
       "      <td>172</td>\n",
       "      <td>...</td>\n",
       "      <td>0</td>\n",
       "      <td>NaN</td>\n",
       "      <td>NaN</td>\n",
       "      <td>NaN</td>\n",
       "      <td>1.0</td>\n",
       "      <td>COMMERCIAL PILOT</td>\n",
       "      <td>300.0</td>\n",
       "      <td>130.0</td>\n",
       "      <td>0.0</td>\n",
       "      <td>0.0</td>\n",
       "    </tr>\n",
       "  </tbody>\n",
       "</table>\n",
       "<p>5 rows × 27 columns</p>\n",
       "</div>"
      ],
      "text/plain": [
       "  AIDS Report Number Local Event Date Event City Event State  \\\n",
       "0    19780101000019I        01-JAN-78   WAHPETON          ND   \n",
       "1    19780101000029I        01-JAN-78  FAIRBANKS          AK   \n",
       "2    19780101000039I        01-JAN-78  BRUNSWICK          GA   \n",
       "3    19780101000049I        01-JAN-78   CARLSBAD          CA   \n",
       "4    19780101000059I        01-JAN-78  TROUTDALE          OR   \n",
       "\n",
       "        Event Airport Event Type Aircraft Damage                 Flight Phase  \\\n",
       "0        BRECKENRIDGE   INCIDENT           MINOR        ROLL-OUT (FIXED WING)   \n",
       "1      FAIRBANKS INTL   INCIDENT           MINOR        ROLL-OUT (FIXED WING)   \n",
       "2       JEKYLL ISLAND   INCIDENT             NaN                NORMAL CRUISE   \n",
       "3  MC CLELLAN-PALOMAR   INCIDENT           MINOR          LEVEL OFF TOUCHDOWN   \n",
       "4      TROUTDALE MUNI   INCIDENT           MINOR  GROUND TAXI, OTHER AIRPLANE   \n",
       "\n",
       "  Aircraft Make Aircraft Model  ... Total Injuries Aircraft Engine Make  \\\n",
       "0        CESSNA            182  ...              0                  NaN   \n",
       "1         PIPER           PA18  ...              0                  NaN   \n",
       "2         BEECH             35  ...              0                  NaN   \n",
       "3        CESSNA            310  ...              0                  NaN   \n",
       "4        CESSNA            172  ...              0                  NaN   \n",
       "\n",
       "  Aircraft Engine Model Engine Group Code Nbr of Engines  \\\n",
       "0                   NaN               NaN            1.0   \n",
       "1                   NaN               NaN            1.0   \n",
       "2                   NaN               NaN            1.0   \n",
       "3                   NaN               NaN            2.0   \n",
       "4                   NaN               NaN            1.0   \n",
       "\n",
       "                 PIC Certificate Type  PIC Flight Time Total Hrs  \\\n",
       "0                       PRIVATE PILOT                      245.0   \n",
       "1                             STUDENT                      200.0   \n",
       "2                       PRIVATE PILOT                        NaN   \n",
       "3  COMMERCIAL PILOT FLIGHT INSTRUCTOR                     2000.0   \n",
       "4                    COMMERCIAL PILOT                      300.0   \n",
       "\n",
       "   PIC Flight Time Total Make-Model        .1  \n",
       "0                             136.0  0.0  0.0  \n",
       "1                               2.0  0.0  0.0  \n",
       "2                               0.0  0.0  0.0  \n",
       "3                             400.0  0.0  0.0  \n",
       "4                             130.0  0.0  0.0  \n",
       "\n",
       "[5 rows x 27 columns]"
      ]
     },
     "execution_count": 3,
     "metadata": {},
     "output_type": "execute_result"
    }
   ],
   "source": [
    "av_data.head()"
   ]
  },
  {
   "cell_type": "markdown",
   "id": "1f341952",
   "metadata": {},
   "source": [
    "Check the number of rows and columns of the data frame. Code reference: data camp course on data manipulation with pandas."
   ]
  },
  {
   "cell_type": "code",
   "execution_count": 4,
   "id": "08d60c1f",
   "metadata": {},
   "outputs": [
    {
     "data": {
      "text/plain": [
       "(100000, 27)"
      ]
     },
     "execution_count": 4,
     "metadata": {},
     "output_type": "execute_result"
    }
   ],
   "source": [
    "av_data.shape"
   ]
  },
  {
   "cell_type": "markdown",
   "id": "ede1aefe",
   "metadata": {},
   "source": [
    "Data frame Information - Check the names, data type and the number of non-missing values for all the columns in the data frame. Code reference: data camp course on data manipulation with pandas."
   ]
  },
  {
   "cell_type": "code",
   "execution_count": 5,
   "id": "175ccd3c",
   "metadata": {},
   "outputs": [
    {
     "name": "stdout",
     "output_type": "stream",
     "text": [
      "<class 'pandas.core.frame.DataFrame'>\n",
      "RangeIndex: 100000 entries, 0 to 99999\n",
      "Data columns (total 27 columns):\n",
      " #   Column                            Non-Null Count   Dtype  \n",
      "---  ------                            --------------   -----  \n",
      " 0   AIDS Report Number                100000 non-null  object \n",
      " 1   Local Event Date                  100000 non-null  object \n",
      " 2   Event City                        91364 non-null   object \n",
      " 3   Event State                       99234 non-null   object \n",
      " 4   Event Airport                     81398 non-null   object \n",
      " 5   Event Type                        100000 non-null  object \n",
      " 6   Aircraft Damage                   71199 non-null   object \n",
      " 7   Flight Phase                      99758 non-null   object \n",
      " 8   Aircraft Make                     97441 non-null   object \n",
      " 9   Aircraft Model                    96928 non-null   object \n",
      " 10  Aircraft Series                   96927 non-null   object \n",
      " 11  Operator                          29974 non-null   object \n",
      " 12  Primary Flight Type               89906 non-null   object \n",
      " 13  Flight Conduct Code               99858 non-null   object \n",
      " 14  Flight Plan Filed Code            87088 non-null   object \n",
      " 15  Aircraft Registration Nbr         100000 non-null  object \n",
      " 16  Total Fatalities                  100000 non-null  int64  \n",
      " 17  Total Injuries                    100000 non-null  int64  \n",
      " 18  Aircraft Engine Make              36395 non-null   object \n",
      " 19  Aircraft Engine Model             36399 non-null   object \n",
      " 20  Engine Group Code                 30102 non-null   object \n",
      " 21  Nbr of Engines                    93004 non-null   float64\n",
      " 22  PIC Certificate Type              91474 non-null   object \n",
      " 23  PIC Flight Time Total Hrs         79807 non-null   float64\n",
      " 24  PIC Flight Time Total Make-Model  85053 non-null   float64\n",
      " 25                                    83803 non-null   float64\n",
      " 26   .1                               60737 non-null   float64\n",
      "dtypes: float64(5), int64(2), object(20)\n",
      "memory usage: 20.6+ MB\n"
     ]
    }
   ],
   "source": [
    "av_data.info()"
   ]
  },
  {
   "cell_type": "markdown",
   "id": "8ef53cce",
   "metadata": {},
   "source": [
    "The first thing observed from Date frame Information is that the \"Local Event Date\" column which contains the dates of the incident, is of object data type. But it should be of datetime data type."
   ]
  },
  {
   "cell_type": "markdown",
   "id": "0e6b371f",
   "metadata": {},
   "source": [
    "#### Preliminary data cleaning."
   ]
  },
  {
   "cell_type": "markdown",
   "id": "e6b36929",
   "metadata": {},
   "source": [
    "So, the \"Local Event Date\" column has to be converted from object data type to datetime data type. Code reference: https://www.youtube.com/watch?v=yCgJGsg0Xa4"
   ]
  },
  {
   "cell_type": "code",
   "execution_count": 6,
   "id": "95d707b8",
   "metadata": {},
   "outputs": [],
   "source": [
    "av_data['Local Event Date'] = pd.to_datetime(av_data['Local Event Date'])"
   ]
  },
  {
   "cell_type": "markdown",
   "id": "9132a9a8",
   "metadata": {},
   "source": [
    "View data frame information again to check if the changes have been implemented."
   ]
  },
  {
   "cell_type": "code",
   "execution_count": 7,
   "id": "0fa95902",
   "metadata": {},
   "outputs": [
    {
     "name": "stdout",
     "output_type": "stream",
     "text": [
      "<class 'pandas.core.frame.DataFrame'>\n",
      "RangeIndex: 100000 entries, 0 to 99999\n",
      "Data columns (total 27 columns):\n",
      " #   Column                            Non-Null Count   Dtype         \n",
      "---  ------                            --------------   -----         \n",
      " 0   AIDS Report Number                100000 non-null  object        \n",
      " 1   Local Event Date                  100000 non-null  datetime64[ns]\n",
      " 2   Event City                        91364 non-null   object        \n",
      " 3   Event State                       99234 non-null   object        \n",
      " 4   Event Airport                     81398 non-null   object        \n",
      " 5   Event Type                        100000 non-null  object        \n",
      " 6   Aircraft Damage                   71199 non-null   object        \n",
      " 7   Flight Phase                      99758 non-null   object        \n",
      " 8   Aircraft Make                     97441 non-null   object        \n",
      " 9   Aircraft Model                    96928 non-null   object        \n",
      " 10  Aircraft Series                   96927 non-null   object        \n",
      " 11  Operator                          29974 non-null   object        \n",
      " 12  Primary Flight Type               89906 non-null   object        \n",
      " 13  Flight Conduct Code               99858 non-null   object        \n",
      " 14  Flight Plan Filed Code            87088 non-null   object        \n",
      " 15  Aircraft Registration Nbr         100000 non-null  object        \n",
      " 16  Total Fatalities                  100000 non-null  int64         \n",
      " 17  Total Injuries                    100000 non-null  int64         \n",
      " 18  Aircraft Engine Make              36395 non-null   object        \n",
      " 19  Aircraft Engine Model             36399 non-null   object        \n",
      " 20  Engine Group Code                 30102 non-null   object        \n",
      " 21  Nbr of Engines                    93004 non-null   float64       \n",
      " 22  PIC Certificate Type              91474 non-null   object        \n",
      " 23  PIC Flight Time Total Hrs         79807 non-null   float64       \n",
      " 24  PIC Flight Time Total Make-Model  85053 non-null   float64       \n",
      " 25                                    83803 non-null   float64       \n",
      " 26   .1                               60737 non-null   float64       \n",
      "dtypes: datetime64[ns](1), float64(5), int64(2), object(19)\n",
      "memory usage: 20.6+ MB\n"
     ]
    }
   ],
   "source": [
    "av_data.info()"
   ]
  },
  {
   "cell_type": "markdown",
   "id": "1994906d",
   "metadata": {},
   "source": [
    "Have a glance of data frame again to check how the “Local Event Date” column data appears after the change of data type."
   ]
  },
  {
   "cell_type": "code",
   "execution_count": 8,
   "id": "8b7c10e9",
   "metadata": {},
   "outputs": [
    {
     "data": {
      "text/html": [
       "<div>\n",
       "<style scoped>\n",
       "    .dataframe tbody tr th:only-of-type {\n",
       "        vertical-align: middle;\n",
       "    }\n",
       "\n",
       "    .dataframe tbody tr th {\n",
       "        vertical-align: top;\n",
       "    }\n",
       "\n",
       "    .dataframe thead th {\n",
       "        text-align: right;\n",
       "    }\n",
       "</style>\n",
       "<table border=\"1\" class=\"dataframe\">\n",
       "  <thead>\n",
       "    <tr style=\"text-align: right;\">\n",
       "      <th></th>\n",
       "      <th>AIDS Report Number</th>\n",
       "      <th>Local Event Date</th>\n",
       "      <th>Event City</th>\n",
       "      <th>Event State</th>\n",
       "      <th>Event Airport</th>\n",
       "      <th>Event Type</th>\n",
       "      <th>Aircraft Damage</th>\n",
       "      <th>Flight Phase</th>\n",
       "      <th>Aircraft Make</th>\n",
       "      <th>Aircraft Model</th>\n",
       "      <th>...</th>\n",
       "      <th>Total Injuries</th>\n",
       "      <th>Aircraft Engine Make</th>\n",
       "      <th>Aircraft Engine Model</th>\n",
       "      <th>Engine Group Code</th>\n",
       "      <th>Nbr of Engines</th>\n",
       "      <th>PIC Certificate Type</th>\n",
       "      <th>PIC Flight Time Total Hrs</th>\n",
       "      <th>PIC Flight Time Total Make-Model</th>\n",
       "      <th></th>\n",
       "      <th>.1</th>\n",
       "    </tr>\n",
       "  </thead>\n",
       "  <tbody>\n",
       "    <tr>\n",
       "      <th>0</th>\n",
       "      <td>19780101000019I</td>\n",
       "      <td>1978-01-01</td>\n",
       "      <td>WAHPETON</td>\n",
       "      <td>ND</td>\n",
       "      <td>BRECKENRIDGE</td>\n",
       "      <td>INCIDENT</td>\n",
       "      <td>MINOR</td>\n",
       "      <td>ROLL-OUT (FIXED WING)</td>\n",
       "      <td>CESSNA</td>\n",
       "      <td>182</td>\n",
       "      <td>...</td>\n",
       "      <td>0</td>\n",
       "      <td>NaN</td>\n",
       "      <td>NaN</td>\n",
       "      <td>NaN</td>\n",
       "      <td>1.0</td>\n",
       "      <td>PRIVATE PILOT</td>\n",
       "      <td>245.0</td>\n",
       "      <td>136.0</td>\n",
       "      <td>0.0</td>\n",
       "      <td>0.0</td>\n",
       "    </tr>\n",
       "    <tr>\n",
       "      <th>1</th>\n",
       "      <td>19780101000029I</td>\n",
       "      <td>1978-01-01</td>\n",
       "      <td>FAIRBANKS</td>\n",
       "      <td>AK</td>\n",
       "      <td>FAIRBANKS INTL</td>\n",
       "      <td>INCIDENT</td>\n",
       "      <td>MINOR</td>\n",
       "      <td>ROLL-OUT (FIXED WING)</td>\n",
       "      <td>PIPER</td>\n",
       "      <td>PA18</td>\n",
       "      <td>...</td>\n",
       "      <td>0</td>\n",
       "      <td>NaN</td>\n",
       "      <td>NaN</td>\n",
       "      <td>NaN</td>\n",
       "      <td>1.0</td>\n",
       "      <td>STUDENT</td>\n",
       "      <td>200.0</td>\n",
       "      <td>2.0</td>\n",
       "      <td>0.0</td>\n",
       "      <td>0.0</td>\n",
       "    </tr>\n",
       "    <tr>\n",
       "      <th>2</th>\n",
       "      <td>19780101000039I</td>\n",
       "      <td>1978-01-01</td>\n",
       "      <td>BRUNSWICK</td>\n",
       "      <td>GA</td>\n",
       "      <td>JEKYLL ISLAND</td>\n",
       "      <td>INCIDENT</td>\n",
       "      <td>NaN</td>\n",
       "      <td>NORMAL CRUISE</td>\n",
       "      <td>BEECH</td>\n",
       "      <td>35</td>\n",
       "      <td>...</td>\n",
       "      <td>0</td>\n",
       "      <td>NaN</td>\n",
       "      <td>NaN</td>\n",
       "      <td>NaN</td>\n",
       "      <td>1.0</td>\n",
       "      <td>PRIVATE PILOT</td>\n",
       "      <td>NaN</td>\n",
       "      <td>0.0</td>\n",
       "      <td>0.0</td>\n",
       "      <td>0.0</td>\n",
       "    </tr>\n",
       "    <tr>\n",
       "      <th>3</th>\n",
       "      <td>19780101000049I</td>\n",
       "      <td>1978-01-01</td>\n",
       "      <td>CARLSBAD</td>\n",
       "      <td>CA</td>\n",
       "      <td>MC CLELLAN-PALOMAR</td>\n",
       "      <td>INCIDENT</td>\n",
       "      <td>MINOR</td>\n",
       "      <td>LEVEL OFF TOUCHDOWN</td>\n",
       "      <td>CESSNA</td>\n",
       "      <td>310</td>\n",
       "      <td>...</td>\n",
       "      <td>0</td>\n",
       "      <td>NaN</td>\n",
       "      <td>NaN</td>\n",
       "      <td>NaN</td>\n",
       "      <td>2.0</td>\n",
       "      <td>COMMERCIAL PILOT FLIGHT INSTRUCTOR</td>\n",
       "      <td>2000.0</td>\n",
       "      <td>400.0</td>\n",
       "      <td>0.0</td>\n",
       "      <td>0.0</td>\n",
       "    </tr>\n",
       "    <tr>\n",
       "      <th>4</th>\n",
       "      <td>19780101000059I</td>\n",
       "      <td>1978-01-01</td>\n",
       "      <td>TROUTDALE</td>\n",
       "      <td>OR</td>\n",
       "      <td>TROUTDALE MUNI</td>\n",
       "      <td>INCIDENT</td>\n",
       "      <td>MINOR</td>\n",
       "      <td>GROUND TAXI, OTHER AIRPLANE</td>\n",
       "      <td>CESSNA</td>\n",
       "      <td>172</td>\n",
       "      <td>...</td>\n",
       "      <td>0</td>\n",
       "      <td>NaN</td>\n",
       "      <td>NaN</td>\n",
       "      <td>NaN</td>\n",
       "      <td>1.0</td>\n",
       "      <td>COMMERCIAL PILOT</td>\n",
       "      <td>300.0</td>\n",
       "      <td>130.0</td>\n",
       "      <td>0.0</td>\n",
       "      <td>0.0</td>\n",
       "    </tr>\n",
       "  </tbody>\n",
       "</table>\n",
       "<p>5 rows × 27 columns</p>\n",
       "</div>"
      ],
      "text/plain": [
       "  AIDS Report Number Local Event Date Event City Event State  \\\n",
       "0    19780101000019I       1978-01-01   WAHPETON          ND   \n",
       "1    19780101000029I       1978-01-01  FAIRBANKS          AK   \n",
       "2    19780101000039I       1978-01-01  BRUNSWICK          GA   \n",
       "3    19780101000049I       1978-01-01   CARLSBAD          CA   \n",
       "4    19780101000059I       1978-01-01  TROUTDALE          OR   \n",
       "\n",
       "        Event Airport Event Type Aircraft Damage                 Flight Phase  \\\n",
       "0        BRECKENRIDGE   INCIDENT           MINOR        ROLL-OUT (FIXED WING)   \n",
       "1      FAIRBANKS INTL   INCIDENT           MINOR        ROLL-OUT (FIXED WING)   \n",
       "2       JEKYLL ISLAND   INCIDENT             NaN                NORMAL CRUISE   \n",
       "3  MC CLELLAN-PALOMAR   INCIDENT           MINOR          LEVEL OFF TOUCHDOWN   \n",
       "4      TROUTDALE MUNI   INCIDENT           MINOR  GROUND TAXI, OTHER AIRPLANE   \n",
       "\n",
       "  Aircraft Make Aircraft Model  ... Total Injuries Aircraft Engine Make  \\\n",
       "0        CESSNA            182  ...              0                  NaN   \n",
       "1         PIPER           PA18  ...              0                  NaN   \n",
       "2         BEECH             35  ...              0                  NaN   \n",
       "3        CESSNA            310  ...              0                  NaN   \n",
       "4        CESSNA            172  ...              0                  NaN   \n",
       "\n",
       "  Aircraft Engine Model Engine Group Code Nbr of Engines  \\\n",
       "0                   NaN               NaN            1.0   \n",
       "1                   NaN               NaN            1.0   \n",
       "2                   NaN               NaN            1.0   \n",
       "3                   NaN               NaN            2.0   \n",
       "4                   NaN               NaN            1.0   \n",
       "\n",
       "                 PIC Certificate Type  PIC Flight Time Total Hrs  \\\n",
       "0                       PRIVATE PILOT                      245.0   \n",
       "1                             STUDENT                      200.0   \n",
       "2                       PRIVATE PILOT                        NaN   \n",
       "3  COMMERCIAL PILOT FLIGHT INSTRUCTOR                     2000.0   \n",
       "4                    COMMERCIAL PILOT                      300.0   \n",
       "\n",
       "   PIC Flight Time Total Make-Model        .1  \n",
       "0                             136.0  0.0  0.0  \n",
       "1                               2.0  0.0  0.0  \n",
       "2                               0.0  0.0  0.0  \n",
       "3                             400.0  0.0  0.0  \n",
       "4                             130.0  0.0  0.0  \n",
       "\n",
       "[5 rows x 27 columns]"
      ]
     },
     "execution_count": 8,
     "metadata": {},
     "output_type": "execute_result"
    }
   ],
   "source": [
    "av_data.head()"
   ]
  },
  {
   "cell_type": "markdown",
   "id": "a8c9e254",
   "metadata": {},
   "source": [
    "Check missing values. Code reference: https://www.kaggle.com/itssuru/eda-cristiano-ronaldo-s-career"
   ]
  },
  {
   "cell_type": "code",
   "execution_count": 9,
   "id": "fadabc4b",
   "metadata": {},
   "outputs": [
    {
     "data": {
      "text/html": [
       "<div>\n",
       "<style scoped>\n",
       "    .dataframe tbody tr th:only-of-type {\n",
       "        vertical-align: middle;\n",
       "    }\n",
       "\n",
       "    .dataframe tbody tr th {\n",
       "        vertical-align: top;\n",
       "    }\n",
       "\n",
       "    .dataframe thead th {\n",
       "        text-align: right;\n",
       "    }\n",
       "</style>\n",
       "<table border=\"1\" class=\"dataframe\">\n",
       "  <thead>\n",
       "    <tr style=\"text-align: right;\">\n",
       "      <th></th>\n",
       "      <th>total_missing</th>\n",
       "      <th>perc_missing</th>\n",
       "    </tr>\n",
       "  </thead>\n",
       "  <tbody>\n",
       "    <tr>\n",
       "      <th>AIDS Report Number</th>\n",
       "      <td>0</td>\n",
       "      <td>0.000</td>\n",
       "    </tr>\n",
       "    <tr>\n",
       "      <th>Local Event Date</th>\n",
       "      <td>0</td>\n",
       "      <td>0.000</td>\n",
       "    </tr>\n",
       "    <tr>\n",
       "      <th>Event City</th>\n",
       "      <td>8636</td>\n",
       "      <td>8.636</td>\n",
       "    </tr>\n",
       "    <tr>\n",
       "      <th>Event State</th>\n",
       "      <td>766</td>\n",
       "      <td>0.766</td>\n",
       "    </tr>\n",
       "    <tr>\n",
       "      <th>Event Airport</th>\n",
       "      <td>18602</td>\n",
       "      <td>18.602</td>\n",
       "    </tr>\n",
       "    <tr>\n",
       "      <th>Event Type</th>\n",
       "      <td>0</td>\n",
       "      <td>0.000</td>\n",
       "    </tr>\n",
       "    <tr>\n",
       "      <th>Aircraft Damage</th>\n",
       "      <td>28801</td>\n",
       "      <td>28.801</td>\n",
       "    </tr>\n",
       "    <tr>\n",
       "      <th>Flight Phase</th>\n",
       "      <td>242</td>\n",
       "      <td>0.242</td>\n",
       "    </tr>\n",
       "    <tr>\n",
       "      <th>Aircraft Make</th>\n",
       "      <td>2559</td>\n",
       "      <td>2.559</td>\n",
       "    </tr>\n",
       "    <tr>\n",
       "      <th>Aircraft Model</th>\n",
       "      <td>3072</td>\n",
       "      <td>3.072</td>\n",
       "    </tr>\n",
       "    <tr>\n",
       "      <th>Aircraft Series</th>\n",
       "      <td>3073</td>\n",
       "      <td>3.073</td>\n",
       "    </tr>\n",
       "    <tr>\n",
       "      <th>Operator</th>\n",
       "      <td>70026</td>\n",
       "      <td>70.026</td>\n",
       "    </tr>\n",
       "    <tr>\n",
       "      <th>Primary Flight Type</th>\n",
       "      <td>10094</td>\n",
       "      <td>10.094</td>\n",
       "    </tr>\n",
       "    <tr>\n",
       "      <th>Flight Conduct Code</th>\n",
       "      <td>142</td>\n",
       "      <td>0.142</td>\n",
       "    </tr>\n",
       "    <tr>\n",
       "      <th>Flight Plan Filed Code</th>\n",
       "      <td>12912</td>\n",
       "      <td>12.912</td>\n",
       "    </tr>\n",
       "    <tr>\n",
       "      <th>Aircraft Registration Nbr</th>\n",
       "      <td>0</td>\n",
       "      <td>0.000</td>\n",
       "    </tr>\n",
       "    <tr>\n",
       "      <th>Total Fatalities</th>\n",
       "      <td>0</td>\n",
       "      <td>0.000</td>\n",
       "    </tr>\n",
       "    <tr>\n",
       "      <th>Total Injuries</th>\n",
       "      <td>0</td>\n",
       "      <td>0.000</td>\n",
       "    </tr>\n",
       "    <tr>\n",
       "      <th>Aircraft Engine Make</th>\n",
       "      <td>63605</td>\n",
       "      <td>63.605</td>\n",
       "    </tr>\n",
       "    <tr>\n",
       "      <th>Aircraft Engine Model</th>\n",
       "      <td>63601</td>\n",
       "      <td>63.601</td>\n",
       "    </tr>\n",
       "    <tr>\n",
       "      <th>Engine Group Code</th>\n",
       "      <td>69898</td>\n",
       "      <td>69.898</td>\n",
       "    </tr>\n",
       "    <tr>\n",
       "      <th>Nbr of Engines</th>\n",
       "      <td>6996</td>\n",
       "      <td>6.996</td>\n",
       "    </tr>\n",
       "    <tr>\n",
       "      <th>PIC Certificate Type</th>\n",
       "      <td>8526</td>\n",
       "      <td>8.526</td>\n",
       "    </tr>\n",
       "    <tr>\n",
       "      <th>PIC Flight Time Total Hrs</th>\n",
       "      <td>20193</td>\n",
       "      <td>20.193</td>\n",
       "    </tr>\n",
       "    <tr>\n",
       "      <th>PIC Flight Time Total Make-Model</th>\n",
       "      <td>14947</td>\n",
       "      <td>14.947</td>\n",
       "    </tr>\n",
       "    <tr>\n",
       "      <th></th>\n",
       "      <td>16197</td>\n",
       "      <td>16.197</td>\n",
       "    </tr>\n",
       "    <tr>\n",
       "      <th>.1</th>\n",
       "      <td>39263</td>\n",
       "      <td>39.263</td>\n",
       "    </tr>\n",
       "  </tbody>\n",
       "</table>\n",
       "</div>"
      ],
      "text/plain": [
       "                                  total_missing  perc_missing\n",
       "AIDS Report Number                            0         0.000\n",
       "Local Event Date                              0         0.000\n",
       "Event City                                 8636         8.636\n",
       "Event State                                 766         0.766\n",
       "Event Airport                             18602        18.602\n",
       "Event Type                                    0         0.000\n",
       "Aircraft Damage                           28801        28.801\n",
       "Flight Phase                                242         0.242\n",
       "Aircraft Make                              2559         2.559\n",
       "Aircraft Model                             3072         3.072\n",
       "Aircraft Series                            3073         3.073\n",
       "Operator                                  70026        70.026\n",
       "Primary Flight Type                       10094        10.094\n",
       "Flight Conduct Code                         142         0.142\n",
       "Flight Plan Filed Code                    12912        12.912\n",
       "Aircraft Registration Nbr                     0         0.000\n",
       "Total Fatalities                              0         0.000\n",
       "Total Injuries                                0         0.000\n",
       "Aircraft Engine Make                      63605        63.605\n",
       "Aircraft Engine Model                     63601        63.601\n",
       "Engine Group Code                         69898        69.898\n",
       "Nbr of Engines                             6996         6.996\n",
       "PIC Certificate Type                       8526         8.526\n",
       "PIC Flight Time Total Hrs                 20193        20.193\n",
       "PIC Flight Time Total Make-Model          14947        14.947\n",
       "                                          16197        16.197\n",
       " .1                                       39263        39.263"
      ]
     },
     "execution_count": 9,
     "metadata": {},
     "output_type": "execute_result"
    }
   ],
   "source": [
    "missing_originaldata = pd.DataFrame({'total_missing': av_data.isnull().sum(), \n",
    "                             'perc_missing': (av_data.isnull().sum()/av_data.shape[0])*100})\n",
    "missing_originaldata"
   ]
  },
  {
   "cell_type": "markdown",
   "id": "e11aa8a3",
   "metadata": {},
   "source": [
    "#### Exploratory data analysis."
   ]
  },
  {
   "cell_type": "markdown",
   "id": "aadfd77a",
   "metadata": {},
   "source": [
    "##### Data preparation"
   ]
  },
  {
   "cell_type": "markdown",
   "id": "ba889503",
   "metadata": {},
   "source": [
    "Checking of missing values has shown that there are a lot of missing values in many columns and also the names of the last two columns are also missing. To confirm, column names of the data frame are to be checked exclusively."
   ]
  },
  {
   "cell_type": "markdown",
   "id": "e424390c",
   "metadata": {},
   "source": [
    "Check column names of the data frame. Code reference: data camp course on data manipulation with pandas."
   ]
  },
  {
   "cell_type": "code",
   "execution_count": 10,
   "id": "88e87f32",
   "metadata": {},
   "outputs": [
    {
     "data": {
      "text/plain": [
       "Index(['AIDS Report Number', 'Local Event Date', 'Event City', 'Event State',\n",
       "       'Event Airport', 'Event Type', 'Aircraft Damage', 'Flight Phase',\n",
       "       'Aircraft Make', 'Aircraft Model', 'Aircraft Series', 'Operator',\n",
       "       'Primary Flight Type', 'Flight Conduct Code', 'Flight Plan Filed Code',\n",
       "       'Aircraft Registration Nbr', 'Total Fatalities', 'Total Injuries',\n",
       "       'Aircraft Engine Make', 'Aircraft Engine Model', 'Engine Group Code',\n",
       "       'Nbr of Engines', 'PIC Certificate Type', 'PIC Flight Time Total Hrs',\n",
       "       'PIC Flight Time Total Make-Model', ' ', ' .1'],\n",
       "      dtype='object')"
      ]
     },
     "execution_count": 10,
     "metadata": {},
     "output_type": "execute_result"
    }
   ],
   "source": [
    "av_data.columns"
   ]
  },
  {
   "cell_type": "markdown",
   "id": "666f6166",
   "metadata": {},
   "source": [
    "So, it is confirmed that the names of last two columns are missing. Temporary names of those two columns are to be assigned in order to make them callable. Code Reference: https://www.youtube.com/watch?v=0uBirYFhizE"
   ]
  },
  {
   "cell_type": "code",
   "execution_count": 11,
   "id": "dc0801e1",
   "metadata": {},
   "outputs": [],
   "source": [
    "av_data.rename(columns={' ':'UC1',' .1':'UC2'}, inplace=True)"
   ]
  },
  {
   "cell_type": "markdown",
   "id": "eab6324c",
   "metadata": {},
   "source": [
    "Check if the changes in column names have been implemented."
   ]
  },
  {
   "cell_type": "code",
   "execution_count": 12,
   "id": "7d5d5be9",
   "metadata": {},
   "outputs": [
    {
     "data": {
      "text/plain": [
       "Index(['AIDS Report Number', 'Local Event Date', 'Event City', 'Event State',\n",
       "       'Event Airport', 'Event Type', 'Aircraft Damage', 'Flight Phase',\n",
       "       'Aircraft Make', 'Aircraft Model', 'Aircraft Series', 'Operator',\n",
       "       'Primary Flight Type', 'Flight Conduct Code', 'Flight Plan Filed Code',\n",
       "       'Aircraft Registration Nbr', 'Total Fatalities', 'Total Injuries',\n",
       "       'Aircraft Engine Make', 'Aircraft Engine Model', 'Engine Group Code',\n",
       "       'Nbr of Engines', 'PIC Certificate Type', 'PIC Flight Time Total Hrs',\n",
       "       'PIC Flight Time Total Make-Model', 'UC1', 'UC2'],\n",
       "      dtype='object')"
      ]
     },
     "execution_count": 12,
     "metadata": {},
     "output_type": "execute_result"
    }
   ],
   "source": [
    "av_data.columns"
   ]
  },
  {
   "cell_type": "markdown",
   "id": "480c9493",
   "metadata": {},
   "source": [
    "Explore the data of the penultimate column. Code reference: https://www.kaggle.com/itssuru/eda-cristiano-ronaldo-s-career"
   ]
  },
  {
   "cell_type": "code",
   "execution_count": 13,
   "id": "a5749885",
   "metadata": {},
   "outputs": [
    {
     "data": {
      "text/plain": [
       "0.0        20908\n",
       "30.0        3128\n",
       "20.0        3112\n",
       "10.0        2386\n",
       "50.0        2358\n",
       "           ...  \n",
       "465.0          1\n",
       "948.0          1\n",
       "456.0          1\n",
       "458.0          1\n",
       "99999.0        1\n",
       "Name: UC1, Length: 458, dtype: int64"
      ]
     },
     "execution_count": 13,
     "metadata": {},
     "output_type": "execute_result"
    }
   ],
   "source": [
    "av_data.UC1.value_counts()"
   ]
  },
  {
   "cell_type": "markdown",
   "id": "17c44a9c",
   "metadata": {},
   "source": [
    "With 458 different values, the data in this column is difficult to correlate and understand the relationship with other columns in the data frame and there is no further information about this column. Hence it is better to drop this column."
   ]
  },
  {
   "cell_type": "markdown",
   "id": "b18746b8",
   "metadata": {},
   "source": [
    "Explore the date of the last column."
   ]
  },
  {
   "cell_type": "code",
   "execution_count": 14,
   "id": "53096ce1",
   "metadata": {},
   "outputs": [
    {
     "data": {
      "text/plain": [
       "0.0      19796\n",
       "20.0      2513\n",
       "10.0      2319\n",
       "30.0      2255\n",
       "15.0      1975\n",
       "         ...  \n",
       "356.0        1\n",
       "389.0        1\n",
       "753.0        1\n",
       "337.0        1\n",
       "715.0        1\n",
       "Name: UC2, Length: 390, dtype: int64"
      ]
     },
     "execution_count": 14,
     "metadata": {},
     "output_type": "execute_result"
    }
   ],
   "source": [
    "av_data.UC2.value_counts()"
   ]
  },
  {
   "cell_type": "markdown",
   "id": "e6bde6d9",
   "metadata": {},
   "source": [
    "With 390 different values, the data in this column is difficult to correlate and understand the relationship with other columns in the data frame and there is no further information about this column. Hence it is better to drop this column."
   ]
  },
  {
   "cell_type": "markdown",
   "id": "733599f8",
   "metadata": {},
   "source": [
    "Drop the penultimate column of the Data Frame. Code reference: https://www.kaggle.com/itssuru/eda-cristiano-ronaldo-s-career"
   ]
  },
  {
   "cell_type": "code",
   "execution_count": 15,
   "id": "d942bd18",
   "metadata": {},
   "outputs": [],
   "source": [
    "av_data.drop('UC1',axis=1,inplace=True)"
   ]
  },
  {
   "cell_type": "markdown",
   "id": "fbad5b78",
   "metadata": {},
   "source": [
    "Drop the last column of the Data Frame."
   ]
  },
  {
   "cell_type": "code",
   "execution_count": 16,
   "id": "55d68fef",
   "metadata": {},
   "outputs": [],
   "source": [
    "av_data.drop('UC2',axis=1,inplace=True)"
   ]
  },
  {
   "cell_type": "markdown",
   "id": "738decdf",
   "metadata": {},
   "source": [
    "Check the change in number of columns of the data frame."
   ]
  },
  {
   "cell_type": "code",
   "execution_count": 17,
   "id": "ed9cd01e",
   "metadata": {},
   "outputs": [
    {
     "data": {
      "text/plain": [
       "(100000, 25)"
      ]
     },
     "execution_count": 17,
     "metadata": {},
     "output_type": "execute_result"
    }
   ],
   "source": [
    "av_data.shape"
   ]
  },
  {
   "cell_type": "markdown",
   "id": "f74cc3ad",
   "metadata": {},
   "source": [
    "Number of columns of the data frame changed from 27 to 25."
   ]
  },
  {
   "cell_type": "markdown",
   "id": "3da3bda2",
   "metadata": {},
   "source": [
    "Explore all columns of the data frame and drop unnecessary columns."
   ]
  },
  {
   "cell_type": "markdown",
   "id": "c5c87b61",
   "metadata": {},
   "source": [
    "Explore the first column of the data frame."
   ]
  },
  {
   "cell_type": "code",
   "execution_count": 18,
   "id": "aef1a8c7",
   "metadata": {},
   "outputs": [
    {
     "data": {
      "text/plain": [
       "19780101000019I    1\n",
       "19961008045849I    1\n",
       "19961012040269I    1\n",
       "19961012038109I    1\n",
       "19961012037649I    1\n",
       "                  ..\n",
       "19861001064479I    1\n",
       "19861001063409I    1\n",
       "19861001056879I    1\n",
       "19861001056419I    1\n",
       "20151218024182I    1\n",
       "Name: AIDS Report Number, Length: 100000, dtype: int64"
      ]
     },
     "execution_count": 18,
     "metadata": {},
     "output_type": "execute_result"
    }
   ],
   "source": [
    "av_data['AIDS Report Number'].value_counts()"
   ]
  },
  {
   "cell_type": "markdown",
   "id": "8c74cbca",
   "metadata": {},
   "source": [
    "It can be seen that each observation of this column is a unique ID number and it cannot be used for any further analysis. Hence it is better to drop this column."
   ]
  },
  {
   "cell_type": "code",
   "execution_count": 19,
   "id": "cbeefcca",
   "metadata": {},
   "outputs": [],
   "source": [
    "av_data.drop('AIDS Report Number',axis=1,inplace=True)"
   ]
  },
  {
   "cell_type": "markdown",
   "id": "1847a142",
   "metadata": {},
   "source": [
    "Check the change in number of columns of the data frame."
   ]
  },
  {
   "cell_type": "code",
   "execution_count": 20,
   "id": "59798bd5",
   "metadata": {},
   "outputs": [
    {
     "data": {
      "text/plain": [
       "(100000, 24)"
      ]
     },
     "execution_count": 20,
     "metadata": {},
     "output_type": "execute_result"
    }
   ],
   "source": [
    "av_data.shape"
   ]
  },
  {
   "cell_type": "markdown",
   "id": "2759096f",
   "metadata": {},
   "source": [
    "Changes in the column numbers are reflected."
   ]
  },
  {
   "cell_type": "markdown",
   "id": "c9b7e0f5",
   "metadata": {},
   "source": [
    "Explore “Local Event Date” column."
   ]
  },
  {
   "cell_type": "code",
   "execution_count": 21,
   "id": "4206bda5",
   "metadata": {},
   "outputs": [
    {
     "data": {
      "text/plain": [
       "1996-06-01    31\n",
       "1980-07-19    29\n",
       "1978-06-25    29\n",
       "1979-07-29    28\n",
       "1978-03-10    28\n",
       "              ..\n",
       "2011-09-19     1\n",
       "2014-10-18     1\n",
       "1984-10-19     1\n",
       "2007-05-17     1\n",
       "2008-11-08     1\n",
       "Name: Local Event Date, Length: 13736, dtype: int64"
      ]
     },
     "execution_count": 21,
     "metadata": {},
     "output_type": "execute_result"
    }
   ],
   "source": [
    "av_data['Local Event Date'].value_counts()"
   ]
  },
  {
   "cell_type": "markdown",
   "id": "c4e54292",
   "metadata": {},
   "source": [
    "With 13736 unique values this column will be difficult to plot and do further exploratory analysis. A better idea would be to create a column containing only year’s so that the number of unique values will be low enough that it can be plotted easily and also explored further."
   ]
  },
  {
   "cell_type": "markdown",
   "id": "776203c2",
   "metadata": {},
   "source": [
    "##### Data derivation"
   ]
  },
  {
   "cell_type": "markdown",
   "id": "bdf00ec8",
   "metadata": {},
   "source": [
    "Create a new column from “Local Event Date” column that would contain only the year and not the date and month.Code reference: https://www.youtube.com/watch?v=yCgJGsg0Xa4"
   ]
  },
  {
   "cell_type": "code",
   "execution_count": 22,
   "id": "114d5c3f",
   "metadata": {},
   "outputs": [],
   "source": [
    "av_data['Year'] = av_data['Local Event Date'].dt.year"
   ]
  },
  {
   "cell_type": "markdown",
   "id": "1aed316f",
   "metadata": {},
   "source": [
    "Check the addition of column in the Data frame."
   ]
  },
  {
   "cell_type": "code",
   "execution_count": 23,
   "id": "c13ce7e3",
   "metadata": {},
   "outputs": [
    {
     "data": {
      "text/html": [
       "<div>\n",
       "<style scoped>\n",
       "    .dataframe tbody tr th:only-of-type {\n",
       "        vertical-align: middle;\n",
       "    }\n",
       "\n",
       "    .dataframe tbody tr th {\n",
       "        vertical-align: top;\n",
       "    }\n",
       "\n",
       "    .dataframe thead th {\n",
       "        text-align: right;\n",
       "    }\n",
       "</style>\n",
       "<table border=\"1\" class=\"dataframe\">\n",
       "  <thead>\n",
       "    <tr style=\"text-align: right;\">\n",
       "      <th></th>\n",
       "      <th>Local Event Date</th>\n",
       "      <th>Event City</th>\n",
       "      <th>Event State</th>\n",
       "      <th>Event Airport</th>\n",
       "      <th>Event Type</th>\n",
       "      <th>Aircraft Damage</th>\n",
       "      <th>Flight Phase</th>\n",
       "      <th>Aircraft Make</th>\n",
       "      <th>Aircraft Model</th>\n",
       "      <th>Aircraft Series</th>\n",
       "      <th>...</th>\n",
       "      <th>Total Fatalities</th>\n",
       "      <th>Total Injuries</th>\n",
       "      <th>Aircraft Engine Make</th>\n",
       "      <th>Aircraft Engine Model</th>\n",
       "      <th>Engine Group Code</th>\n",
       "      <th>Nbr of Engines</th>\n",
       "      <th>PIC Certificate Type</th>\n",
       "      <th>PIC Flight Time Total Hrs</th>\n",
       "      <th>PIC Flight Time Total Make-Model</th>\n",
       "      <th>Year</th>\n",
       "    </tr>\n",
       "  </thead>\n",
       "  <tbody>\n",
       "    <tr>\n",
       "      <th>0</th>\n",
       "      <td>1978-01-01</td>\n",
       "      <td>WAHPETON</td>\n",
       "      <td>ND</td>\n",
       "      <td>BRECKENRIDGE</td>\n",
       "      <td>INCIDENT</td>\n",
       "      <td>MINOR</td>\n",
       "      <td>ROLL-OUT (FIXED WING)</td>\n",
       "      <td>CESSNA</td>\n",
       "      <td>182</td>\n",
       "      <td>UNDESIGNATED SERIES</td>\n",
       "      <td>...</td>\n",
       "      <td>0</td>\n",
       "      <td>0</td>\n",
       "      <td>NaN</td>\n",
       "      <td>NaN</td>\n",
       "      <td>NaN</td>\n",
       "      <td>1.0</td>\n",
       "      <td>PRIVATE PILOT</td>\n",
       "      <td>245.0</td>\n",
       "      <td>136.0</td>\n",
       "      <td>1978</td>\n",
       "    </tr>\n",
       "    <tr>\n",
       "      <th>1</th>\n",
       "      <td>1978-01-01</td>\n",
       "      <td>FAIRBANKS</td>\n",
       "      <td>AK</td>\n",
       "      <td>FAIRBANKS INTL</td>\n",
       "      <td>INCIDENT</td>\n",
       "      <td>MINOR</td>\n",
       "      <td>ROLL-OUT (FIXED WING)</td>\n",
       "      <td>PIPER</td>\n",
       "      <td>PA18</td>\n",
       "      <td>150</td>\n",
       "      <td>...</td>\n",
       "      <td>0</td>\n",
       "      <td>0</td>\n",
       "      <td>NaN</td>\n",
       "      <td>NaN</td>\n",
       "      <td>NaN</td>\n",
       "      <td>1.0</td>\n",
       "      <td>STUDENT</td>\n",
       "      <td>200.0</td>\n",
       "      <td>2.0</td>\n",
       "      <td>1978</td>\n",
       "    </tr>\n",
       "    <tr>\n",
       "      <th>2</th>\n",
       "      <td>1978-01-01</td>\n",
       "      <td>BRUNSWICK</td>\n",
       "      <td>GA</td>\n",
       "      <td>JEKYLL ISLAND</td>\n",
       "      <td>INCIDENT</td>\n",
       "      <td>NaN</td>\n",
       "      <td>NORMAL CRUISE</td>\n",
       "      <td>BEECH</td>\n",
       "      <td>35</td>\n",
       "      <td>B35</td>\n",
       "      <td>...</td>\n",
       "      <td>0</td>\n",
       "      <td>0</td>\n",
       "      <td>NaN</td>\n",
       "      <td>NaN</td>\n",
       "      <td>NaN</td>\n",
       "      <td>1.0</td>\n",
       "      <td>PRIVATE PILOT</td>\n",
       "      <td>NaN</td>\n",
       "      <td>0.0</td>\n",
       "      <td>1978</td>\n",
       "    </tr>\n",
       "    <tr>\n",
       "      <th>3</th>\n",
       "      <td>1978-01-01</td>\n",
       "      <td>CARLSBAD</td>\n",
       "      <td>CA</td>\n",
       "      <td>MC CLELLAN-PALOMAR</td>\n",
       "      <td>INCIDENT</td>\n",
       "      <td>MINOR</td>\n",
       "      <td>LEVEL OFF TOUCHDOWN</td>\n",
       "      <td>CESSNA</td>\n",
       "      <td>310</td>\n",
       "      <td>L</td>\n",
       "      <td>...</td>\n",
       "      <td>0</td>\n",
       "      <td>0</td>\n",
       "      <td>NaN</td>\n",
       "      <td>NaN</td>\n",
       "      <td>NaN</td>\n",
       "      <td>2.0</td>\n",
       "      <td>COMMERCIAL PILOT FLIGHT INSTRUCTOR</td>\n",
       "      <td>2000.0</td>\n",
       "      <td>400.0</td>\n",
       "      <td>1978</td>\n",
       "    </tr>\n",
       "    <tr>\n",
       "      <th>4</th>\n",
       "      <td>1978-01-01</td>\n",
       "      <td>TROUTDALE</td>\n",
       "      <td>OR</td>\n",
       "      <td>TROUTDALE MUNI</td>\n",
       "      <td>INCIDENT</td>\n",
       "      <td>MINOR</td>\n",
       "      <td>GROUND TAXI, OTHER AIRPLANE</td>\n",
       "      <td>CESSNA</td>\n",
       "      <td>172</td>\n",
       "      <td>UNDESIGNATED SERIES</td>\n",
       "      <td>...</td>\n",
       "      <td>0</td>\n",
       "      <td>0</td>\n",
       "      <td>NaN</td>\n",
       "      <td>NaN</td>\n",
       "      <td>NaN</td>\n",
       "      <td>1.0</td>\n",
       "      <td>COMMERCIAL PILOT</td>\n",
       "      <td>300.0</td>\n",
       "      <td>130.0</td>\n",
       "      <td>1978</td>\n",
       "    </tr>\n",
       "  </tbody>\n",
       "</table>\n",
       "<p>5 rows × 25 columns</p>\n",
       "</div>"
      ],
      "text/plain": [
       "  Local Event Date Event City Event State       Event Airport Event Type  \\\n",
       "0       1978-01-01   WAHPETON          ND        BRECKENRIDGE   INCIDENT   \n",
       "1       1978-01-01  FAIRBANKS          AK      FAIRBANKS INTL   INCIDENT   \n",
       "2       1978-01-01  BRUNSWICK          GA       JEKYLL ISLAND   INCIDENT   \n",
       "3       1978-01-01   CARLSBAD          CA  MC CLELLAN-PALOMAR   INCIDENT   \n",
       "4       1978-01-01  TROUTDALE          OR      TROUTDALE MUNI   INCIDENT   \n",
       "\n",
       "  Aircraft Damage                 Flight Phase Aircraft Make Aircraft Model  \\\n",
       "0           MINOR        ROLL-OUT (FIXED WING)        CESSNA            182   \n",
       "1           MINOR        ROLL-OUT (FIXED WING)         PIPER           PA18   \n",
       "2             NaN                NORMAL CRUISE         BEECH             35   \n",
       "3           MINOR          LEVEL OFF TOUCHDOWN        CESSNA            310   \n",
       "4           MINOR  GROUND TAXI, OTHER AIRPLANE        CESSNA            172   \n",
       "\n",
       "       Aircraft Series  ... Total Fatalities Total Injuries  \\\n",
       "0  UNDESIGNATED SERIES  ...                0              0   \n",
       "1                  150  ...                0              0   \n",
       "2                  B35  ...                0              0   \n",
       "3                    L  ...                0              0   \n",
       "4  UNDESIGNATED SERIES  ...                0              0   \n",
       "\n",
       "  Aircraft Engine Make Aircraft Engine Model Engine Group Code  \\\n",
       "0                  NaN                   NaN               NaN   \n",
       "1                  NaN                   NaN               NaN   \n",
       "2                  NaN                   NaN               NaN   \n",
       "3                  NaN                   NaN               NaN   \n",
       "4                  NaN                   NaN               NaN   \n",
       "\n",
       "   Nbr of Engines                PIC Certificate Type  \\\n",
       "0             1.0                       PRIVATE PILOT   \n",
       "1             1.0                             STUDENT   \n",
       "2             1.0                       PRIVATE PILOT   \n",
       "3             2.0  COMMERCIAL PILOT FLIGHT INSTRUCTOR   \n",
       "4             1.0                    COMMERCIAL PILOT   \n",
       "\n",
       "  PIC Flight Time Total Hrs PIC Flight Time Total Make-Model  Year  \n",
       "0                     245.0                            136.0  1978  \n",
       "1                     200.0                              2.0  1978  \n",
       "2                       NaN                              0.0  1978  \n",
       "3                    2000.0                            400.0  1978  \n",
       "4                     300.0                            130.0  1978  \n",
       "\n",
       "[5 rows x 25 columns]"
      ]
     },
     "execution_count": 23,
     "metadata": {},
     "output_type": "execute_result"
    }
   ],
   "source": [
    "av_data.head()"
   ]
  },
  {
   "cell_type": "code",
   "execution_count": 24,
   "id": "a6dd58b6",
   "metadata": {},
   "outputs": [
    {
     "data": {
      "text/plain": [
       "(100000, 25)"
      ]
     },
     "execution_count": 24,
     "metadata": {},
     "output_type": "execute_result"
    }
   ],
   "source": [
    "av_data.shape"
   ]
  },
  {
   "cell_type": "markdown",
   "id": "713a074f",
   "metadata": {},
   "source": [
    "##### Data preparation"
   ]
  },
  {
   "cell_type": "markdown",
   "id": "a7555346",
   "metadata": {},
   "source": [
    "Since the year column is created the “local event date column can be dropped."
   ]
  },
  {
   "cell_type": "code",
   "execution_count": 25,
   "id": "55471aac",
   "metadata": {},
   "outputs": [],
   "source": [
    "av_data.drop('Local Event Date',axis=1,inplace=True)"
   ]
  },
  {
   "cell_type": "markdown",
   "id": "3a1c83ab",
   "metadata": {},
   "source": [
    "Check the changes in the number of columns."
   ]
  },
  {
   "cell_type": "code",
   "execution_count": 26,
   "id": "586bbafd",
   "metadata": {},
   "outputs": [
    {
     "data": {
      "text/plain": [
       "(100000, 24)"
      ]
     },
     "execution_count": 26,
     "metadata": {},
     "output_type": "execute_result"
    }
   ],
   "source": [
    "av_data.shape"
   ]
  },
  {
   "cell_type": "markdown",
   "id": "2ac79929",
   "metadata": {},
   "source": [
    "Explore “Event Type” column."
   ]
  },
  {
   "cell_type": "code",
   "execution_count": 27,
   "id": "8356add9",
   "metadata": {},
   "outputs": [
    {
     "data": {
      "text/plain": [
       "INCIDENT    100000\n",
       "Name: Event Type, dtype: int64"
      ]
     },
     "execution_count": 27,
     "metadata": {},
     "output_type": "execute_result"
    }
   ],
   "source": [
    "av_data['Event Type'].value_counts()"
   ]
  },
  {
   "cell_type": "markdown",
   "id": "569b36dc",
   "metadata": {},
   "source": [
    "It can be seen that all the observations are the same i.e., INCIDENT and it cannot be used for any further analysis. Hence it is better to drop this column."
   ]
  },
  {
   "cell_type": "code",
   "execution_count": 28,
   "id": "bfffae49",
   "metadata": {},
   "outputs": [],
   "source": [
    "av_data.drop('Event Type',axis=1,inplace=True)"
   ]
  },
  {
   "cell_type": "markdown",
   "id": "d9e16831",
   "metadata": {},
   "source": [
    "Check the changes in the number of columns."
   ]
  },
  {
   "cell_type": "markdown",
   "id": "ead4024d",
   "metadata": {},
   "source": [
    "Explore “Aircraft Registration Nbr” column."
   ]
  },
  {
   "cell_type": "code",
   "execution_count": 29,
   "id": "5cbbb183",
   "metadata": {},
   "outputs": [
    {
     "data": {
      "text/plain": [
       "UNKNO    308\n",
       "NONE     202\n",
       "115BS     20\n",
       "116BS     18\n",
       "2718Y     16\n",
       "        ... \n",
       "8305D      1\n",
       "95955      1\n",
       "6114U      1\n",
       "37356      1\n",
       "902AR      1\n",
       "Name: Aircraft Registration Nbr, Length: 75883, dtype: int64"
      ]
     },
     "execution_count": 29,
     "metadata": {},
     "output_type": "execute_result"
    }
   ],
   "source": [
    "av_data['Aircraft Registration Nbr'].value_counts()"
   ]
  },
  {
   "cell_type": "markdown",
   "id": "d6ac9d0e",
   "metadata": {},
   "source": [
    "Explore “Total Fatalities” column."
   ]
  },
  {
   "cell_type": "code",
   "execution_count": 30,
   "id": "df9a57df",
   "metadata": {},
   "outputs": [
    {
     "data": {
      "text/plain": [
       "0    99227\n",
       "1      730\n",
       "2       39\n",
       "3        3\n",
       "5        1\n",
       "Name: Total Fatalities, dtype: int64"
      ]
     },
     "execution_count": 30,
     "metadata": {},
     "output_type": "execute_result"
    }
   ],
   "source": [
    "av_data['Total Fatalities'].value_counts()"
   ]
  },
  {
   "cell_type": "markdown",
   "id": "24c80ca1",
   "metadata": {},
   "source": [
    "Explore “Total Injuries” column."
   ]
  },
  {
   "cell_type": "code",
   "execution_count": 31,
   "id": "b43e87ae",
   "metadata": {},
   "outputs": [
    {
     "data": {
      "text/plain": [
       "<AxesSubplot:>"
      ]
     },
     "execution_count": 31,
     "metadata": {},
     "output_type": "execute_result"
    },
    {
     "data": {
      "image/png": "[encoded data removed]",
      "text/plain": [
       "<Figure size 432x288 with 1 Axes>"
      ]
     },
     "metadata": {
      "needs_background": "light"
     },
     "output_type": "display_data"
    }
   ],
   "source": [
    "av_data['Total Injuries'].value_counts().plot.bar()"
   ]
  },
  {
   "cell_type": "markdown",
   "id": "0659f444",
   "metadata": {},
   "source": [
    "Check the number of possible observations for a combination of values of total fatalities and total injuries which can be categorized as severe. Code reference: data camp course on data manipulation with pandas."
   ]
  },
  {
   "cell_type": "code",
   "execution_count": 32,
   "id": "aaa1d4b7",
   "metadata": {},
   "outputs": [
    {
     "data": {
      "text/html": [
       "<div>\n",
       "<style scoped>\n",
       "    .dataframe tbody tr th:only-of-type {\n",
       "        vertical-align: middle;\n",
       "    }\n",
       "\n",
       "    .dataframe tbody tr th {\n",
       "        vertical-align: top;\n",
       "    }\n",
       "\n",
       "    .dataframe thead th {\n",
       "        text-align: right;\n",
       "    }\n",
       "</style>\n",
       "<table border=\"1\" class=\"dataframe\">\n",
       "  <thead>\n",
       "    <tr style=\"text-align: right;\">\n",
       "      <th></th>\n",
       "      <th>Event City</th>\n",
       "      <th>Event State</th>\n",
       "      <th>Event Airport</th>\n",
       "      <th>Aircraft Damage</th>\n",
       "      <th>Flight Phase</th>\n",
       "      <th>Aircraft Make</th>\n",
       "      <th>Aircraft Model</th>\n",
       "      <th>Aircraft Series</th>\n",
       "      <th>Operator</th>\n",
       "      <th>Primary Flight Type</th>\n",
       "      <th>...</th>\n",
       "      <th>Total Fatalities</th>\n",
       "      <th>Total Injuries</th>\n",
       "      <th>Aircraft Engine Make</th>\n",
       "      <th>Aircraft Engine Model</th>\n",
       "      <th>Engine Group Code</th>\n",
       "      <th>Nbr of Engines</th>\n",
       "      <th>PIC Certificate Type</th>\n",
       "      <th>PIC Flight Time Total Hrs</th>\n",
       "      <th>PIC Flight Time Total Make-Model</th>\n",
       "      <th>Year</th>\n",
       "    </tr>\n",
       "  </thead>\n",
       "  <tbody>\n",
       "    <tr>\n",
       "      <th>582</th>\n",
       "      <td>ZEPHYRHILLS</td>\n",
       "      <td>FL</td>\n",
       "      <td>ZEPHYRHILLS MUNI</td>\n",
       "      <td>NaN</td>\n",
       "      <td>DESCENT</td>\n",
       "      <td>BEECH</td>\n",
       "      <td>18</td>\n",
       "      <td>D18S</td>\n",
       "      <td>NaN</td>\n",
       "      <td>OTHER</td>\n",
       "      <td>...</td>\n",
       "      <td>1</td>\n",
       "      <td>0</td>\n",
       "      <td>NaN</td>\n",
       "      <td>NaN</td>\n",
       "      <td>NaN</td>\n",
       "      <td>2.0</td>\n",
       "      <td>NaN</td>\n",
       "      <td>NaN</td>\n",
       "      <td>0.0</td>\n",
       "      <td>1978</td>\n",
       "    </tr>\n",
       "    <tr>\n",
       "      <th>638</th>\n",
       "      <td>COOLIDGE</td>\n",
       "      <td>AZ</td>\n",
       "      <td>FLORENCE MUNI</td>\n",
       "      <td>NaN</td>\n",
       "      <td>DESCENT</td>\n",
       "      <td>CESSNA</td>\n",
       "      <td>182</td>\n",
       "      <td>A</td>\n",
       "      <td>NaN</td>\n",
       "      <td>OTHER</td>\n",
       "      <td>...</td>\n",
       "      <td>1</td>\n",
       "      <td>0</td>\n",
       "      <td>NaN</td>\n",
       "      <td>NaN</td>\n",
       "      <td>NaN</td>\n",
       "      <td>1.0</td>\n",
       "      <td>COMMERCIAL PILOT</td>\n",
       "      <td>750.0</td>\n",
       "      <td>200.0</td>\n",
       "      <td>1978</td>\n",
       "    </tr>\n",
       "    <tr>\n",
       "      <th>933</th>\n",
       "      <td>HENDERSON</td>\n",
       "      <td>NC</td>\n",
       "      <td>OXFORD COUNTY RGNL</td>\n",
       "      <td>NaN</td>\n",
       "      <td>LEVEL OFF TOUCHDOWN</td>\n",
       "      <td>DOUGLAS</td>\n",
       "      <td>DC3</td>\n",
       "      <td>C</td>\n",
       "      <td>NaN</td>\n",
       "      <td>OTHER</td>\n",
       "      <td>...</td>\n",
       "      <td>1</td>\n",
       "      <td>0</td>\n",
       "      <td>NaN</td>\n",
       "      <td>NaN</td>\n",
       "      <td>NaN</td>\n",
       "      <td>2.0</td>\n",
       "      <td>COMMERCIAL PILOT</td>\n",
       "      <td>1350.0</td>\n",
       "      <td>50.0</td>\n",
       "      <td>1978</td>\n",
       "    </tr>\n",
       "    <tr>\n",
       "      <th>1095</th>\n",
       "      <td>NaN</td>\n",
       "      <td>CA</td>\n",
       "      <td>SKYLARK FIELD</td>\n",
       "      <td>NaN</td>\n",
       "      <td>LEVEL OFF TOUCHDOWN</td>\n",
       "      <td>NaN</td>\n",
       "      <td>NaN</td>\n",
       "      <td>NaN</td>\n",
       "      <td>NaN</td>\n",
       "      <td>OTHER</td>\n",
       "      <td>...</td>\n",
       "      <td>1</td>\n",
       "      <td>0</td>\n",
       "      <td>NaN</td>\n",
       "      <td>NaN</td>\n",
       "      <td>NaN</td>\n",
       "      <td>NaN</td>\n",
       "      <td>NaN</td>\n",
       "      <td>NaN</td>\n",
       "      <td>0.0</td>\n",
       "      <td>1978</td>\n",
       "    </tr>\n",
       "    <tr>\n",
       "      <th>1121</th>\n",
       "      <td>TULSA</td>\n",
       "      <td>OK</td>\n",
       "      <td>TULSA INTL</td>\n",
       "      <td>SUBSTANTIAL</td>\n",
       "      <td>GROUND TAXI, OTHER AIRPLANE</td>\n",
       "      <td>BOEING</td>\n",
       "      <td>727</td>\n",
       "      <td>200</td>\n",
       "      <td>CONTINENTAL AIRLINES INC</td>\n",
       "      <td>SCHEDULED AIR CARRIER</td>\n",
       "      <td>...</td>\n",
       "      <td>5</td>\n",
       "      <td>0</td>\n",
       "      <td>NaN</td>\n",
       "      <td>NaN</td>\n",
       "      <td>NaN</td>\n",
       "      <td>3.0</td>\n",
       "      <td>AIRLINE TRANSPORT</td>\n",
       "      <td>13000.0</td>\n",
       "      <td>4000.0</td>\n",
       "      <td>1978</td>\n",
       "    </tr>\n",
       "    <tr>\n",
       "      <th>...</th>\n",
       "      <td>...</td>\n",
       "      <td>...</td>\n",
       "      <td>...</td>\n",
       "      <td>...</td>\n",
       "      <td>...</td>\n",
       "      <td>...</td>\n",
       "      <td>...</td>\n",
       "      <td>...</td>\n",
       "      <td>...</td>\n",
       "      <td>...</td>\n",
       "      <td>...</td>\n",
       "      <td>...</td>\n",
       "      <td>...</td>\n",
       "      <td>...</td>\n",
       "      <td>...</td>\n",
       "      <td>...</td>\n",
       "      <td>...</td>\n",
       "      <td>...</td>\n",
       "      <td>...</td>\n",
       "      <td>...</td>\n",
       "      <td>...</td>\n",
       "    </tr>\n",
       "    <tr>\n",
       "      <th>99790</th>\n",
       "      <td>TRES PINOS</td>\n",
       "      <td>CA</td>\n",
       "      <td>NaN</td>\n",
       "      <td>NONE</td>\n",
       "      <td>OTHER-SPECIFY</td>\n",
       "      <td>PAC</td>\n",
       "      <td>750XL</td>\n",
       "      <td>NO SERIES EXISTS</td>\n",
       "      <td>NaN</td>\n",
       "      <td>NaN</td>\n",
       "      <td>...</td>\n",
       "      <td>1</td>\n",
       "      <td>0</td>\n",
       "      <td>P &amp; W</td>\n",
       "      <td>PT6A-34</td>\n",
       "      <td>NaN</td>\n",
       "      <td>1.0</td>\n",
       "      <td>NaN</td>\n",
       "      <td>NaN</td>\n",
       "      <td>NaN</td>\n",
       "      <td>2015</td>\n",
       "    </tr>\n",
       "    <tr>\n",
       "      <th>99814</th>\n",
       "      <td>SEBASTIAN</td>\n",
       "      <td>FL</td>\n",
       "      <td>SEBASTIAN MUNI</td>\n",
       "      <td>NONE</td>\n",
       "      <td>CRUISE-LEVEL FLIGHT</td>\n",
       "      <td>DE HAVILLAND</td>\n",
       "      <td>DHC6</td>\n",
       "      <td>200</td>\n",
       "      <td>NaN</td>\n",
       "      <td>NaN</td>\n",
       "      <td>...</td>\n",
       "      <td>1</td>\n",
       "      <td>0</td>\n",
       "      <td>P&amp;W</td>\n",
       "      <td>PT6A SER</td>\n",
       "      <td>NaN</td>\n",
       "      <td>NaN</td>\n",
       "      <td>NaN</td>\n",
       "      <td>NaN</td>\n",
       "      <td>NaN</td>\n",
       "      <td>2015</td>\n",
       "    </tr>\n",
       "    <tr>\n",
       "      <th>99874</th>\n",
       "      <td>LATROBE</td>\n",
       "      <td>PA</td>\n",
       "      <td>ARNOLD PALMER RGNL</td>\n",
       "      <td>NONE</td>\n",
       "      <td>UNKNOWN</td>\n",
       "      <td>GRUMMAN</td>\n",
       "      <td>G1159</td>\n",
       "      <td>NO SERIES EXISTS</td>\n",
       "      <td>NaN</td>\n",
       "      <td>NaN</td>\n",
       "      <td>...</td>\n",
       "      <td>1</td>\n",
       "      <td>0</td>\n",
       "      <td>ROLLS-</td>\n",
       "      <td>SPEY 506-14</td>\n",
       "      <td>NaN</td>\n",
       "      <td>NaN</td>\n",
       "      <td>AIRLINE TRANSPORT PILOT FLIGHT INSTRUCTOR</td>\n",
       "      <td>NaN</td>\n",
       "      <td>NaN</td>\n",
       "      <td>2015</td>\n",
       "    </tr>\n",
       "    <tr>\n",
       "      <th>99880</th>\n",
       "      <td>OSAGE CITY</td>\n",
       "      <td>KS</td>\n",
       "      <td>OSAGE CITY MUNI</td>\n",
       "      <td>NONE</td>\n",
       "      <td>CRUISE-LEVEL FLIGHT</td>\n",
       "      <td>CESSNA</td>\n",
       "      <td>U206</td>\n",
       "      <td>F</td>\n",
       "      <td>NaN</td>\n",
       "      <td>NaN</td>\n",
       "      <td>...</td>\n",
       "      <td>1</td>\n",
       "      <td>0</td>\n",
       "      <td>CONT M</td>\n",
       "      <td>IO-550-D</td>\n",
       "      <td>NaN</td>\n",
       "      <td>1.0</td>\n",
       "      <td>NaN</td>\n",
       "      <td>NaN</td>\n",
       "      <td>NaN</td>\n",
       "      <td>2015</td>\n",
       "    </tr>\n",
       "    <tr>\n",
       "      <th>99882</th>\n",
       "      <td>MADERA</td>\n",
       "      <td>CA</td>\n",
       "      <td>MADERA MUNI</td>\n",
       "      <td>NONE</td>\n",
       "      <td>DESCENT</td>\n",
       "      <td>NaN</td>\n",
       "      <td>NaN</td>\n",
       "      <td>NaN</td>\n",
       "      <td>NaN</td>\n",
       "      <td>NaN</td>\n",
       "      <td>...</td>\n",
       "      <td>1</td>\n",
       "      <td>0</td>\n",
       "      <td>NaN</td>\n",
       "      <td>NaN</td>\n",
       "      <td>NaN</td>\n",
       "      <td>NaN</td>\n",
       "      <td>NaN</td>\n",
       "      <td>NaN</td>\n",
       "      <td>NaN</td>\n",
       "      <td>2015</td>\n",
       "    </tr>\n",
       "  </tbody>\n",
       "</table>\n",
       "<p>733 rows × 23 columns</p>\n",
       "</div>"
      ],
      "text/plain": [
       "        Event City Event State       Event Airport Aircraft Damage  \\\n",
       "582    ZEPHYRHILLS          FL    ZEPHYRHILLS MUNI             NaN   \n",
       "638       COOLIDGE          AZ       FLORENCE MUNI             NaN   \n",
       "933      HENDERSON          NC  OXFORD COUNTY RGNL             NaN   \n",
       "1095           NaN          CA       SKYLARK FIELD             NaN   \n",
       "1121         TULSA          OK          TULSA INTL     SUBSTANTIAL   \n",
       "...            ...         ...                 ...             ...   \n",
       "99790   TRES PINOS          CA                 NaN            NONE   \n",
       "99814    SEBASTIAN          FL      SEBASTIAN MUNI            NONE   \n",
       "99874      LATROBE          PA  ARNOLD PALMER RGNL            NONE   \n",
       "99880   OSAGE CITY          KS     OSAGE CITY MUNI            NONE   \n",
       "99882       MADERA          CA         MADERA MUNI            NONE   \n",
       "\n",
       "                      Flight Phase Aircraft Make Aircraft Model  \\\n",
       "582                        DESCENT         BEECH             18   \n",
       "638                        DESCENT        CESSNA            182   \n",
       "933            LEVEL OFF TOUCHDOWN       DOUGLAS            DC3   \n",
       "1095           LEVEL OFF TOUCHDOWN           NaN            NaN   \n",
       "1121   GROUND TAXI, OTHER AIRPLANE        BOEING            727   \n",
       "...                            ...           ...            ...   \n",
       "99790                OTHER-SPECIFY           PAC          750XL   \n",
       "99814          CRUISE-LEVEL FLIGHT  DE HAVILLAND           DHC6   \n",
       "99874                      UNKNOWN       GRUMMAN          G1159   \n",
       "99880          CRUISE-LEVEL FLIGHT        CESSNA           U206   \n",
       "99882                      DESCENT           NaN            NaN   \n",
       "\n",
       "        Aircraft Series                  Operator    Primary Flight Type  ...  \\\n",
       "582                D18S                       NaN                  OTHER  ...   \n",
       "638                   A                       NaN                  OTHER  ...   \n",
       "933                   C                       NaN                  OTHER  ...   \n",
       "1095                NaN                       NaN                  OTHER  ...   \n",
       "1121                200  CONTINENTAL AIRLINES INC  SCHEDULED AIR CARRIER  ...   \n",
       "...                 ...                       ...                    ...  ...   \n",
       "99790  NO SERIES EXISTS                       NaN                    NaN  ...   \n",
       "99814               200                       NaN                    NaN  ...   \n",
       "99874  NO SERIES EXISTS                       NaN                    NaN  ...   \n",
       "99880                 F                       NaN                    NaN  ...   \n",
       "99882               NaN                       NaN                    NaN  ...   \n",
       "\n",
       "      Total Fatalities Total Injuries Aircraft Engine Make  \\\n",
       "582                  1              0                  NaN   \n",
       "638                  1              0                  NaN   \n",
       "933                  1              0                  NaN   \n",
       "1095                 1              0                  NaN   \n",
       "1121                 5              0                  NaN   \n",
       "...                ...            ...                  ...   \n",
       "99790                1              0                P & W   \n",
       "99814                1              0                  P&W   \n",
       "99874                1              0               ROLLS-   \n",
       "99880                1              0               CONT M   \n",
       "99882                1              0                  NaN   \n",
       "\n",
       "       Aircraft Engine Model  Engine Group Code Nbr of Engines  \\\n",
       "582                      NaN                NaN            2.0   \n",
       "638                      NaN                NaN            1.0   \n",
       "933                      NaN                NaN            2.0   \n",
       "1095                     NaN                NaN            NaN   \n",
       "1121                     NaN                NaN            3.0   \n",
       "...                      ...                ...            ...   \n",
       "99790                PT6A-34                NaN            1.0   \n",
       "99814               PT6A SER                NaN            NaN   \n",
       "99874            SPEY 506-14                NaN            NaN   \n",
       "99880               IO-550-D                NaN            1.0   \n",
       "99882                    NaN                NaN            NaN   \n",
       "\n",
       "                            PIC Certificate Type PIC Flight Time Total Hrs  \\\n",
       "582                                          NaN                       NaN   \n",
       "638                             COMMERCIAL PILOT                     750.0   \n",
       "933                             COMMERCIAL PILOT                    1350.0   \n",
       "1095                                         NaN                       NaN   \n",
       "1121                           AIRLINE TRANSPORT                   13000.0   \n",
       "...                                          ...                       ...   \n",
       "99790                                        NaN                       NaN   \n",
       "99814                                        NaN                       NaN   \n",
       "99874  AIRLINE TRANSPORT PILOT FLIGHT INSTRUCTOR                       NaN   \n",
       "99880                                        NaN                       NaN   \n",
       "99882                                        NaN                       NaN   \n",
       "\n",
       "       PIC Flight Time Total Make-Model  Year  \n",
       "582                                 0.0  1978  \n",
       "638                               200.0  1978  \n",
       "933                                50.0  1978  \n",
       "1095                                0.0  1978  \n",
       "1121                             4000.0  1978  \n",
       "...                                 ...   ...  \n",
       "99790                               NaN  2015  \n",
       "99814                               NaN  2015  \n",
       "99874                               NaN  2015  \n",
       "99880                               NaN  2015  \n",
       "99882                               NaN  2015  \n",
       "\n",
       "[733 rows x 23 columns]"
      ]
     },
     "execution_count": 32,
     "metadata": {},
     "output_type": "execute_result"
    }
   ],
   "source": [
    "av_data[(av_data['Total Fatalities'] >= 1) & (av_data['Total Injuries'] == 0)]"
   ]
  },
  {
   "cell_type": "markdown",
   "id": "b02276be",
   "metadata": {},
   "source": [
    "##### Data derivation"
   ]
  },
  {
   "cell_type": "markdown",
   "id": "09b8662f",
   "metadata": {},
   "source": [
    "Create new Boolean column named “Severe” such that if the total number of fatalities is greater than equal to 1 and the total number of injuries is equal to or greater than 0, then the value is in “Severe” is 1, else it is 0. Code reference lab week three feedback."
   ]
  },
  {
   "cell_type": "code",
   "execution_count": 33,
   "id": "3865eb74",
   "metadata": {},
   "outputs": [],
   "source": [
    "av_data['Severe'] = np.where((av_data['Total Fatalities'] >= 1) & (av_data['Total Injuries'] >= 0),1,0)"
   ]
  },
  {
   "cell_type": "markdown",
   "id": "b4ec5b41",
   "metadata": {},
   "source": [
    "Check the changes in the number of columns."
   ]
  },
  {
   "cell_type": "code",
   "execution_count": 34,
   "id": "778c7ba3",
   "metadata": {},
   "outputs": [
    {
     "data": {
      "text/plain": [
       "(100000, 24)"
      ]
     },
     "execution_count": 34,
     "metadata": {},
     "output_type": "execute_result"
    }
   ],
   "source": [
    "av_data.shape"
   ]
  },
  {
   "cell_type": "code",
   "execution_count": 35,
   "id": "f80620a8",
   "metadata": {},
   "outputs": [
    {
     "data": {
      "text/html": [
       "<div>\n",
       "<style scoped>\n",
       "    .dataframe tbody tr th:only-of-type {\n",
       "        vertical-align: middle;\n",
       "    }\n",
       "\n",
       "    .dataframe tbody tr th {\n",
       "        vertical-align: top;\n",
       "    }\n",
       "\n",
       "    .dataframe thead th {\n",
       "        text-align: right;\n",
       "    }\n",
       "</style>\n",
       "<table border=\"1\" class=\"dataframe\">\n",
       "  <thead>\n",
       "    <tr style=\"text-align: right;\">\n",
       "      <th></th>\n",
       "      <th>Event City</th>\n",
       "      <th>Event State</th>\n",
       "      <th>Event Airport</th>\n",
       "      <th>Aircraft Damage</th>\n",
       "      <th>Flight Phase</th>\n",
       "      <th>Aircraft Make</th>\n",
       "      <th>Aircraft Model</th>\n",
       "      <th>Aircraft Series</th>\n",
       "      <th>Operator</th>\n",
       "      <th>Primary Flight Type</th>\n",
       "      <th>...</th>\n",
       "      <th>Total Injuries</th>\n",
       "      <th>Aircraft Engine Make</th>\n",
       "      <th>Aircraft Engine Model</th>\n",
       "      <th>Engine Group Code</th>\n",
       "      <th>Nbr of Engines</th>\n",
       "      <th>PIC Certificate Type</th>\n",
       "      <th>PIC Flight Time Total Hrs</th>\n",
       "      <th>PIC Flight Time Total Make-Model</th>\n",
       "      <th>Year</th>\n",
       "      <th>Severe</th>\n",
       "    </tr>\n",
       "  </thead>\n",
       "  <tbody>\n",
       "    <tr>\n",
       "      <th>0</th>\n",
       "      <td>WAHPETON</td>\n",
       "      <td>ND</td>\n",
       "      <td>BRECKENRIDGE</td>\n",
       "      <td>MINOR</td>\n",
       "      <td>ROLL-OUT (FIXED WING)</td>\n",
       "      <td>CESSNA</td>\n",
       "      <td>182</td>\n",
       "      <td>UNDESIGNATED SERIES</td>\n",
       "      <td>NaN</td>\n",
       "      <td>PERSONAL</td>\n",
       "      <td>...</td>\n",
       "      <td>0</td>\n",
       "      <td>NaN</td>\n",
       "      <td>NaN</td>\n",
       "      <td>NaN</td>\n",
       "      <td>1.0</td>\n",
       "      <td>PRIVATE PILOT</td>\n",
       "      <td>245.0</td>\n",
       "      <td>136.0</td>\n",
       "      <td>1978</td>\n",
       "      <td>0</td>\n",
       "    </tr>\n",
       "    <tr>\n",
       "      <th>1</th>\n",
       "      <td>FAIRBANKS</td>\n",
       "      <td>AK</td>\n",
       "      <td>FAIRBANKS INTL</td>\n",
       "      <td>MINOR</td>\n",
       "      <td>ROLL-OUT (FIXED WING)</td>\n",
       "      <td>PIPER</td>\n",
       "      <td>PA18</td>\n",
       "      <td>150</td>\n",
       "      <td>NaN</td>\n",
       "      <td>PERSONAL</td>\n",
       "      <td>...</td>\n",
       "      <td>0</td>\n",
       "      <td>NaN</td>\n",
       "      <td>NaN</td>\n",
       "      <td>NaN</td>\n",
       "      <td>1.0</td>\n",
       "      <td>STUDENT</td>\n",
       "      <td>200.0</td>\n",
       "      <td>2.0</td>\n",
       "      <td>1978</td>\n",
       "      <td>0</td>\n",
       "    </tr>\n",
       "    <tr>\n",
       "      <th>2</th>\n",
       "      <td>BRUNSWICK</td>\n",
       "      <td>GA</td>\n",
       "      <td>JEKYLL ISLAND</td>\n",
       "      <td>NaN</td>\n",
       "      <td>NORMAL CRUISE</td>\n",
       "      <td>BEECH</td>\n",
       "      <td>35</td>\n",
       "      <td>B35</td>\n",
       "      <td>NaN</td>\n",
       "      <td>PERSONAL</td>\n",
       "      <td>...</td>\n",
       "      <td>0</td>\n",
       "      <td>NaN</td>\n",
       "      <td>NaN</td>\n",
       "      <td>NaN</td>\n",
       "      <td>1.0</td>\n",
       "      <td>PRIVATE PILOT</td>\n",
       "      <td>NaN</td>\n",
       "      <td>0.0</td>\n",
       "      <td>1978</td>\n",
       "      <td>0</td>\n",
       "    </tr>\n",
       "    <tr>\n",
       "      <th>3</th>\n",
       "      <td>CARLSBAD</td>\n",
       "      <td>CA</td>\n",
       "      <td>MC CLELLAN-PALOMAR</td>\n",
       "      <td>MINOR</td>\n",
       "      <td>LEVEL OFF TOUCHDOWN</td>\n",
       "      <td>CESSNA</td>\n",
       "      <td>310</td>\n",
       "      <td>L</td>\n",
       "      <td>NaN</td>\n",
       "      <td>PERSONAL</td>\n",
       "      <td>...</td>\n",
       "      <td>0</td>\n",
       "      <td>NaN</td>\n",
       "      <td>NaN</td>\n",
       "      <td>NaN</td>\n",
       "      <td>2.0</td>\n",
       "      <td>COMMERCIAL PILOT FLIGHT INSTRUCTOR</td>\n",
       "      <td>2000.0</td>\n",
       "      <td>400.0</td>\n",
       "      <td>1978</td>\n",
       "      <td>0</td>\n",
       "    </tr>\n",
       "    <tr>\n",
       "      <th>4</th>\n",
       "      <td>TROUTDALE</td>\n",
       "      <td>OR</td>\n",
       "      <td>TROUTDALE MUNI</td>\n",
       "      <td>MINOR</td>\n",
       "      <td>GROUND TAXI, OTHER AIRPLANE</td>\n",
       "      <td>CESSNA</td>\n",
       "      <td>172</td>\n",
       "      <td>UNDESIGNATED SERIES</td>\n",
       "      <td>NaN</td>\n",
       "      <td>PERSONAL</td>\n",
       "      <td>...</td>\n",
       "      <td>0</td>\n",
       "      <td>NaN</td>\n",
       "      <td>NaN</td>\n",
       "      <td>NaN</td>\n",
       "      <td>1.0</td>\n",
       "      <td>COMMERCIAL PILOT</td>\n",
       "      <td>300.0</td>\n",
       "      <td>130.0</td>\n",
       "      <td>1978</td>\n",
       "      <td>0</td>\n",
       "    </tr>\n",
       "  </tbody>\n",
       "</table>\n",
       "<p>5 rows × 24 columns</p>\n",
       "</div>"
      ],
      "text/plain": [
       "  Event City Event State       Event Airport Aircraft Damage  \\\n",
       "0   WAHPETON          ND        BRECKENRIDGE           MINOR   \n",
       "1  FAIRBANKS          AK      FAIRBANKS INTL           MINOR   \n",
       "2  BRUNSWICK          GA       JEKYLL ISLAND             NaN   \n",
       "3   CARLSBAD          CA  MC CLELLAN-PALOMAR           MINOR   \n",
       "4  TROUTDALE          OR      TROUTDALE MUNI           MINOR   \n",
       "\n",
       "                  Flight Phase Aircraft Make Aircraft Model  \\\n",
       "0        ROLL-OUT (FIXED WING)        CESSNA            182   \n",
       "1        ROLL-OUT (FIXED WING)         PIPER           PA18   \n",
       "2                NORMAL CRUISE         BEECH             35   \n",
       "3          LEVEL OFF TOUCHDOWN        CESSNA            310   \n",
       "4  GROUND TAXI, OTHER AIRPLANE        CESSNA            172   \n",
       "\n",
       "       Aircraft Series Operator Primary Flight Type  ... Total Injuries  \\\n",
       "0  UNDESIGNATED SERIES      NaN            PERSONAL  ...              0   \n",
       "1                  150      NaN            PERSONAL  ...              0   \n",
       "2                  B35      NaN            PERSONAL  ...              0   \n",
       "3                    L      NaN            PERSONAL  ...              0   \n",
       "4  UNDESIGNATED SERIES      NaN            PERSONAL  ...              0   \n",
       "\n",
       "  Aircraft Engine Make Aircraft Engine Model  Engine Group Code  \\\n",
       "0                  NaN                   NaN                NaN   \n",
       "1                  NaN                   NaN                NaN   \n",
       "2                  NaN                   NaN                NaN   \n",
       "3                  NaN                   NaN                NaN   \n",
       "4                  NaN                   NaN                NaN   \n",
       "\n",
       "   Nbr of Engines                PIC Certificate Type  \\\n",
       "0             1.0                       PRIVATE PILOT   \n",
       "1             1.0                             STUDENT   \n",
       "2             1.0                       PRIVATE PILOT   \n",
       "3             2.0  COMMERCIAL PILOT FLIGHT INSTRUCTOR   \n",
       "4             1.0                    COMMERCIAL PILOT   \n",
       "\n",
       "  PIC Flight Time Total Hrs PIC Flight Time Total Make-Model  Year Severe  \n",
       "0                     245.0                            136.0  1978      0  \n",
       "1                     200.0                              2.0  1978      0  \n",
       "2                       NaN                              0.0  1978      0  \n",
       "3                    2000.0                            400.0  1978      0  \n",
       "4                     300.0                            130.0  1978      0  \n",
       "\n",
       "[5 rows x 24 columns]"
      ]
     },
     "execution_count": 35,
     "metadata": {},
     "output_type": "execute_result"
    }
   ],
   "source": [
    "av_data.head()"
   ]
  },
  {
   "cell_type": "markdown",
   "id": "db9c8443",
   "metadata": {},
   "source": [
    "Explore “Severe” column."
   ]
  },
  {
   "cell_type": "code",
   "execution_count": 36,
   "id": "ca70ced2",
   "metadata": {},
   "outputs": [
    {
     "data": {
      "text/plain": [
       "0    99227\n",
       "1      773\n",
       "Name: Severe, dtype: int64"
      ]
     },
     "execution_count": 36,
     "metadata": {},
     "output_type": "execute_result"
    }
   ],
   "source": [
    "av_data.Severe.value_counts()"
   ]
  },
  {
   "cell_type": "markdown",
   "id": "b9b6ebfd",
   "metadata": {},
   "source": [
    "##### Data preparation"
   ]
  },
  {
   "cell_type": "markdown",
   "id": "14152b2b",
   "metadata": {},
   "source": [
    "Continue to explore remaining columns of the data frame."
   ]
  },
  {
   "cell_type": "markdown",
   "id": "a90edba3",
   "metadata": {},
   "source": [
    "Explore “Flight Conduct Code” column."
   ]
  },
  {
   "cell_type": "code",
   "execution_count": 37,
   "id": "ae2d4ec5",
   "metadata": {},
   "outputs": [
    {
     "data": {
      "text/plain": [
       "GENERAL OPERATING RULES                69912\n",
       "AIR CARRIER/COMMERCIAL                 16012\n",
       "AIR TAXI/COMMUTER                      10094\n",
       "AGRICULTURAL                            1278\n",
       "PARACHUTE JUMPING                        972\n",
       "PILOT SCHOOLS                            922\n",
       "FOREIGN AIR CARRIER                      436\n",
       "ROTORCRAFT EXTERNAL LOAD OPERATIONS       98\n",
       "PART 125 OPERATOR                         66\n",
       "ULTRALIGHT VEHICLES                       60\n",
       "TRAVEL CLUB                                6\n",
       "SCHEDULED AIRCRAFT/HELICOPTER              2\n",
       "Name: Flight Conduct Code, dtype: int64"
      ]
     },
     "execution_count": 37,
     "metadata": {},
     "output_type": "execute_result"
    }
   ],
   "source": [
    "av_data['Flight Conduct Code'].value_counts()"
   ]
  },
  {
   "cell_type": "markdown",
   "id": "0d721b51",
   "metadata": {},
   "source": [
    "Explore “Flight Phase” column."
   ]
  },
  {
   "cell_type": "code",
   "execution_count": 38,
   "id": "9fc49a84",
   "metadata": {},
   "outputs": [
    {
     "data": {
      "text/plain": [
       "LEVEL OFF TOUCHDOWN                       17084\n",
       "ROLL-OUT (FIXED WING)                     16224\n",
       "FCD/PREC LDG FROM CRUISE                   9523\n",
       "NORMAL CRUISE                              9244\n",
       "GROUND TAXI, OTHER AIRPLANE                7666\n",
       "                                          ...  \n",
       "SIMULATED FORCED LANDING/TAKEOFF CLIMB        9\n",
       "FORMATION FLYING                              9\n",
       "ROLL-OUT (ROTORCRAFT)                         8\n",
       "SLOPE LANDING                                 7\n",
       "PINNACLE LANDING                              1\n",
       "Name: Flight Phase, Length: 75, dtype: int64"
      ]
     },
     "execution_count": 38,
     "metadata": {},
     "output_type": "execute_result"
    }
   ],
   "source": [
    "av_data['Flight Phase'].value_counts()"
   ]
  },
  {
   "cell_type": "markdown",
   "id": "990d339f",
   "metadata": {},
   "source": [
    "Explore “Flight Plan Filed Code” column."
   ]
  },
  {
   "cell_type": "code",
   "execution_count": 39,
   "id": "a596f124",
   "metadata": {},
   "outputs": [
    {
     "data": {
      "text/plain": [
       "NONE                           35771\n",
       "INSTRUMENT FLIGHT RULES        25814\n",
       "UNKNOWN                        15527\n",
       "VISUAL FLIGHT RULES             9633\n",
       "AIR TAXI FLIGHT FOLLOWING        204\n",
       "SPECIAL VISUAL FLIGHT RULES       42\n",
       "DEFENSE VISUAL FLIGHT RULES       40\n",
       "VISUAL FLIGHT FOLLOWING           32\n",
       "MILITARY CONTROL                  23\n",
       "VISUAL FLIGHT RULES ON TOP         2\n",
       "Name: Flight Plan Filed Code, dtype: int64"
      ]
     },
     "execution_count": 39,
     "metadata": {},
     "output_type": "execute_result"
    }
   ],
   "source": [
    "av_data['Flight Plan Filed Code'].value_counts()"
   ]
  },
  {
   "cell_type": "markdown",
   "id": "78175743",
   "metadata": {},
   "source": [
    "Explore “PIC Certificate Type” column."
   ]
  },
  {
   "cell_type": "code",
   "execution_count": 40,
   "id": "6f64c2ad",
   "metadata": {},
   "outputs": [
    {
     "data": {
      "text/plain": [
       "PRIVATE PILOT                                29963\n",
       "AIRLINE TRANSPORT                            23573\n",
       "COMMERCIAL PILOT                             18614\n",
       "COMMERCIAL PILOT FLIGHT INSTRUCTOR            7512\n",
       "STUDENT                                       5780\n",
       "AIRLINE TRANSPORT PILOT FLIGHT INSTRUCTOR     4249\n",
       "UNKNOWN/FOREIGN                               1338\n",
       "PILOT NOT CERTIFICATED                         228\n",
       "PRIVATE PILOT FLIGHT INSTRUCTOR                184\n",
       "RECREATIONAL PILOT                              22\n",
       "SPECIAL PURPOSE                                 11\n",
       "Name: PIC Certificate Type, dtype: int64"
      ]
     },
     "execution_count": 40,
     "metadata": {},
     "output_type": "execute_result"
    }
   ],
   "source": [
    "av_data['PIC Certificate Type'].value_counts()"
   ]
  },
  {
   "cell_type": "markdown",
   "id": "ecf075b7",
   "metadata": {},
   "source": [
    "Explore “PIC Flight Time Total Hrs” column."
   ]
  },
  {
   "cell_type": "code",
   "execution_count": 41,
   "id": "f62e98e2",
   "metadata": {},
   "outputs": [
    {
     "data": {
      "text/plain": [
       "0.0        1712\n",
       "3000.0     1147\n",
       "2000.0     1080\n",
       "4000.0     1020\n",
       "5000.0      995\n",
       "           ... \n",
       "20215.0       1\n",
       "11921.0       1\n",
       "8288.0        1\n",
       "10594.0       1\n",
       "16372.0       1\n",
       "Name: PIC Flight Time Total Hrs, Length: 8314, dtype: int64"
      ]
     },
     "execution_count": 41,
     "metadata": {},
     "output_type": "execute_result"
    }
   ],
   "source": [
    "av_data['PIC Flight Time Total Hrs'].value_counts()"
   ]
  },
  {
   "cell_type": "markdown",
   "id": "8ccd0230",
   "metadata": {},
   "source": [
    "Explore “PIC Flight Time Total Make-Model” column."
   ]
  },
  {
   "cell_type": "code",
   "execution_count": 42,
   "id": "de164a80",
   "metadata": {},
   "outputs": [
    {
     "data": {
      "text/plain": [
       "0.0        8543\n",
       "200.0      2383\n",
       "100.0      2239\n",
       "300.0      2200\n",
       "500.0      2050\n",
       "           ... \n",
       "1029.0        1\n",
       "3956.0        1\n",
       "7046.0        1\n",
       "11300.0       1\n",
       "863.0         1\n",
       "Name: PIC Flight Time Total Make-Model, Length: 3698, dtype: int64"
      ]
     },
     "execution_count": 42,
     "metadata": {},
     "output_type": "execute_result"
    }
   ],
   "source": [
    "av_data['PIC Flight Time Total Make-Model'].value_counts()"
   ]
  },
  {
   "cell_type": "markdown",
   "id": "fe5a75d6",
   "metadata": {},
   "source": [
    "##### Data preparation"
   ]
  },
  {
   "cell_type": "markdown",
   "id": "a1fd7bab",
   "metadata": {},
   "source": [
    "#### Handling Missing Values."
   ]
  },
  {
   "cell_type": "markdown",
   "id": "72e72157",
   "metadata": {},
   "source": [
    "After checking the missing values, it is realized that there are no missing values in numeric columns and there are missing values only in categorical non numeric columns. Imputing categorical non numeric values using the common methods like label encoding, label mapping, etc, may not be suitable for the data, as there are large number of unique values for almost all the categorical columns. So, there was no imputation of missing values for the categorical columns as imputation using the above-mentioned methods would give inconsistent results. Also, it is not appropriate 2 impute the missing values through most frequent value, for this data taken from FAA."
   ]
  },
  {
   "cell_type": "markdown",
   "id": "42e31e2a",
   "metadata": {},
   "source": [
    "##### Data preparation"
   ]
  },
  {
   "cell_type": "markdown",
   "id": "f7e74f4f",
   "metadata": {},
   "source": [
    "#### Handling Outliers"
   ]
  },
  {
   "cell_type": "markdown",
   "id": "981bbfdb",
   "metadata": {},
   "source": [
    "Identify outliers in continuous numeric variables and remove them where needed."
   ]
  },
  {
   "cell_type": "markdown",
   "id": "949174b3",
   "metadata": {},
   "source": [
    "Identify outliers in “Total Fatalities” column visually through a scatterplot. Code reference lab week three feedback."
   ]
  },
  {
   "cell_type": "code",
   "execution_count": 43,
   "id": "e040bea4",
   "metadata": {},
   "outputs": [
    {
     "data": {
      "text/plain": [
       "Text(0.5, 1.0, 'Scatter of Total Fatalities for outliers detection')"
      ]
     },
     "execution_count": 43,
     "metadata": {},
     "output_type": "execute_result"
    },
    {
     "data": {
      "image/png": "[encoded data removed]",
      "text/plain": [
       "<Figure size 432x288 with 1 Axes>"
      ]
     },
     "metadata": {
      "needs_background": "light"
     },
     "output_type": "display_data"
    }
   ],
   "source": [
    "sns.scatterplot(x=av_data['Total Fatalities'],y=av_data.Year)\n",
    "plt.title('Scatter of Total Fatalities for outliers detection')"
   ]
  },
  {
   "cell_type": "markdown",
   "id": "7fe29974",
   "metadata": {},
   "source": [
    "Since all the values are realistic, they cannot be identified as outliers."
   ]
  },
  {
   "cell_type": "markdown",
   "id": "44540808",
   "metadata": {},
   "source": [
    "Identify outliers in “Total Injuries” column visually through a scatterplot."
   ]
  },
  {
   "cell_type": "code",
   "execution_count": 44,
   "id": "2662279c",
   "metadata": {},
   "outputs": [
    {
     "data": {
      "text/plain": [
       "Text(0.5, 1.0, 'Scatter of Total Injuries for outliers detection')"
      ]
     },
     "execution_count": 44,
     "metadata": {},
     "output_type": "execute_result"
    },
    {
     "data": {
      "image/png": "[encoded data removed]",
      "text/plain": [
       "<Figure size 432x288 with 1 Axes>"
      ]
     },
     "metadata": {
      "needs_background": "light"
     },
     "output_type": "display_data"
    }
   ],
   "source": [
    "sns.scatterplot(x=av_data['Total Injuries'],y=av_data.Year)\n",
    "plt.title('Scatter of Total Injuries for outliers detection')"
   ]
  },
  {
   "cell_type": "markdown",
   "id": "9d2ebab3",
   "metadata": {},
   "source": [
    "Since the maximum value is not clear visually it’s better to check it through code."
   ]
  },
  {
   "cell_type": "code",
   "execution_count": 45,
   "id": "c7491c0c",
   "metadata": {},
   "outputs": [
    {
     "data": {
      "text/plain": [
       "56"
      ]
     },
     "execution_count": 45,
     "metadata": {},
     "output_type": "execute_result"
    }
   ],
   "source": [
    "av_data['Total Injuries'].max()"
   ]
  },
  {
   "cell_type": "markdown",
   "id": "d1389f15",
   "metadata": {},
   "source": [
    "Since all the values are realistic, they cannot be identified as outliers."
   ]
  },
  {
   "cell_type": "markdown",
   "id": "13bf47fb",
   "metadata": {},
   "source": [
    "Identify outliers in “PIC Flight Time Total Hrs” column visually through a scatterplot."
   ]
  },
  {
   "cell_type": "code",
   "execution_count": 46,
   "id": "f48161dc",
   "metadata": {},
   "outputs": [
    {
     "data": {
      "text/plain": [
       "Text(0.5, 1.0, 'Scatter of Pilot In Command flying hours for outliers detection')"
      ]
     },
     "execution_count": 46,
     "metadata": {},
     "output_type": "execute_result"
    },
    {
     "data": {
      "image/png": "[encoded data removed]",
      "text/plain": [
       "<Figure size 432x288 with 1 Axes>"
      ]
     },
     "metadata": {
      "needs_background": "light"
     },
     "output_type": "display_data"
    }
   ],
   "source": [
    "sns.scatterplot(x=av_data['PIC Flight Time Total Hrs'],y=av_data.Year)\n",
    "plt.title('Scatter of Pilot In Command flying hours for outliers detection')"
   ]
  },
  {
   "cell_type": "markdown",
   "id": "6d33ee76",
   "metadata": {},
   "source": [
    "Visually there seems to be presence of some outliers. So, it should be tried to identify outliers using rules of thumb method."
   ]
  },
  {
   "cell_type": "markdown",
   "id": "127ab942",
   "metadata": {},
   "source": [
    "Calculate mean and standard deviation of the column. Code reference lab week three feedback."
   ]
  },
  {
   "cell_type": "code",
   "execution_count": 47,
   "id": "8aa6ed50",
   "metadata": {},
   "outputs": [],
   "source": [
    "meanPICFTTH = av_data['PIC Flight Time Total Hrs'].mean()\n",
    "stdPICFTTH = av_data['PIC Flight Time Total Hrs'].std()"
   ]
  },
  {
   "cell_type": "markdown",
   "id": "8b099f8f",
   "metadata": {},
   "source": [
    "Check the value of mean."
   ]
  },
  {
   "cell_type": "code",
   "execution_count": 48,
   "id": "9894ce53",
   "metadata": {},
   "outputs": [
    {
     "data": {
      "text/plain": [
       "3838.574962096057"
      ]
     },
     "execution_count": 48,
     "metadata": {},
     "output_type": "execute_result"
    }
   ],
   "source": [
    "meanPICFTTH"
   ]
  },
  {
   "cell_type": "markdown",
   "id": "325c8408",
   "metadata": {},
   "source": [
    "Check the value of standard deviation."
   ]
  },
  {
   "cell_type": "code",
   "execution_count": 49,
   "id": "2fb358a2",
   "metadata": {},
   "outputs": [
    {
     "data": {
      "text/plain": [
       "5508.412809379743"
      ]
     },
     "execution_count": 49,
     "metadata": {},
     "output_type": "execute_result"
    }
   ],
   "source": [
    "stdPICFTTH"
   ]
  },
  {
   "cell_type": "markdown",
   "id": "0a06499b",
   "metadata": {},
   "source": [
    "Check the value of twice the mean and if it is greater than the standard deviation."
   ]
  },
  {
   "cell_type": "code",
   "execution_count": 50,
   "id": "b772fb98",
   "metadata": {},
   "outputs": [
    {
     "data": {
      "text/plain": [
       "7677.149924192114"
      ]
     },
     "execution_count": 50,
     "metadata": {},
     "output_type": "execute_result"
    }
   ],
   "source": [
    "2*meanPICFTTH"
   ]
  },
  {
   "cell_type": "markdown",
   "id": "4c4f579b",
   "metadata": {},
   "source": [
    "Clearly the value of twice the mean is greater than the standard deviation."
   ]
  },
  {
   "cell_type": "markdown",
   "id": "de13cd79",
   "metadata": {},
   "source": [
    "But visually it can be seen that a major chunk of the values is greater than this value. Also, this is a data given by FAA which is very much reliable source. As per visual analysis of the scatter plot it is clear that majority of the values are below 40,000. Before considering 40,000 as the limit for considering outlier, it’s better to check how many observations are below the 40,000 value."
   ]
  },
  {
   "cell_type": "code",
   "execution_count": 51,
   "id": "874ad8d9",
   "metadata": {},
   "outputs": [
    {
     "data": {
      "text/plain": [
       "(79744, 24)"
      ]
     },
     "execution_count": 51,
     "metadata": {},
     "output_type": "execute_result"
    }
   ],
   "source": [
    "av_data[av_data['PIC Flight Time Total Hrs'] < 40000].shape"
   ]
  },
  {
   "cell_type": "markdown",
   "id": "726f8094",
   "metadata": {},
   "source": [
    "Clearly majority of the observations are below the 40,000 value. So we can consider values equal to or above 40,000 as outliers."
   ]
  },
  {
   "cell_type": "markdown",
   "id": "9f022482",
   "metadata": {},
   "source": [
    "Remove observations which fall under the outlier’s category for this column."
   ]
  },
  {
   "cell_type": "code",
   "execution_count": 52,
   "id": "b337bb2b",
   "metadata": {},
   "outputs": [],
   "source": [
    "av_data = av_data[av_data['PIC Flight Time Total Hrs'] < 40000]"
   ]
  },
  {
   "cell_type": "markdown",
   "id": "ae7e93d6",
   "metadata": {},
   "source": [
    "Check the changes in the number of rows."
   ]
  },
  {
   "cell_type": "code",
   "execution_count": 53,
   "id": "dbcfd1f6",
   "metadata": {},
   "outputs": [
    {
     "data": {
      "text/plain": [
       "(79744, 24)"
      ]
     },
     "execution_count": 53,
     "metadata": {},
     "output_type": "execute_result"
    }
   ],
   "source": [
    "av_data.shape"
   ]
  },
  {
   "cell_type": "markdown",
   "id": "3c8bc365",
   "metadata": {},
   "source": [
    "Now check the maximum value of the column from which the outliers have been removed."
   ]
  },
  {
   "cell_type": "code",
   "execution_count": 54,
   "id": "2e2f0ce0",
   "metadata": {},
   "outputs": [
    {
     "data": {
      "text/plain": [
       "39960.0"
      ]
     },
     "execution_count": 54,
     "metadata": {},
     "output_type": "execute_result"
    }
   ],
   "source": [
    "av_data['PIC Flight Time Total Hrs'].max()"
   ]
  },
  {
   "cell_type": "markdown",
   "id": "546e13ab",
   "metadata": {},
   "source": [
    "Identify outliers in “PIC Flight Time Total Make-Model” column visually through a scatterplot."
   ]
  },
  {
   "cell_type": "code",
   "execution_count": 55,
   "id": "37d22292",
   "metadata": {},
   "outputs": [
    {
     "data": {
      "text/plain": [
       "Text(0.5, 1.0, 'Scatter of Pilot In Command flying hours of specific model for outliers detection')"
      ]
     },
     "execution_count": 55,
     "metadata": {},
     "output_type": "execute_result"
    },
    {
     "data": {
      "image/png": "[encoded data removed]",
      "text/plain": [
       "<Figure size 432x288 with 1 Axes>"
      ]
     },
     "metadata": {
      "needs_background": "light"
     },
     "output_type": "display_data"
    }
   ],
   "source": [
    "sns.scatterplot(x=av_data['PIC Flight Time Total Make-Model'],y=av_data.Year)\n",
    "plt.title('Scatter of Pilot In Command flying hours of specific model for outliers detection')"
   ]
  },
  {
   "cell_type": "markdown",
   "id": "291974c8",
   "metadata": {},
   "source": [
    "Visually there seems to be presence of some outliers. So, it should be tried to identify outliers using rules of thumb method."
   ]
  },
  {
   "cell_type": "markdown",
   "id": "62e746cb",
   "metadata": {},
   "source": [
    "Calculate mean and standard deviation of the column. Code reference lab week three feedback."
   ]
  },
  {
   "cell_type": "code",
   "execution_count": 56,
   "id": "227ce336",
   "metadata": {},
   "outputs": [],
   "source": [
    "meanPICFTTMM = av_data['PIC Flight Time Total Make-Model'].mean()\n",
    "stdPICFTTMM = av_data['PIC Flight Time Total Make-Model'].std()"
   ]
  },
  {
   "cell_type": "markdown",
   "id": "bc06dc3c",
   "metadata": {},
   "source": [
    "Check the value of mean."
   ]
  },
  {
   "cell_type": "code",
   "execution_count": 57,
   "id": "3b0431f0",
   "metadata": {},
   "outputs": [
    {
     "data": {
      "text/plain": [
       "749.6852065839818"
      ]
     },
     "execution_count": 57,
     "metadata": {},
     "output_type": "execute_result"
    }
   ],
   "source": [
    "meanPICFTTMM"
   ]
  },
  {
   "cell_type": "markdown",
   "id": "97a2c09d",
   "metadata": {},
   "source": [
    "Check the value of standard deviation."
   ]
  },
  {
   "cell_type": "code",
   "execution_count": 58,
   "id": "9250b3c7",
   "metadata": {},
   "outputs": [
    {
     "data": {
      "text/plain": [
       "1629.2628862677227"
      ]
     },
     "execution_count": 58,
     "metadata": {},
     "output_type": "execute_result"
    }
   ],
   "source": [
    "stdPICFTTMM"
   ]
  },
  {
   "cell_type": "markdown",
   "id": "c4ac0a73",
   "metadata": {},
   "source": [
    "Check the value of twice the mean and if it is greater than the standard deviation."
   ]
  },
  {
   "cell_type": "code",
   "execution_count": 59,
   "id": "55861c08",
   "metadata": {},
   "outputs": [
    {
     "data": {
      "text/plain": [
       "1499.3704131679635"
      ]
     },
     "execution_count": 59,
     "metadata": {},
     "output_type": "execute_result"
    }
   ],
   "source": [
    "2*meanPICFTTMM"
   ]
  },
  {
   "cell_type": "markdown",
   "id": "6d20f027",
   "metadata": {},
   "source": [
    "Clearly the value of twice the mean is lesser than the standard deviation."
   ]
  },
  {
   "cell_type": "markdown",
   "id": "7774fe80",
   "metadata": {},
   "source": [
    "Check the value of thrice the mean and if it is greater than the standard deviation."
   ]
  },
  {
   "cell_type": "code",
   "execution_count": 60,
   "id": "f85e9e51",
   "metadata": {},
   "outputs": [
    {
     "data": {
      "text/plain": [
       "2249.0556197519454"
      ]
     },
     "execution_count": 60,
     "metadata": {},
     "output_type": "execute_result"
    }
   ],
   "source": [
    "3*meanPICFTTMM"
   ]
  },
  {
   "cell_type": "markdown",
   "id": "8ff14fec",
   "metadata": {},
   "source": [
    "Clearly the value of thrice the mean is greater than the standard deviation."
   ]
  },
  {
   "cell_type": "markdown",
   "id": "8b822cae",
   "metadata": {},
   "source": [
    "But visually it can be seen that a major chunk of the values is greater than this value. Also, this is a data given by FAA which is very much reliable source. As per visual analysis of the scatter plot it is clear that majority of the values are below 20,000. Before considering 20,000 as the limit for considering outlier, it’s better to check how many observations are below the 20,000 value."
   ]
  },
  {
   "cell_type": "code",
   "execution_count": 61,
   "id": "950efebe",
   "metadata": {},
   "outputs": [
    {
     "data": {
      "text/plain": [
       "(77854, 24)"
      ]
     },
     "execution_count": 61,
     "metadata": {},
     "output_type": "execute_result"
    }
   ],
   "source": [
    "av_data[av_data['PIC Flight Time Total Make-Model'] < 20000].shape"
   ]
  },
  {
   "cell_type": "markdown",
   "id": "9990def1",
   "metadata": {},
   "source": [
    "Clearly majority of the observations are below the 20,000 value. So we can consider values equal to or above 20,000 as outliers."
   ]
  },
  {
   "cell_type": "markdown",
   "id": "0b7677d9",
   "metadata": {},
   "source": [
    "Remove observations which fall under the outlier’s category for this column."
   ]
  },
  {
   "cell_type": "code",
   "execution_count": 62,
   "id": "867c21e8",
   "metadata": {},
   "outputs": [],
   "source": [
    "av_data = av_data[av_data['PIC Flight Time Total Make-Model'] < 20000]"
   ]
  },
  {
   "cell_type": "markdown",
   "id": "15d76321",
   "metadata": {},
   "source": [
    "Check the changes in the number of rows."
   ]
  },
  {
   "cell_type": "code",
   "execution_count": 63,
   "id": "6cba2324",
   "metadata": {},
   "outputs": [
    {
     "data": {
      "text/plain": [
       "(77854, 24)"
      ]
     },
     "execution_count": 63,
     "metadata": {},
     "output_type": "execute_result"
    }
   ],
   "source": [
    "av_data.shape"
   ]
  },
  {
   "cell_type": "markdown",
   "id": "a988f3d2",
   "metadata": {},
   "source": [
    "Now check the maximum value of the column from which the outliers have been removed."
   ]
  },
  {
   "cell_type": "code",
   "execution_count": 64,
   "id": "a5f74343",
   "metadata": {},
   "outputs": [
    {
     "data": {
      "text/plain": [
       "19500.0"
      ]
     },
     "execution_count": 64,
     "metadata": {},
     "output_type": "execute_result"
    }
   ],
   "source": [
    "av_data['PIC Flight Time Total Make-Model'].max()"
   ]
  },
  {
   "cell_type": "markdown",
   "id": "a71ffb7d",
   "metadata": {},
   "source": [
    "It can be clearly observed that removal of observations based on outliers have reduced the number of observations of the data frame by more than 20%. The column “Severe” is a useful column that has been derived from the original data and it’s a good idea to check the changes in that column, as a result of the removal of observations."
   ]
  },
  {
   "cell_type": "code",
   "execution_count": 65,
   "id": "41b456d1",
   "metadata": {},
   "outputs": [
    {
     "data": {
      "text/plain": [
       "0    77565\n",
       "1      289\n",
       "Name: Severe, dtype: int64"
      ]
     },
     "execution_count": 65,
     "metadata": {},
     "output_type": "execute_result"
    }
   ],
   "source": [
    "av_data.Severe.value_counts()"
   ]
  },
  {
   "cell_type": "markdown",
   "id": "f3fe8bfe",
   "metadata": {},
   "source": [
    "It can be seen that the number of observations with a positive severe value have reduced to a great extent. So, it’s better not to remove observations any further at overall level but do it only at a subset level. At overall level the data is prepared enough to answer the first research question."
   ]
  },
  {
   "cell_type": "markdown",
   "id": "6faa501e",
   "metadata": {},
   "source": [
    "##### Research Question 1"
   ]
  },
  {
   "cell_type": "markdown",
   "id": "ff41a8ff",
   "metadata": {},
   "source": [
    "##### What was the trend of number of accidents over the years? From the available data what could be a possible factor for that trend."
   ]
  },
  {
   "cell_type": "markdown",
   "id": "181ee15e",
   "metadata": {},
   "source": [
    "Since each observation is an incident, one of the good ideas to answer this research question is bye showing the count plot of the years. Code reference: https://seaborn.pydata.org/generated/seaborn.countplot.html"
   ]
  },
  {
   "cell_type": "code",
   "execution_count": 66,
   "id": "c3390f91",
   "metadata": {},
   "outputs": [
    {
     "data": {
      "text/plain": [
       "Text(0.5, 1.0, 'Trend of number of Air Incidents over the years')"
      ]
     },
     "execution_count": 66,
     "metadata": {},
     "output_type": "execute_result"
    },
    {
     "data": {
      "image/png": "[encoded data removed]",
      "text/plain": [
       "<Figure size 720x432 with 1 Axes>"
      ]
     },
     "metadata": {
      "needs_background": "light"
     },
     "output_type": "display_data"
    }
   ],
   "source": [
    "plt.figure(figsize=(10,6))\n",
    "yr = sns.countplot(x=av_data.Year)\n",
    "yr.set_xticklabels(yr.get_xticklabels(), rotation=90);\n",
    "plt.title('Trend of number of Air Incidents over the years')"
   ]
  },
  {
   "cell_type": "markdown",
   "id": "a360195f",
   "metadata": {},
   "source": [
    "As per the plot the number of incidents has decreased over the time in general, although there have been some surges intermittently."
   ]
  },
  {
   "cell_type": "markdown",
   "id": "55b04199",
   "metadata": {},
   "source": [
    "The experience of the pilot in command is one of the common factors available in the given data and it is represented here in the column “PIC Flight Time Total Hrs”. It’s a nice idea to plot this column and try to correlate it with the trend of number of incidents."
   ]
  },
  {
   "cell_type": "code",
   "execution_count": 67,
   "id": "799c06b1",
   "metadata": {},
   "outputs": [
    {
     "data": {
      "text/plain": [
       "Text(0.5, 1.0, 'Trend of Pilot In Command flying hours over the years')"
      ]
     },
     "execution_count": 67,
     "metadata": {},
     "output_type": "execute_result"
    },
    {
     "data": {
      "image/png": "[encoded data removed]",
      "text/plain": [
       "<Figure size 720x432 with 1 Axes>"
      ]
     },
     "metadata": {
      "needs_background": "light"
     },
     "output_type": "display_data"
    }
   ],
   "source": [
    "plt.figure(figsize=(10,6))\n",
    "sns.lineplot(x=av_data.Year,y=av_data['PIC Flight Time Total Hrs'])\n",
    "plt.title('Trend of Pilot In Command flying hours over the years')"
   ]
  },
  {
   "cell_type": "markdown",
   "id": "cd2301b3",
   "metadata": {},
   "source": [
    "Trying to correlate both the plots, one can clearly observe that whenever there was a surge in the number of incidents there was a dip in the experience of the pilot in command. So, the experience of the pilot in command could be one of the key factors for the cause of the incidents."
   ]
  },
  {
   "cell_type": "markdown",
   "id": "7fbd9c90",
   "metadata": {},
   "source": [
    "The flight phase is another common factor available in the given data and it is represented here in the column “Flight Phase”. "
   ]
  },
  {
   "cell_type": "code",
   "execution_count": 68,
   "id": "18913b3b",
   "metadata": {},
   "outputs": [
    {
     "data": {
      "text/plain": [
       "Text(0.5, 1.0, 'Counts of Flight Phases of Air Incidents over the years')"
      ]
     },
     "execution_count": 68,
     "metadata": {},
     "output_type": "execute_result"
    },
    {
     "data": {
      "image/png": "[encoded data removed]",
      "text/plain": [
       "<Figure size 1080x432 with 1 Axes>"
      ]
     },
     "metadata": {
      "needs_background": "light"
     },
     "output_type": "display_data"
    }
   ],
   "source": [
    "plt.figure(figsize=(15,6))\n",
    "ovrlfp = sns.countplot(x=av_data['Flight Phase'])\n",
    "ovrlfp.set_xticklabels(ovrlfp.get_xticklabels(), rotation=90);\n",
    "plt.title('Counts of Flight Phases of Air Incidents over the years')"
   ]
  },
  {
   "cell_type": "markdown",
   "id": "c8a94bb9",
   "metadata": {},
   "source": [
    "The plot indicates that the level off touchdown is the phase in which the most number of incidents happened. This phase is part of landing procedure. From the answer of the first research question, a point to check is the experience of pilot in command for the incidents with this flight phase."
   ]
  },
  {
   "cell_type": "markdown",
   "id": "b7e18005",
   "metadata": {},
   "source": [
    "##### Data derivation"
   ]
  },
  {
   "cell_type": "markdown",
   "id": "fca76e6b",
   "metadata": {},
   "source": [
    "Create a subset of data frame where the flight phase is level of touchdown."
   ]
  },
  {
   "cell_type": "code",
   "execution_count": 69,
   "id": "0e60fea4",
   "metadata": {},
   "outputs": [],
   "source": [
    "lvl_touch_data = pd.DataFrame(av_data.loc[av_data['Flight Phase'] == 'LEVEL OFF TOUCHDOWN', 'PIC Flight Time Total Hrs'])"
   ]
  },
  {
   "cell_type": "markdown",
   "id": "6e9e107c",
   "metadata": {},
   "source": [
    "Have a glance of the subset data frame."
   ]
  },
  {
   "cell_type": "code",
   "execution_count": 70,
   "id": "7f7ccd80",
   "metadata": {},
   "outputs": [
    {
     "data": {
      "text/html": [
       "<div>\n",
       "<style scoped>\n",
       "    .dataframe tbody tr th:only-of-type {\n",
       "        vertical-align: middle;\n",
       "    }\n",
       "\n",
       "    .dataframe tbody tr th {\n",
       "        vertical-align: top;\n",
       "    }\n",
       "\n",
       "    .dataframe thead th {\n",
       "        text-align: right;\n",
       "    }\n",
       "</style>\n",
       "<table border=\"1\" class=\"dataframe\">\n",
       "  <thead>\n",
       "    <tr style=\"text-align: right;\">\n",
       "      <th></th>\n",
       "      <th>PIC Flight Time Total Hrs</th>\n",
       "    </tr>\n",
       "  </thead>\n",
       "  <tbody>\n",
       "    <tr>\n",
       "      <th>3</th>\n",
       "      <td>2000.0</td>\n",
       "    </tr>\n",
       "    <tr>\n",
       "      <th>11</th>\n",
       "      <td>2300.0</td>\n",
       "    </tr>\n",
       "    <tr>\n",
       "      <th>12</th>\n",
       "      <td>2300.0</td>\n",
       "    </tr>\n",
       "    <tr>\n",
       "      <th>23</th>\n",
       "      <td>4400.0</td>\n",
       "    </tr>\n",
       "    <tr>\n",
       "      <th>34</th>\n",
       "      <td>4000.0</td>\n",
       "    </tr>\n",
       "  </tbody>\n",
       "</table>\n",
       "</div>"
      ],
      "text/plain": [
       "    PIC Flight Time Total Hrs\n",
       "3                      2000.0\n",
       "11                     2300.0\n",
       "12                     2300.0\n",
       "23                     4400.0\n",
       "34                     4000.0"
      ]
     },
     "execution_count": 70,
     "metadata": {},
     "output_type": "execute_result"
    }
   ],
   "source": [
    "lvl_touch_data.head()"
   ]
  },
  {
   "cell_type": "markdown",
   "id": "be6b50b3",
   "metadata": {},
   "source": [
    "Check the majority values of the column. Code reference: https://www.youtube.com/watch?v=7sJaRHF03K8"
   ]
  },
  {
   "cell_type": "code",
   "execution_count": 71,
   "id": "bdba3c28",
   "metadata": {},
   "outputs": [
    {
     "data": {
      "text/plain": [
       "3000.0"
      ]
     },
     "execution_count": 71,
     "metadata": {},
     "output_type": "execute_result"
    }
   ],
   "source": [
    "lvl_touch_data[\"PIC Flight Time Total Hrs\"].quantile(0.75)"
   ]
  },
  {
   "cell_type": "markdown",
   "id": "6bd328fb",
   "metadata": {},
   "source": [
    "So, the experience of majority of pilots in command for the incidents where the flight phase was level off touchdown, is less than the mean value of the experience of pilot in command in overall. This concurs with the answer of the first research question."
   ]
  },
  {
   "cell_type": "markdown",
   "id": "fc038276",
   "metadata": {},
   "source": [
    "From the count plot of years, it can be seen that there was a surge in number of incidents between the years 1978 and 1980. Investigate the flight phase and experience of pilot in command during this period."
   ]
  },
  {
   "cell_type": "markdown",
   "id": "2ac6d384",
   "metadata": {},
   "source": [
    "##### Data derivation"
   ]
  },
  {
   "cell_type": "markdown",
   "id": "844090e8",
   "metadata": {},
   "source": [
    "Create a subset of data for years between 1978 and 1980."
   ]
  },
  {
   "cell_type": "code",
   "execution_count": 72,
   "id": "0588973b",
   "metadata": {},
   "outputs": [],
   "source": [
    "yrs_3high = av_data[(av_data.Year >= 1978) & (av_data.Year <= 1980)]"
   ]
  },
  {
   "cell_type": "markdown",
   "id": "66d1e8e1",
   "metadata": {},
   "source": [
    "Check the dimensions of the subset data frame."
   ]
  },
  {
   "cell_type": "code",
   "execution_count": 73,
   "id": "7474a9ba",
   "metadata": {},
   "outputs": [
    {
     "data": {
      "text/plain": [
       "(11163, 24)"
      ]
     },
     "execution_count": 73,
     "metadata": {},
     "output_type": "execute_result"
    }
   ],
   "source": [
    "yrs_3high.shape"
   ]
  },
  {
   "cell_type": "markdown",
   "id": "b4d9d068",
   "metadata": {},
   "source": [
    "Explore the flight phase of the subset through count plot."
   ]
  },
  {
   "cell_type": "code",
   "execution_count": 74,
   "id": "706e651a",
   "metadata": {},
   "outputs": [
    {
     "data": {
      "text/plain": [
       "Text(0.5, 1.0, 'Counts of Flight Phases of Air Incidents for peak years of incidents')"
      ]
     },
     "execution_count": 74,
     "metadata": {},
     "output_type": "execute_result"
    },
    {
     "data": {
      "image/png": "[encoded data removed]",
      "text/plain": [
       "<Figure size 1080x432 with 1 Axes>"
      ]
     },
     "metadata": {
      "needs_background": "light"
     },
     "output_type": "display_data"
    }
   ],
   "source": [
    "plt.figure(figsize=(15,6))\n",
    "y3hfp = sns.countplot(x=yrs_3high['Flight Phase'])\n",
    "y3hfp.set_xticklabels(y3hfp.get_xticklabels(), rotation=90);\n",
    "plt.title('Counts of Flight Phases of Air Incidents for peak years of incidents')"
   ]
  },
  {
   "cell_type": "markdown",
   "id": "234fb62a",
   "metadata": {},
   "source": [
    "In this period too, the level off touchdown is the phase in which the most number of incidents happened. Explore the experience of pilot in command for this period too."
   ]
  },
  {
   "cell_type": "markdown",
   "id": "aa128279",
   "metadata": {},
   "source": [
    "##### Data derivation"
   ]
  },
  {
   "cell_type": "markdown",
   "id": "71e8b6f2",
   "metadata": {},
   "source": [
    "Create a further subset of the subset data frame where the flight phase is level of touchdown."
   ]
  },
  {
   "cell_type": "code",
   "execution_count": 75,
   "id": "bda7f4bb",
   "metadata": {},
   "outputs": [],
   "source": [
    "lvl_touch_data_1 = pd.DataFrame(yrs_3high.loc[yrs_3high['Flight Phase'] == 'LEVEL OFF TOUCHDOWN', 'PIC Flight Time Total Hrs'])"
   ]
  },
  {
   "cell_type": "markdown",
   "id": "d998dcd0",
   "metadata": {},
   "source": [
    "Have a glance of the subset data frame."
   ]
  },
  {
   "cell_type": "code",
   "execution_count": 76,
   "id": "15944d77",
   "metadata": {},
   "outputs": [
    {
     "data": {
      "text/html": [
       "<div>\n",
       "<style scoped>\n",
       "    .dataframe tbody tr th:only-of-type {\n",
       "        vertical-align: middle;\n",
       "    }\n",
       "\n",
       "    .dataframe tbody tr th {\n",
       "        vertical-align: top;\n",
       "    }\n",
       "\n",
       "    .dataframe thead th {\n",
       "        text-align: right;\n",
       "    }\n",
       "</style>\n",
       "<table border=\"1\" class=\"dataframe\">\n",
       "  <thead>\n",
       "    <tr style=\"text-align: right;\">\n",
       "      <th></th>\n",
       "      <th>PIC Flight Time Total Hrs</th>\n",
       "    </tr>\n",
       "  </thead>\n",
       "  <tbody>\n",
       "    <tr>\n",
       "      <th>3</th>\n",
       "      <td>2000.0</td>\n",
       "    </tr>\n",
       "    <tr>\n",
       "      <th>11</th>\n",
       "      <td>2300.0</td>\n",
       "    </tr>\n",
       "    <tr>\n",
       "      <th>12</th>\n",
       "      <td>2300.0</td>\n",
       "    </tr>\n",
       "    <tr>\n",
       "      <th>23</th>\n",
       "      <td>4400.0</td>\n",
       "    </tr>\n",
       "    <tr>\n",
       "      <th>34</th>\n",
       "      <td>4000.0</td>\n",
       "    </tr>\n",
       "  </tbody>\n",
       "</table>\n",
       "</div>"
      ],
      "text/plain": [
       "    PIC Flight Time Total Hrs\n",
       "3                      2000.0\n",
       "11                     2300.0\n",
       "12                     2300.0\n",
       "23                     4400.0\n",
       "34                     4000.0"
      ]
     },
     "execution_count": 76,
     "metadata": {},
     "output_type": "execute_result"
    }
   ],
   "source": [
    "lvl_touch_data_1.head()"
   ]
  },
  {
   "cell_type": "markdown",
   "id": "eaa12dc7",
   "metadata": {},
   "source": [
    "Check the majority values of the column. "
   ]
  },
  {
   "cell_type": "code",
   "execution_count": 77,
   "id": "b55e5396",
   "metadata": {},
   "outputs": [
    {
     "data": {
      "text/plain": [
       "2601.5"
      ]
     },
     "execution_count": 77,
     "metadata": {},
     "output_type": "execute_result"
    }
   ],
   "source": [
    "lvl_touch_data_1['PIC Flight Time Total Hrs'].quantile(0.75)"
   ]
  },
  {
   "cell_type": "markdown",
   "id": "d4c7ac70",
   "metadata": {},
   "source": [
    "Again, the experience of pilot in command is less than the mean of the experience of pilot in command in overall."
   ]
  },
  {
   "cell_type": "markdown",
   "id": "e1a48a88",
   "metadata": {},
   "source": [
    "From the count plot of years, it can be seen that there was a surge in the number of incidents between the years 1986 and 1981. So, repeat the above procedure for this period too to check if the flight phase and experience of the pilot in command display a similar trend."
   ]
  },
  {
   "cell_type": "code",
   "execution_count": 78,
   "id": "8974de76",
   "metadata": {},
   "outputs": [],
   "source": [
    "yrs_surge1 = av_data[(av_data.Year >= 1986) & (av_data.Year <= 1991)]"
   ]
  },
  {
   "cell_type": "code",
   "execution_count": 79,
   "id": "b33bb0db",
   "metadata": {},
   "outputs": [
    {
     "data": {
      "text/plain": [
       "(17968, 24)"
      ]
     },
     "execution_count": 79,
     "metadata": {},
     "output_type": "execute_result"
    }
   ],
   "source": [
    "yrs_surge1.shape"
   ]
  },
  {
   "cell_type": "code",
   "execution_count": 80,
   "id": "f27b7ffe",
   "metadata": {},
   "outputs": [
    {
     "data": {
      "text/plain": [
       "Text(0.5, 1.0, 'Counts of Flight Phases of Air Incidents for years of highest surge in incidents')"
      ]
     },
     "execution_count": 80,
     "metadata": {},
     "output_type": "execute_result"
    },
    {
     "data": {
      "image/png": "[encoded data removed]",
      "text/plain": [
       "<Figure size 1080x432 with 1 Axes>"
      ]
     },
     "metadata": {
      "needs_background": "light"
     },
     "output_type": "display_data"
    }
   ],
   "source": [
    "plt.figure(figsize=(15,6))\n",
    "ysfp1 = sns.countplot(x=yrs_surge1['Flight Phase'])\n",
    "ysfp1.set_xticklabels(ysfp1.get_xticklabels(), rotation=90);\n",
    "plt.title('Counts of Flight Phases of Air Incidents for years of highest surge in incidents')"
   ]
  },
  {
   "cell_type": "markdown",
   "id": "3a774eca",
   "metadata": {},
   "source": [
    "Interestingly for this period, roll out fixed wing was the flight phase in which most of the incidents occurred. But again, this is also a part of landing procedure and so it makes sense to check the pilot experience for this case too."
   ]
  },
  {
   "cell_type": "code",
   "execution_count": 81,
   "id": "12fdee52",
   "metadata": {},
   "outputs": [],
   "source": [
    "rollout_data = pd.DataFrame(yrs_3high.loc[yrs_3high['Flight Phase'] == 'ROLL-OUT (FIXED WING)', 'PIC Flight Time Total Hrs'])"
   ]
  },
  {
   "cell_type": "code",
   "execution_count": 82,
   "id": "42c70812",
   "metadata": {},
   "outputs": [
    {
     "data": {
      "text/html": [
       "<div>\n",
       "<style scoped>\n",
       "    .dataframe tbody tr th:only-of-type {\n",
       "        vertical-align: middle;\n",
       "    }\n",
       "\n",
       "    .dataframe tbody tr th {\n",
       "        vertical-align: top;\n",
       "    }\n",
       "\n",
       "    .dataframe thead th {\n",
       "        text-align: right;\n",
       "    }\n",
       "</style>\n",
       "<table border=\"1\" class=\"dataframe\">\n",
       "  <thead>\n",
       "    <tr style=\"text-align: right;\">\n",
       "      <th></th>\n",
       "      <th>PIC Flight Time Total Hrs</th>\n",
       "    </tr>\n",
       "  </thead>\n",
       "  <tbody>\n",
       "    <tr>\n",
       "      <th>0</th>\n",
       "      <td>245.0</td>\n",
       "    </tr>\n",
       "    <tr>\n",
       "      <th>1</th>\n",
       "      <td>200.0</td>\n",
       "    </tr>\n",
       "    <tr>\n",
       "      <th>9</th>\n",
       "      <td>90.0</td>\n",
       "    </tr>\n",
       "    <tr>\n",
       "      <th>18</th>\n",
       "      <td>200.0</td>\n",
       "    </tr>\n",
       "    <tr>\n",
       "      <th>30</th>\n",
       "      <td>5500.0</td>\n",
       "    </tr>\n",
       "  </tbody>\n",
       "</table>\n",
       "</div>"
      ],
      "text/plain": [
       "    PIC Flight Time Total Hrs\n",
       "0                       245.0\n",
       "1                       200.0\n",
       "9                        90.0\n",
       "18                      200.0\n",
       "30                     5500.0"
      ]
     },
     "execution_count": 82,
     "metadata": {},
     "output_type": "execute_result"
    }
   ],
   "source": [
    "rollout_data.head()"
   ]
  },
  {
   "cell_type": "code",
   "execution_count": 83,
   "id": "995c6709",
   "metadata": {},
   "outputs": [
    {
     "data": {
      "text/plain": [
       "3108.0"
      ]
     },
     "execution_count": 83,
     "metadata": {},
     "output_type": "execute_result"
    }
   ],
   "source": [
    "rollout_data['PIC Flight Time Total Hrs'].quantile(0.75)"
   ]
  },
  {
   "cell_type": "markdown",
   "id": "7557820f",
   "metadata": {},
   "source": [
    "The experience of pilot in command is again showing a similar trend as for the above cases."
   ]
  },
  {
   "cell_type": "markdown",
   "id": "e11a873f",
   "metadata": {},
   "source": [
    "So, it could be possible that the answer to the first research question might have been influenced by these different periods of incidents."
   ]
  },
  {
   "cell_type": "markdown",
   "id": "0cb5df66",
   "metadata": {},
   "source": [
    "Check the trend of number of severe incidents over the years and the type of damage caused to the aircrafts in these cases."
   ]
  },
  {
   "cell_type": "code",
   "execution_count": 84,
   "id": "d7f8e219",
   "metadata": {},
   "outputs": [
    {
     "data": {
      "text/plain": [
       "Text(0.5, 1.0, 'Trend of number of Severe Incidents over the years')"
      ]
     },
     "execution_count": 84,
     "metadata": {},
     "output_type": "execute_result"
    },
    {
     "data": {
      "image/png": "[encoded data removed]",
      "text/plain": [
       "<Figure size 720x432 with 1 Axes>"
      ]
     },
     "metadata": {
      "needs_background": "light"
     },
     "output_type": "display_data"
    }
   ],
   "source": [
    "plt.figure(figsize=(10,6))\n",
    "yr_sr = sns.barplot(x=av_data.Year,y=av_data.Severe)\n",
    "yr_sr.set_xticklabels(yr_sr.get_xticklabels(), rotation = 90);\n",
    "plt.title('Trend of number of Severe Incidents over the years')"
   ]
  },
  {
   "cell_type": "code",
   "execution_count": 85,
   "id": "60989095",
   "metadata": {},
   "outputs": [
    {
     "data": {
      "text/plain": [
       "Text(0.5, 1.0, 'Trend of Damage to the aircraft in relation to Severe incidents')"
      ]
     },
     "execution_count": 85,
     "metadata": {},
     "output_type": "execute_result"
    },
    {
     "data": {
      "image/png": "[encoded data removed]",
      "text/plain": [
       "<Figure size 720x432 with 1 Axes>"
      ]
     },
     "metadata": {
      "needs_background": "light"
     },
     "output_type": "display_data"
    }
   ],
   "source": [
    "plt.figure(figsize=(10,6))\n",
    "dam_sr = sns.barplot(x=av_data['Aircraft Damage'],y=av_data.Severe)\n",
    "dam_sr.set_xticklabels(dam_sr.get_xticklabels(), rotation = 90);\n",
    "plt.title('Trend of Damage to the aircraft in relation to Severe incidents')"
   ]
  },
  {
   "cell_type": "markdown",
   "id": "9e412757",
   "metadata": {},
   "source": [
    "From the above two plots it is not so clear, so it’s better to create a subset of data for severe incidents and then explore the same."
   ]
  },
  {
   "cell_type": "markdown",
   "id": "db496cbc",
   "metadata": {},
   "source": [
    "##### Data derivation"
   ]
  },
  {
   "cell_type": "markdown",
   "id": "6eb9ed18",
   "metadata": {},
   "source": [
    "Create a subset of data for severe incidents with only the year, the severe and the aircraft damage columns."
   ]
  },
  {
   "cell_type": "code",
   "execution_count": 86,
   "id": "12fd8de8",
   "metadata": {},
   "outputs": [],
   "source": [
    "years_sever = pd.DataFrame({'Year':av_data.Year,'Severe':av_data.Severe,'Aircraft Damage':av_data['Aircraft Damage']})"
   ]
  },
  {
   "cell_type": "code",
   "execution_count": 87,
   "id": "a324dd75",
   "metadata": {},
   "outputs": [],
   "source": [
    "years_sever = years_sever[years_sever.Severe == 1]"
   ]
  },
  {
   "cell_type": "markdown",
   "id": "020ac775",
   "metadata": {},
   "source": [
    "Check the dimensions of this subset data frame."
   ]
  },
  {
   "cell_type": "code",
   "execution_count": 88,
   "id": "abf639d0",
   "metadata": {},
   "outputs": [
    {
     "data": {
      "text/plain": [
       "(289, 3)"
      ]
     },
     "execution_count": 88,
     "metadata": {},
     "output_type": "execute_result"
    }
   ],
   "source": [
    "years_sever.shape"
   ]
  },
  {
   "cell_type": "markdown",
   "id": "8190686e",
   "metadata": {},
   "source": [
    "Check the trends of incidents over years and type of aircraft damage for this subset."
   ]
  },
  {
   "cell_type": "code",
   "execution_count": 89,
   "id": "2815988f",
   "metadata": {},
   "outputs": [
    {
     "data": {
      "text/plain": [
       "Text(0.5, 1.0, 'Trend of number of Severe Air Incidents over the years')"
      ]
     },
     "execution_count": 89,
     "metadata": {},
     "output_type": "execute_result"
    },
    {
     "data": {
      "image/png": "[encoded data removed]",
      "text/plain": [
       "<Figure size 720x432 with 1 Axes>"
      ]
     },
     "metadata": {
      "needs_background": "light"
     },
     "output_type": "display_data"
    }
   ],
   "source": [
    "plt.figure(figsize=(10,6))\n",
    "yrsr_count = sns.countplot(x=years_sever.Year)\n",
    "yrsr_count.set_xticklabels(yrsr_count.get_xticklabels(), rotation=90);\n",
    "plt.title('Trend of number of Severe Air Incidents over the years')"
   ]
  },
  {
   "cell_type": "code",
   "execution_count": 90,
   "id": "e917c9d6",
   "metadata": {},
   "outputs": [
    {
     "data": {
      "text/plain": [
       "Text(0.5, 1.0, 'Trend of Damage to the aircraft for Severe incidents')"
      ]
     },
     "execution_count": 90,
     "metadata": {},
     "output_type": "execute_result"
    },
    {
     "data": {
      "image/png": "[encoded data removed]",
      "text/plain": [
       "<Figure size 1080x432 with 1 Axes>"
      ]
     },
     "metadata": {
      "needs_background": "light"
     },
     "output_type": "display_data"
    }
   ],
   "source": [
    "plt.figure(figsize=(15,6))\n",
    "yrsr_dam = sns.countplot(data=years_sever,x=years_sever.Year,hue=\"Aircraft Damage\")\n",
    "yrsr_dam.set_xticklabels(yrsr_dam.get_xticklabels(), rotation=90);\n",
    "plt.title('Trend of Damage to the aircraft for Severe incidents')"
   ]
  },
  {
   "cell_type": "markdown",
   "id": "84bcd53a",
   "metadata": {},
   "source": [
    "The trend of number of severe incidents over the years is very different from that of all the incidents in general."
   ]
  },
  {
   "cell_type": "markdown",
   "id": "3f24ce52",
   "metadata": {},
   "source": [
    "###### Answer to Researh Question 1."
   ]
  },
  {
   "cell_type": "markdown",
   "id": "9ce2b671",
   "metadata": {},
   "source": [
    "###### From all the above observations, the answer to the first research question is that the trend of number of incidents has decreased over the time in overall, although there were some surges intermittently. From the given data the factor that appears to create this trend is the increase and/or decrease in the flight hours of the pilot in command."
   ]
  },
  {
   "cell_type": "markdown",
   "id": "0930c99a",
   "metadata": {},
   "source": [
    "###### The remaining research questions are not based on the whole data in general but are specific to group of variables on different basis. So, further analysis would be done on different basis and hence will be done over subsets of data with different groups of features. "
   ]
  },
  {
   "cell_type": "markdown",
   "id": "eed8e5f9",
   "metadata": {},
   "source": [
    "For this purpose, a true copy of the data set is created."
   ]
  },
  {
   "cell_type": "code",
   "execution_count": 91,
   "id": "7f2cff77",
   "metadata": {},
   "outputs": [],
   "source": [
    "av_data_copy = av_data.copy()"
   ]
  },
  {
   "cell_type": "markdown",
   "id": "ae37791b",
   "metadata": {},
   "source": [
    "Have a glance and check the copy data frame."
   ]
  },
  {
   "cell_type": "markdown",
   "id": "90e20e70",
   "metadata": {},
   "source": [
    "##### Research Question 2 - location basis"
   ]
  },
  {
   "cell_type": "markdown",
   "id": "432723ae",
   "metadata": {},
   "source": [
    "###### Which was the most dangerous location and what could be the possible factors from the given data due to which that location was the most dangerous."
   ]
  },
  {
   "cell_type": "markdown",
   "id": "ecc15ae5",
   "metadata": {},
   "source": [
    "To answer this question, we choose the event airport as the main column and create a subset of data with all the relevant columns."
   ]
  },
  {
   "cell_type": "code",
   "execution_count": 92,
   "id": "7d9110d7",
   "metadata": {},
   "outputs": [],
   "source": [
    "loc_basis_data = av_data_copy[['Event City','Event Airport','Aircraft Damage','Flight Phase','Primary Flight Type',\n",
    "             'Flight Conduct Code','Flight Plan Filed Code','Aircraft Registration Nbr','Year','Severe']]"
   ]
  },
  {
   "cell_type": "markdown",
   "id": "b0e6c629",
   "metadata": {},
   "source": [
    "Have a glance of the created subset."
   ]
  },
  {
   "cell_type": "code",
   "execution_count": 93,
   "id": "a12ef24e",
   "metadata": {},
   "outputs": [
    {
     "data": {
      "text/html": [
       "<div>\n",
       "<style scoped>\n",
       "    .dataframe tbody tr th:only-of-type {\n",
       "        vertical-align: middle;\n",
       "    }\n",
       "\n",
       "    .dataframe tbody tr th {\n",
       "        vertical-align: top;\n",
       "    }\n",
       "\n",
       "    .dataframe thead th {\n",
       "        text-align: right;\n",
       "    }\n",
       "</style>\n",
       "<table border=\"1\" class=\"dataframe\">\n",
       "  <thead>\n",
       "    <tr style=\"text-align: right;\">\n",
       "      <th></th>\n",
       "      <th>Event City</th>\n",
       "      <th>Event Airport</th>\n",
       "      <th>Aircraft Damage</th>\n",
       "      <th>Flight Phase</th>\n",
       "      <th>Primary Flight Type</th>\n",
       "      <th>Flight Conduct Code</th>\n",
       "      <th>Flight Plan Filed Code</th>\n",
       "      <th>Aircraft Registration Nbr</th>\n",
       "      <th>Year</th>\n",
       "      <th>Severe</th>\n",
       "    </tr>\n",
       "  </thead>\n",
       "  <tbody>\n",
       "    <tr>\n",
       "      <th>0</th>\n",
       "      <td>WAHPETON</td>\n",
       "      <td>BRECKENRIDGE</td>\n",
       "      <td>MINOR</td>\n",
       "      <td>ROLL-OUT (FIXED WING)</td>\n",
       "      <td>PERSONAL</td>\n",
       "      <td>GENERAL OPERATING RULES</td>\n",
       "      <td>NONE</td>\n",
       "      <td>2691Q</td>\n",
       "      <td>1978</td>\n",
       "      <td>0</td>\n",
       "    </tr>\n",
       "    <tr>\n",
       "      <th>1</th>\n",
       "      <td>FAIRBANKS</td>\n",
       "      <td>FAIRBANKS INTL</td>\n",
       "      <td>MINOR</td>\n",
       "      <td>ROLL-OUT (FIXED WING)</td>\n",
       "      <td>PERSONAL</td>\n",
       "      <td>GENERAL OPERATING RULES</td>\n",
       "      <td>VISUAL FLIGHT RULES</td>\n",
       "      <td>4073E</td>\n",
       "      <td>1978</td>\n",
       "      <td>0</td>\n",
       "    </tr>\n",
       "    <tr>\n",
       "      <th>3</th>\n",
       "      <td>CARLSBAD</td>\n",
       "      <td>MC CLELLAN-PALOMAR</td>\n",
       "      <td>MINOR</td>\n",
       "      <td>LEVEL OFF TOUCHDOWN</td>\n",
       "      <td>PERSONAL</td>\n",
       "      <td>GENERAL OPERATING RULES</td>\n",
       "      <td>VISUAL FLIGHT RULES</td>\n",
       "      <td>2250F</td>\n",
       "      <td>1978</td>\n",
       "      <td>0</td>\n",
       "    </tr>\n",
       "    <tr>\n",
       "      <th>4</th>\n",
       "      <td>TROUTDALE</td>\n",
       "      <td>TROUTDALE MUNI</td>\n",
       "      <td>MINOR</td>\n",
       "      <td>GROUND TAXI, OTHER AIRPLANE</td>\n",
       "      <td>PERSONAL</td>\n",
       "      <td>GENERAL OPERATING RULES</td>\n",
       "      <td>NONE</td>\n",
       "      <td>738FD</td>\n",
       "      <td>1978</td>\n",
       "      <td>0</td>\n",
       "    </tr>\n",
       "    <tr>\n",
       "      <th>7</th>\n",
       "      <td>LAFAYETTE</td>\n",
       "      <td>PURDUE UNIVERSITY</td>\n",
       "      <td>NaN</td>\n",
       "      <td>NORMAL CRUISE</td>\n",
       "      <td>OTHER</td>\n",
       "      <td>GENERAL OPERATING RULES</td>\n",
       "      <td>VISUAL FLIGHT RULES</td>\n",
       "      <td>27196</td>\n",
       "      <td>1978</td>\n",
       "      <td>0</td>\n",
       "    </tr>\n",
       "  </tbody>\n",
       "</table>\n",
       "</div>"
      ],
      "text/plain": [
       "  Event City       Event Airport Aircraft Damage                 Flight Phase  \\\n",
       "0   WAHPETON        BRECKENRIDGE           MINOR        ROLL-OUT (FIXED WING)   \n",
       "1  FAIRBANKS      FAIRBANKS INTL           MINOR        ROLL-OUT (FIXED WING)   \n",
       "3   CARLSBAD  MC CLELLAN-PALOMAR           MINOR          LEVEL OFF TOUCHDOWN   \n",
       "4  TROUTDALE      TROUTDALE MUNI           MINOR  GROUND TAXI, OTHER AIRPLANE   \n",
       "7  LAFAYETTE   PURDUE UNIVERSITY             NaN                NORMAL CRUISE   \n",
       "\n",
       "  Primary Flight Type      Flight Conduct Code Flight Plan Filed Code  \\\n",
       "0            PERSONAL  GENERAL OPERATING RULES                   NONE   \n",
       "1            PERSONAL  GENERAL OPERATING RULES    VISUAL FLIGHT RULES   \n",
       "3            PERSONAL  GENERAL OPERATING RULES    VISUAL FLIGHT RULES   \n",
       "4            PERSONAL  GENERAL OPERATING RULES                   NONE   \n",
       "7               OTHER  GENERAL OPERATING RULES    VISUAL FLIGHT RULES   \n",
       "\n",
       "  Aircraft Registration Nbr  Year  Severe  \n",
       "0                     2691Q  1978       0  \n",
       "1                     4073E  1978       0  \n",
       "3                     2250F  1978       0  \n",
       "4                     738FD  1978       0  \n",
       "7                     27196  1978       0  "
      ]
     },
     "execution_count": 93,
     "metadata": {},
     "output_type": "execute_result"
    }
   ],
   "source": [
    "loc_basis_data.head()"
   ]
  },
  {
   "cell_type": "code",
   "execution_count": 94,
   "id": "38af4553",
   "metadata": {},
   "outputs": [
    {
     "data": {
      "text/plain": [
       "(77854, 10)"
      ]
     },
     "execution_count": 94,
     "metadata": {},
     "output_type": "execute_result"
    }
   ],
   "source": [
    "loc_basis_data.shape"
   ]
  },
  {
   "cell_type": "markdown",
   "id": "ca0d538b",
   "metadata": {},
   "source": [
    "Check missing values for the created subset. Code reference: https://www.kaggle.com/itssuru/eda-cristiano-ronaldo-s-career"
   ]
  },
  {
   "cell_type": "code",
   "execution_count": 95,
   "id": "03540095",
   "metadata": {},
   "outputs": [
    {
     "data": {
      "text/plain": [
       "Event City                    6552\n",
       "Event Airport                15123\n",
       "Aircraft Damage              16828\n",
       "Flight Phase                   108\n",
       "Primary Flight Type           8182\n",
       "Flight Conduct Code             44\n",
       "Flight Plan Filed Code        9891\n",
       "Aircraft Registration Nbr        0\n",
       "Year                             0\n",
       "Severe                           0\n",
       "dtype: int64"
      ]
     },
     "execution_count": 95,
     "metadata": {},
     "output_type": "execute_result"
    }
   ],
   "source": [
    "loc_basis_data.isnull().sum()"
   ]
  },
  {
   "cell_type": "markdown",
   "id": "92f3fa1c",
   "metadata": {},
   "source": [
    "It can be seen that the key column event airport has a lot of missing values which needs to be dropped. But this may also lead to drop in the number of observations which are severe. So instead of dropping the missing values in the subset, it’s better to do the analysis of the subset in two different sections, that is one for not severe cases and the other for severe cases."
   ]
  },
  {
   "cell_type": "markdown",
   "id": "d4fe3a0a",
   "metadata": {},
   "source": [
    "Check the count of not severe and severe incidents."
   ]
  },
  {
   "cell_type": "code",
   "execution_count": 96,
   "id": "0ccfc3b8",
   "metadata": {},
   "outputs": [
    {
     "data": {
      "text/plain": [
       "0    77565\n",
       "1      289\n",
       "Name: Severe, dtype: int64"
      ]
     },
     "execution_count": 96,
     "metadata": {},
     "output_type": "execute_result"
    }
   ],
   "source": [
    "loc_basis_data.Severe.value_counts()"
   ]
  },
  {
   "cell_type": "markdown",
   "id": "af5588f1",
   "metadata": {},
   "source": [
    "Create a further subset of not severe incidents."
   ]
  },
  {
   "cell_type": "code",
   "execution_count": 97,
   "id": "0a8eb94f",
   "metadata": {},
   "outputs": [],
   "source": [
    "loc_basis_notsevere = loc_basis_data[loc_basis_data.Severe == 0]"
   ]
  },
  {
   "cell_type": "markdown",
   "id": "8a1446a4",
   "metadata": {},
   "source": [
    "Find the airport with highest number of incidents for not severe incidents. Code reference: https://www.youtube.com/watch?v=FdudxZN6rIo"
   ]
  },
  {
   "cell_type": "code",
   "execution_count": 98,
   "id": "40ef6423",
   "metadata": {},
   "outputs": [
    {
     "data": {
      "text/plain": [
       "'DENVER INTL'"
      ]
     },
     "execution_count": 98,
     "metadata": {},
     "output_type": "execute_result"
    }
   ],
   "source": [
    "loc_basis_notsevere['Event Airport'].value_counts().index[0]"
   ]
  },
  {
   "cell_type": "markdown",
   "id": "34ffae7f",
   "metadata": {},
   "source": [
    "Create a further subset data frame exclusively for this airport."
   ]
  },
  {
   "cell_type": "code",
   "execution_count": 99,
   "id": "99acc4e3",
   "metadata": {},
   "outputs": [],
   "source": [
    "High_Inci_Airpt = loc_basis_notsevere[loc_basis_notsevere['Event Airport'] == \n",
    "                                      loc_basis_notsevere['Event Airport'].value_counts().index[0]]"
   ]
  },
  {
   "cell_type": "markdown",
   "id": "0fba4dee",
   "metadata": {},
   "source": [
    "Check the data for him exclusive to this airport."
   ]
  },
  {
   "cell_type": "code",
   "execution_count": 100,
   "id": "2ec33d12",
   "metadata": {},
   "outputs": [
    {
     "data": {
      "text/html": [
       "<div>\n",
       "<style scoped>\n",
       "    .dataframe tbody tr th:only-of-type {\n",
       "        vertical-align: middle;\n",
       "    }\n",
       "\n",
       "    .dataframe tbody tr th {\n",
       "        vertical-align: top;\n",
       "    }\n",
       "\n",
       "    .dataframe thead th {\n",
       "        text-align: right;\n",
       "    }\n",
       "</style>\n",
       "<table border=\"1\" class=\"dataframe\">\n",
       "  <thead>\n",
       "    <tr style=\"text-align: right;\">\n",
       "      <th></th>\n",
       "      <th>Event City</th>\n",
       "      <th>Event Airport</th>\n",
       "      <th>Aircraft Damage</th>\n",
       "      <th>Flight Phase</th>\n",
       "      <th>Primary Flight Type</th>\n",
       "      <th>Flight Conduct Code</th>\n",
       "      <th>Flight Plan Filed Code</th>\n",
       "      <th>Aircraft Registration Nbr</th>\n",
       "      <th>Year</th>\n",
       "      <th>Severe</th>\n",
       "    </tr>\n",
       "  </thead>\n",
       "  <tbody>\n",
       "    <tr>\n",
       "      <th>1079</th>\n",
       "      <td>DENVER</td>\n",
       "      <td>DENVER INTL</td>\n",
       "      <td>MINOR</td>\n",
       "      <td>GROUND TAXI, OTHER AIRPLANE</td>\n",
       "      <td>BUSINESS</td>\n",
       "      <td>GENERAL OPERATING RULES</td>\n",
       "      <td>NONE</td>\n",
       "      <td>19RF</td>\n",
       "      <td>1978</td>\n",
       "      <td>0</td>\n",
       "    </tr>\n",
       "    <tr>\n",
       "      <th>1272</th>\n",
       "      <td>DENVER</td>\n",
       "      <td>DENVER INTL</td>\n",
       "      <td>MINOR</td>\n",
       "      <td>LEVEL OFF TOUCHDOWN</td>\n",
       "      <td>PERSONAL</td>\n",
       "      <td>GENERAL OPERATING RULES</td>\n",
       "      <td>NONE</td>\n",
       "      <td>1751W</td>\n",
       "      <td>1978</td>\n",
       "      <td>0</td>\n",
       "    </tr>\n",
       "    <tr>\n",
       "      <th>1708</th>\n",
       "      <td>DENVER</td>\n",
       "      <td>DENVER INTL</td>\n",
       "      <td>MINOR</td>\n",
       "      <td>GROUND TAXI, OTHER AIRPLANE</td>\n",
       "      <td>EXECUTIVE</td>\n",
       "      <td>GENERAL OPERATING RULES</td>\n",
       "      <td>INSTRUMENT FLIGHT RULES</td>\n",
       "      <td>69489</td>\n",
       "      <td>1978</td>\n",
       "      <td>0</td>\n",
       "    </tr>\n",
       "    <tr>\n",
       "      <th>2149</th>\n",
       "      <td>DENVER</td>\n",
       "      <td>DENVER INTL</td>\n",
       "      <td>MINOR</td>\n",
       "      <td>TO ABORTED (FIXED WING)</td>\n",
       "      <td>AIR TAXI (SCHEDULED- NOT COMMUTER)</td>\n",
       "      <td>AIR TAXI/COMMUTER</td>\n",
       "      <td>INSTRUMENT FLIGHT RULES</td>\n",
       "      <td>33FE</td>\n",
       "      <td>1978</td>\n",
       "      <td>0</td>\n",
       "    </tr>\n",
       "    <tr>\n",
       "      <th>3100</th>\n",
       "      <td>DENVER</td>\n",
       "      <td>DENVER INTL</td>\n",
       "      <td>NaN</td>\n",
       "      <td>CLIMB</td>\n",
       "      <td>PERSONAL</td>\n",
       "      <td>GENERAL OPERATING RULES</td>\n",
       "      <td>VISUAL FLIGHT RULES</td>\n",
       "      <td>5612P</td>\n",
       "      <td>1978</td>\n",
       "      <td>0</td>\n",
       "    </tr>\n",
       "    <tr>\n",
       "      <th>...</th>\n",
       "      <td>...</td>\n",
       "      <td>...</td>\n",
       "      <td>...</td>\n",
       "      <td>...</td>\n",
       "      <td>...</td>\n",
       "      <td>...</td>\n",
       "      <td>...</td>\n",
       "      <td>...</td>\n",
       "      <td>...</td>\n",
       "      <td>...</td>\n",
       "    </tr>\n",
       "    <tr>\n",
       "      <th>97858</th>\n",
       "      <td>DENVER</td>\n",
       "      <td>DENVER INTL</td>\n",
       "      <td>NONE</td>\n",
       "      <td>LANDING: APPROACH</td>\n",
       "      <td>NaN</td>\n",
       "      <td>AIR CARRIER/COMMERCIAL</td>\n",
       "      <td>NaN</td>\n",
       "      <td>644RW</td>\n",
       "      <td>2014</td>\n",
       "      <td>0</td>\n",
       "    </tr>\n",
       "    <tr>\n",
       "      <th>98661</th>\n",
       "      <td>DENVER</td>\n",
       "      <td>DENVER INTL</td>\n",
       "      <td>MINOR</td>\n",
       "      <td>TAKEOFF: ROTATION</td>\n",
       "      <td>NaN</td>\n",
       "      <td>GENERAL OPERATING RULES</td>\n",
       "      <td>NaN</td>\n",
       "      <td>694ES</td>\n",
       "      <td>2014</td>\n",
       "      <td>0</td>\n",
       "    </tr>\n",
       "    <tr>\n",
       "      <th>99459</th>\n",
       "      <td>DENVER</td>\n",
       "      <td>DENVER INTL</td>\n",
       "      <td>NONE</td>\n",
       "      <td>LANDING: TOUCHDOWN</td>\n",
       "      <td>NaN</td>\n",
       "      <td>AIR CARRIER/COMMERCIAL</td>\n",
       "      <td>NaN</td>\n",
       "      <td>200NN</td>\n",
       "      <td>2015</td>\n",
       "      <td>0</td>\n",
       "    </tr>\n",
       "    <tr>\n",
       "      <th>99588</th>\n",
       "      <td>MAX</td>\n",
       "      <td>DENVER INTL</td>\n",
       "      <td>MINOR</td>\n",
       "      <td>CRUISE-LEVEL FLIGHT</td>\n",
       "      <td>NaN</td>\n",
       "      <td>AIR CARRIER/COMMERCIAL</td>\n",
       "      <td>NaN</td>\n",
       "      <td>332NW</td>\n",
       "      <td>2015</td>\n",
       "      <td>0</td>\n",
       "    </tr>\n",
       "    <tr>\n",
       "      <th>99776</th>\n",
       "      <td>DENVER</td>\n",
       "      <td>DENVER INTL</td>\n",
       "      <td>MINOR</td>\n",
       "      <td>LANDING: TOUCHDOWN</td>\n",
       "      <td>NaN</td>\n",
       "      <td>AIR TAXI/COMMUTER</td>\n",
       "      <td>NaN</td>\n",
       "      <td>5079E</td>\n",
       "      <td>2015</td>\n",
       "      <td>0</td>\n",
       "    </tr>\n",
       "  </tbody>\n",
       "</table>\n",
       "<p>317 rows × 10 columns</p>\n",
       "</div>"
      ],
      "text/plain": [
       "      Event City Event Airport Aircraft Damage                 Flight Phase  \\\n",
       "1079      DENVER   DENVER INTL           MINOR  GROUND TAXI, OTHER AIRPLANE   \n",
       "1272      DENVER   DENVER INTL           MINOR          LEVEL OFF TOUCHDOWN   \n",
       "1708      DENVER   DENVER INTL           MINOR  GROUND TAXI, OTHER AIRPLANE   \n",
       "2149      DENVER   DENVER INTL           MINOR      TO ABORTED (FIXED WING)   \n",
       "3100      DENVER   DENVER INTL             NaN                        CLIMB   \n",
       "...          ...           ...             ...                          ...   \n",
       "97858     DENVER   DENVER INTL            NONE            LANDING: APPROACH   \n",
       "98661     DENVER   DENVER INTL           MINOR            TAKEOFF: ROTATION   \n",
       "99459     DENVER   DENVER INTL            NONE           LANDING: TOUCHDOWN   \n",
       "99588        MAX   DENVER INTL           MINOR          CRUISE-LEVEL FLIGHT   \n",
       "99776     DENVER   DENVER INTL           MINOR           LANDING: TOUCHDOWN   \n",
       "\n",
       "                      Primary Flight Type      Flight Conduct Code  \\\n",
       "1079                             BUSINESS  GENERAL OPERATING RULES   \n",
       "1272                             PERSONAL  GENERAL OPERATING RULES   \n",
       "1708                            EXECUTIVE  GENERAL OPERATING RULES   \n",
       "2149   AIR TAXI (SCHEDULED- NOT COMMUTER)        AIR TAXI/COMMUTER   \n",
       "3100                             PERSONAL  GENERAL OPERATING RULES   \n",
       "...                                   ...                      ...   \n",
       "97858                                 NaN   AIR CARRIER/COMMERCIAL   \n",
       "98661                                 NaN  GENERAL OPERATING RULES   \n",
       "99459                                 NaN   AIR CARRIER/COMMERCIAL   \n",
       "99588                                 NaN   AIR CARRIER/COMMERCIAL   \n",
       "99776                                 NaN        AIR TAXI/COMMUTER   \n",
       "\n",
       "        Flight Plan Filed Code Aircraft Registration Nbr  Year  Severe  \n",
       "1079                      NONE                      19RF  1978       0  \n",
       "1272                      NONE                     1751W  1978       0  \n",
       "1708   INSTRUMENT FLIGHT RULES                     69489  1978       0  \n",
       "2149   INSTRUMENT FLIGHT RULES                      33FE  1978       0  \n",
       "3100       VISUAL FLIGHT RULES                     5612P  1978       0  \n",
       "...                        ...                       ...   ...     ...  \n",
       "97858                      NaN                     644RW  2014       0  \n",
       "98661                      NaN                     694ES  2014       0  \n",
       "99459                      NaN                     200NN  2015       0  \n",
       "99588                      NaN                     332NW  2015       0  \n",
       "99776                      NaN                     5079E  2015       0  \n",
       "\n",
       "[317 rows x 10 columns]"
      ]
     },
     "execution_count": 100,
     "metadata": {},
     "output_type": "execute_result"
    }
   ],
   "source": [
    "High_Inci_Airpt"
   ]
  },
  {
   "cell_type": "markdown",
   "id": "cc6e4830",
   "metadata": {},
   "source": [
    "Explore various columns of this data frame and note the observations."
   ]
  },
  {
   "cell_type": "code",
   "execution_count": 101,
   "id": "703b1778",
   "metadata": {},
   "outputs": [
    {
     "data": {
      "text/plain": [
       "ROLL-OUT (FIXED WING)                           46\n",
       "LEVEL OFF TOUCHDOWN                             43\n",
       "GROUND TAXI, OTHER AIRPLANE                     42\n",
       "CLIMB                                           23\n",
       "TAKEOFF GROUND ROLL                             19\n",
       "FCD/PREC LDG FROM CRUISE                        19\n",
       "NORMAL CRUISE                                   17\n",
       "FINAL APPROACH                                  13\n",
       "TO INITIAL CLIMB (1ST POWER REDUCTION)          12\n",
       "TO ABORTED (FIXED WING)                         10\n",
       "OTHER GROUND OPERATIONS                         10\n",
       "FORCED/PRECAUTIONARY LANDING                     8\n",
       "CRUISE-LEVEL FLIGHT                              6\n",
       "DESCENT                                          5\n",
       "INITIAL APPROACH-INSTRUMENT FLIGHT RULES         4\n",
       "FINAL APPROACH- INSTRUMENT FLIGHT RULES          4\n",
       "LANDING: TOUCHDOWN                               3\n",
       "LANDING: APPROACH                                3\n",
       "TOUCH AND GO LANDING                             3\n",
       "SIMULATED FORCED LANDING AUTOROTATION            2\n",
       "LANDING: ROLLOUT                                 2\n",
       "IDLING ENGINES                                   2\n",
       "TAKEOFF: CLIMB OUT                               2\n",
       "TAKEOFF: ROTATION                                2\n",
       "OPERATIONS ON GROUND FROM LANDING/ROTORCRAFT     2\n",
       "GROUND-RAMP                                      2\n",
       "ENGINE RUN-UP                                    1\n",
       "POWER OFF RUN LAND (AUTOROTATION)                1\n",
       "TAKEOFF                                          1\n",
       "LANDING                                          1\n",
       "OTHER-SPECIFY                                    1\n",
       "UNAUTHORIZED LOW LEVEL OPERATIONS                1\n",
       "STARTING ENGINES                                 1\n",
       "POWER ON RUN LANDING (ROTORCRAFT)                1\n",
       "TO VERTICAL (HELICOPTER ONLY)                    1\n",
       "SIMULATED FORCED LANDING CRUISE                  1\n",
       "FORCED LANDING                                   1\n",
       "HOVERING                                         1\n",
       "TAXI                                             1\n",
       "Name: Flight Phase, dtype: int64"
      ]
     },
     "execution_count": 101,
     "metadata": {},
     "output_type": "execute_result"
    }
   ],
   "source": [
    "High_Inci_Airpt['Flight Phase'].value_counts()"
   ]
  },
  {
   "cell_type": "code",
   "execution_count": 102,
   "id": "324366aa",
   "metadata": {},
   "outputs": [
    {
     "data": {
      "text/plain": [
       "GENERAL OPERATING RULES    135\n",
       "AIR CARRIER/COMMERCIAL     110\n",
       "AIR TAXI/COMMUTER           71\n",
       "TRAVEL CLUB                  1\n",
       "Name: Flight Conduct Code, dtype: int64"
      ]
     },
     "execution_count": 102,
     "metadata": {},
     "output_type": "execute_result"
    }
   ],
   "source": [
    "High_Inci_Airpt['Flight Conduct Code'].value_counts()"
   ]
  },
  {
   "cell_type": "code",
   "execution_count": 103,
   "id": "39e9763f",
   "metadata": {},
   "outputs": [
    {
     "data": {
      "text/plain": [
       "INSTRUMENT FLIGHT RULES    174\n",
       "NONE                        69\n",
       "VISUAL FLIGHT RULES         31\n",
       "UNKNOWN                     18\n",
       "Name: Flight Plan Filed Code, dtype: int64"
      ]
     },
     "execution_count": 103,
     "metadata": {},
     "output_type": "execute_result"
    }
   ],
   "source": [
    "High_Inci_Airpt['Flight Plan Filed Code'].value_counts()"
   ]
  },
  {
   "cell_type": "code",
   "execution_count": 104,
   "id": "ca220c30",
   "metadata": {},
   "outputs": [
    {
     "data": {
      "text/plain": [
       "3149Z    2\n",
       "67TC     2\n",
       "32017    2\n",
       "100UX    2\n",
       "2MM      2\n",
       "        ..\n",
       "5832L    1\n",
       "33LK     1\n",
       "52655    1\n",
       "9277V    1\n",
       "5079E    1\n",
       "Name: Aircraft Registration Nbr, Length: 311, dtype: int64"
      ]
     },
     "execution_count": 104,
     "metadata": {},
     "output_type": "execute_result"
    }
   ],
   "source": [
    "High_Inci_Airpt['Aircraft Registration Nbr'].value_counts()"
   ]
  },
  {
   "cell_type": "code",
   "execution_count": 105,
   "id": "12a8ef4e",
   "metadata": {},
   "outputs": [
    {
     "data": {
      "text/plain": [
       "1981    29\n",
       "1983    29\n",
       "1982    22\n",
       "1979    20\n",
       "1984    19\n",
       "1986    18\n",
       "1985    16\n",
       "1978    13\n",
       "1992    13\n",
       "1988    11\n",
       "1993     8\n",
       "1997     8\n",
       "1989     7\n",
       "2009     7\n",
       "2010     7\n",
       "1980     7\n",
       "1999     6\n",
       "1991     6\n",
       "1994     6\n",
       "2008     6\n",
       "2005     6\n",
       "1996     5\n",
       "1998     5\n",
       "1995     5\n",
       "1987     5\n",
       "2001     4\n",
       "2003     4\n",
       "2011     4\n",
       "2000     3\n",
       "2006     3\n",
       "2007     3\n",
       "1990     3\n",
       "2012     3\n",
       "2015     3\n",
       "2014     2\n",
       "2004     1\n",
       "Name: Year, dtype: int64"
      ]
     },
     "execution_count": 105,
     "metadata": {},
     "output_type": "execute_result"
    }
   ],
   "source": [
    "High_Inci_Airpt.Year.value_counts()"
   ]
  },
  {
   "cell_type": "markdown",
   "id": "cc2efe83",
   "metadata": {},
   "source": [
    "After exploring various columns, a notable observation is that except for flight phase column, all the other columns seem to have indeterminant indications. Although the flight phase indications seem to be in line with the answer to the first research question, but in context of the airport this may also mean the poor infrastructure and maintenance of the airport."
   ]
  },
  {
   "cell_type": "markdown",
   "id": "c3652675",
   "metadata": {},
   "source": [
    "Repeat the above steps for severe incidents and note the observations."
   ]
  },
  {
   "cell_type": "code",
   "execution_count": 106,
   "id": "23f5a2cd",
   "metadata": {},
   "outputs": [],
   "source": [
    "loc_basis_severe = loc_basis_data[loc_basis_data.Severe == 1]"
   ]
  },
  {
   "cell_type": "code",
   "execution_count": 107,
   "id": "b73704e1",
   "metadata": {},
   "outputs": [
    {
     "data": {
      "text/plain": [
       "'RENO/STEAD'"
      ]
     },
     "execution_count": 107,
     "metadata": {},
     "output_type": "execute_result"
    }
   ],
   "source": [
    "loc_basis_severe['Event Airport'].value_counts().index[0]"
   ]
  },
  {
   "cell_type": "code",
   "execution_count": 108,
   "id": "1d04f1c4",
   "metadata": {},
   "outputs": [],
   "source": [
    "Most_Sev_Airpt = loc_basis_severe[loc_basis_severe['Event Airport'] == \n",
    "                                  loc_basis_severe['Event Airport'].value_counts().index[0]]"
   ]
  },
  {
   "cell_type": "code",
   "execution_count": 109,
   "id": "1e326dc3",
   "metadata": {},
   "outputs": [
    {
     "data": {
      "text/html": [
       "<div>\n",
       "<style scoped>\n",
       "    .dataframe tbody tr th:only-of-type {\n",
       "        vertical-align: middle;\n",
       "    }\n",
       "\n",
       "    .dataframe tbody tr th {\n",
       "        vertical-align: top;\n",
       "    }\n",
       "\n",
       "    .dataframe thead th {\n",
       "        text-align: right;\n",
       "    }\n",
       "</style>\n",
       "<table border=\"1\" class=\"dataframe\">\n",
       "  <thead>\n",
       "    <tr style=\"text-align: right;\">\n",
       "      <th></th>\n",
       "      <th>Event City</th>\n",
       "      <th>Event Airport</th>\n",
       "      <th>Aircraft Damage</th>\n",
       "      <th>Flight Phase</th>\n",
       "      <th>Primary Flight Type</th>\n",
       "      <th>Flight Conduct Code</th>\n",
       "      <th>Flight Plan Filed Code</th>\n",
       "      <th>Aircraft Registration Nbr</th>\n",
       "      <th>Year</th>\n",
       "      <th>Severe</th>\n",
       "    </tr>\n",
       "  </thead>\n",
       "  <tbody>\n",
       "    <tr>\n",
       "      <th>10005</th>\n",
       "      <td>RENO</td>\n",
       "      <td>RENO/STEAD</td>\n",
       "      <td>NaN</td>\n",
       "      <td>NORMAL CRUISE</td>\n",
       "      <td>OTHER</td>\n",
       "      <td>GENERAL OPERATING RULES</td>\n",
       "      <td>NaN</td>\n",
       "      <td>28378</td>\n",
       "      <td>1980</td>\n",
       "      <td>1</td>\n",
       "    </tr>\n",
       "    <tr>\n",
       "      <th>55239</th>\n",
       "      <td>RENO</td>\n",
       "      <td>RENO/STEAD</td>\n",
       "      <td>NaN</td>\n",
       "      <td>PARACHUTE JUMPING</td>\n",
       "      <td>OTHER</td>\n",
       "      <td>GENERAL OPERATING RULES</td>\n",
       "      <td>NONE</td>\n",
       "      <td>4912D</td>\n",
       "      <td>1992</td>\n",
       "      <td>1</td>\n",
       "    </tr>\n",
       "    <tr>\n",
       "      <th>90286</th>\n",
       "      <td>RENO</td>\n",
       "      <td>RENO/STEAD</td>\n",
       "      <td>DESTROYED</td>\n",
       "      <td>TO INITIAL CLIMB (1ST POWER REDUCTION)</td>\n",
       "      <td>NaN</td>\n",
       "      <td>GENERAL OPERATING RULES</td>\n",
       "      <td>UNKNOWN</td>\n",
       "      <td>4235T</td>\n",
       "      <td>2008</td>\n",
       "      <td>1</td>\n",
       "    </tr>\n",
       "  </tbody>\n",
       "</table>\n",
       "</div>"
      ],
      "text/plain": [
       "      Event City Event Airport Aircraft Damage  \\\n",
       "10005       RENO    RENO/STEAD             NaN   \n",
       "55239       RENO    RENO/STEAD             NaN   \n",
       "90286       RENO    RENO/STEAD       DESTROYED   \n",
       "\n",
       "                                 Flight Phase Primary Flight Type  \\\n",
       "10005                           NORMAL CRUISE               OTHER   \n",
       "55239                       PARACHUTE JUMPING               OTHER   \n",
       "90286  TO INITIAL CLIMB (1ST POWER REDUCTION)                 NaN   \n",
       "\n",
       "           Flight Conduct Code Flight Plan Filed Code  \\\n",
       "10005  GENERAL OPERATING RULES                    NaN   \n",
       "55239  GENERAL OPERATING RULES                   NONE   \n",
       "90286  GENERAL OPERATING RULES                UNKNOWN   \n",
       "\n",
       "      Aircraft Registration Nbr  Year  Severe  \n",
       "10005                     28378  1980       1  \n",
       "55239                     4912D  1992       1  \n",
       "90286                     4235T  2008       1  "
      ]
     },
     "execution_count": 109,
     "metadata": {},
     "output_type": "execute_result"
    }
   ],
   "source": [
    "Most_Sev_Airpt"
   ]
  },
  {
   "cell_type": "code",
   "execution_count": 110,
   "id": "77807b55",
   "metadata": {},
   "outputs": [
    {
     "data": {
      "text/plain": [
       "NORMAL CRUISE                             1\n",
       "PARACHUTE JUMPING                         1\n",
       "TO INITIAL CLIMB (1ST POWER REDUCTION)    1\n",
       "Name: Flight Phase, dtype: int64"
      ]
     },
     "execution_count": 110,
     "metadata": {},
     "output_type": "execute_result"
    }
   ],
   "source": [
    "Most_Sev_Airpt['Flight Phase'].value_counts()"
   ]
  },
  {
   "cell_type": "code",
   "execution_count": 111,
   "id": "55752bcf",
   "metadata": {},
   "outputs": [
    {
     "data": {
      "text/plain": [
       "GENERAL OPERATING RULES    3\n",
       "Name: Flight Conduct Code, dtype: int64"
      ]
     },
     "execution_count": 111,
     "metadata": {},
     "output_type": "execute_result"
    }
   ],
   "source": [
    "Most_Sev_Airpt['Flight Conduct Code'].value_counts()"
   ]
  },
  {
   "cell_type": "markdown",
   "id": "d966f1db",
   "metadata": {},
   "source": [
    "The first thing to note for severe incidents is that the airport with most incidents is different from that of not severe incidents. The number of observations for severe incidents are very low due to which it is not appropriate to figure out a particular possibility for the cause, from the given data."
   ]
  },
  {
   "cell_type": "markdown",
   "id": "64546326",
   "metadata": {},
   "source": [
    "###### Answer to Research Question 2"
   ]
  },
  {
   "cell_type": "markdown",
   "id": "78a9e310",
   "metadata": {},
   "source": [
    "###### From all the above observations, the answer to the second research question was DENVER INTL is the most dangerous airport for not severe incidents and RENO/STEAD was the most dangerous airport for severe incidents. For the not severe incidents, the airport infrastructure seems to be one of the possible reasons for such status to the airport. For the severe incidents, the number of observations are very low and as a result the possible reasons for the status of the airport are inconclusive."
   ]
  },
  {
   "cell_type": "markdown",
   "id": "0a610f6c",
   "metadata": {},
   "source": [
    "###### Research Question 3 - aircraft basis"
   ]
  },
  {
   "cell_type": "markdown",
   "id": "9bb845ae",
   "metadata": {},
   "source": [
    "###### Which was the most dangerous aircraft and what could be the possible factors from the given data due to which that aircraft was the most dangerous."
   ]
  },
  {
   "cell_type": "markdown",
   "id": "d369b3bb",
   "metadata": {},
   "source": [
    "To answer this question, we choose the aircraft model as the main column and create a subset of data with all the relevant columns."
   ]
  },
  {
   "cell_type": "code",
   "execution_count": 112,
   "id": "c2f35a8e",
   "metadata": {},
   "outputs": [],
   "source": [
    "aircraft_basis_data = av_data_copy[['Aircraft Make','Aircraft Model','Aircraft Series','Primary Flight Type',\n",
    "                                    'Flight Conduct Code','Aircraft Engine Model','PIC Flight Time Total Hrs', 'Severe']]"
   ]
  },
  {
   "cell_type": "markdown",
   "id": "fd8e61b1",
   "metadata": {},
   "source": [
    "Have a glance of the created subset."
   ]
  },
  {
   "cell_type": "code",
   "execution_count": 113,
   "id": "35bef0e0",
   "metadata": {},
   "outputs": [
    {
     "data": {
      "text/html": [
       "<div>\n",
       "<style scoped>\n",
       "    .dataframe tbody tr th:only-of-type {\n",
       "        vertical-align: middle;\n",
       "    }\n",
       "\n",
       "    .dataframe tbody tr th {\n",
       "        vertical-align: top;\n",
       "    }\n",
       "\n",
       "    .dataframe thead th {\n",
       "        text-align: right;\n",
       "    }\n",
       "</style>\n",
       "<table border=\"1\" class=\"dataframe\">\n",
       "  <thead>\n",
       "    <tr style=\"text-align: right;\">\n",
       "      <th></th>\n",
       "      <th>Aircraft Make</th>\n",
       "      <th>Aircraft Model</th>\n",
       "      <th>Aircraft Series</th>\n",
       "      <th>Primary Flight Type</th>\n",
       "      <th>Flight Conduct Code</th>\n",
       "      <th>Aircraft Engine Model</th>\n",
       "      <th>PIC Flight Time Total Hrs</th>\n",
       "      <th>Severe</th>\n",
       "    </tr>\n",
       "  </thead>\n",
       "  <tbody>\n",
       "    <tr>\n",
       "      <th>0</th>\n",
       "      <td>CESSNA</td>\n",
       "      <td>182</td>\n",
       "      <td>UNDESIGNATED SERIES</td>\n",
       "      <td>PERSONAL</td>\n",
       "      <td>GENERAL OPERATING RULES</td>\n",
       "      <td>NaN</td>\n",
       "      <td>245.0</td>\n",
       "      <td>0</td>\n",
       "    </tr>\n",
       "    <tr>\n",
       "      <th>1</th>\n",
       "      <td>PIPER</td>\n",
       "      <td>PA18</td>\n",
       "      <td>150</td>\n",
       "      <td>PERSONAL</td>\n",
       "      <td>GENERAL OPERATING RULES</td>\n",
       "      <td>NaN</td>\n",
       "      <td>200.0</td>\n",
       "      <td>0</td>\n",
       "    </tr>\n",
       "    <tr>\n",
       "      <th>3</th>\n",
       "      <td>CESSNA</td>\n",
       "      <td>310</td>\n",
       "      <td>L</td>\n",
       "      <td>PERSONAL</td>\n",
       "      <td>GENERAL OPERATING RULES</td>\n",
       "      <td>NaN</td>\n",
       "      <td>2000.0</td>\n",
       "      <td>0</td>\n",
       "    </tr>\n",
       "    <tr>\n",
       "      <th>4</th>\n",
       "      <td>CESSNA</td>\n",
       "      <td>172</td>\n",
       "      <td>UNDESIGNATED SERIES</td>\n",
       "      <td>PERSONAL</td>\n",
       "      <td>GENERAL OPERATING RULES</td>\n",
       "      <td>NaN</td>\n",
       "      <td>300.0</td>\n",
       "      <td>0</td>\n",
       "    </tr>\n",
       "    <tr>\n",
       "      <th>7</th>\n",
       "      <td>PIPER</td>\n",
       "      <td>PA31</td>\n",
       "      <td>350</td>\n",
       "      <td>OTHER</td>\n",
       "      <td>GENERAL OPERATING RULES</td>\n",
       "      <td>NaN</td>\n",
       "      <td>2700.0</td>\n",
       "      <td>0</td>\n",
       "    </tr>\n",
       "  </tbody>\n",
       "</table>\n",
       "</div>"
      ],
      "text/plain": [
       "  Aircraft Make Aircraft Model      Aircraft Series Primary Flight Type  \\\n",
       "0        CESSNA            182  UNDESIGNATED SERIES            PERSONAL   \n",
       "1         PIPER           PA18                  150            PERSONAL   \n",
       "3        CESSNA            310                    L            PERSONAL   \n",
       "4        CESSNA            172  UNDESIGNATED SERIES            PERSONAL   \n",
       "7         PIPER           PA31                  350               OTHER   \n",
       "\n",
       "       Flight Conduct Code Aircraft Engine Model  PIC Flight Time Total Hrs  \\\n",
       "0  GENERAL OPERATING RULES                   NaN                      245.0   \n",
       "1  GENERAL OPERATING RULES                   NaN                      200.0   \n",
       "3  GENERAL OPERATING RULES                   NaN                     2000.0   \n",
       "4  GENERAL OPERATING RULES                   NaN                      300.0   \n",
       "7  GENERAL OPERATING RULES                   NaN                     2700.0   \n",
       "\n",
       "   Severe  \n",
       "0       0  \n",
       "1       0  \n",
       "3       0  \n",
       "4       0  \n",
       "7       0  "
      ]
     },
     "execution_count": 113,
     "metadata": {},
     "output_type": "execute_result"
    }
   ],
   "source": [
    "aircraft_basis_data.head()"
   ]
  },
  {
   "cell_type": "markdown",
   "id": "38557eb1",
   "metadata": {},
   "source": [
    "Check missing values for the created subset. "
   ]
  },
  {
   "cell_type": "code",
   "execution_count": 114,
   "id": "7ec4c791",
   "metadata": {},
   "outputs": [
    {
     "data": {
      "text/plain": [
       "Aircraft Make                 1762\n",
       "Aircraft Model                2198\n",
       "Aircraft Series               2199\n",
       "Primary Flight Type           8182\n",
       "Flight Conduct Code             44\n",
       "Aircraft Engine Model        48173\n",
       "PIC Flight Time Total Hrs        0\n",
       "Severe                           0\n",
       "dtype: int64"
      ]
     },
     "execution_count": 114,
     "metadata": {},
     "output_type": "execute_result"
    }
   ],
   "source": [
    "aircraft_basis_data.isnull().sum()"
   ]
  },
  {
   "cell_type": "markdown",
   "id": "7c4fad40",
   "metadata": {},
   "source": [
    "The situation again resembles to that of analysis to the second research question. So, repeat the whole process that was done as part of analysis for the second research question and note the observations."
   ]
  },
  {
   "cell_type": "code",
   "execution_count": 115,
   "id": "2f6f64f1",
   "metadata": {},
   "outputs": [
    {
     "data": {
      "text/plain": [
       "0    77565\n",
       "1      289\n",
       "Name: Severe, dtype: int64"
      ]
     },
     "execution_count": 115,
     "metadata": {},
     "output_type": "execute_result"
    }
   ],
   "source": [
    "aircraft_basis_data.Severe.value_counts()"
   ]
  },
  {
   "cell_type": "code",
   "execution_count": 116,
   "id": "e42b0d8c",
   "metadata": {},
   "outputs": [],
   "source": [
    "aircraft_basis_notsevere = aircraft_basis_data[aircraft_basis_data.Severe == 0]"
   ]
  },
  {
   "cell_type": "code",
   "execution_count": 117,
   "id": "3dacfa0f",
   "metadata": {},
   "outputs": [
    {
     "data": {
      "text/plain": [
       "'172'"
      ]
     },
     "execution_count": 117,
     "metadata": {},
     "output_type": "execute_result"
    }
   ],
   "source": [
    "aircraft_basis_notsevere['Aircraft Model'].value_counts().index[0]"
   ]
  },
  {
   "cell_type": "code",
   "execution_count": 118,
   "id": "89dd9a48",
   "metadata": {},
   "outputs": [],
   "source": [
    "High_Inci_Model = aircraft_basis_notsevere[aircraft_basis_notsevere['Aircraft Model'] == \n",
    "                                      aircraft_basis_notsevere['Aircraft Model'].value_counts().index[0]]"
   ]
  },
  {
   "cell_type": "code",
   "execution_count": 119,
   "id": "9f47ff63",
   "metadata": {},
   "outputs": [
    {
     "data": {
      "text/html": [
       "<div>\n",
       "<style scoped>\n",
       "    .dataframe tbody tr th:only-of-type {\n",
       "        vertical-align: middle;\n",
       "    }\n",
       "\n",
       "    .dataframe tbody tr th {\n",
       "        vertical-align: top;\n",
       "    }\n",
       "\n",
       "    .dataframe thead th {\n",
       "        text-align: right;\n",
       "    }\n",
       "</style>\n",
       "<table border=\"1\" class=\"dataframe\">\n",
       "  <thead>\n",
       "    <tr style=\"text-align: right;\">\n",
       "      <th></th>\n",
       "      <th>Aircraft Make</th>\n",
       "      <th>Aircraft Model</th>\n",
       "      <th>Aircraft Series</th>\n",
       "      <th>Primary Flight Type</th>\n",
       "      <th>Flight Conduct Code</th>\n",
       "      <th>Aircraft Engine Model</th>\n",
       "      <th>PIC Flight Time Total Hrs</th>\n",
       "      <th>Severe</th>\n",
       "    </tr>\n",
       "  </thead>\n",
       "  <tbody>\n",
       "    <tr>\n",
       "      <th>4</th>\n",
       "      <td>CESSNA</td>\n",
       "      <td>172</td>\n",
       "      <td>UNDESIGNATED SERIES</td>\n",
       "      <td>PERSONAL</td>\n",
       "      <td>GENERAL OPERATING RULES</td>\n",
       "      <td>NaN</td>\n",
       "      <td>300.0</td>\n",
       "      <td>0</td>\n",
       "    </tr>\n",
       "    <tr>\n",
       "      <th>9</th>\n",
       "      <td>CESSNA</td>\n",
       "      <td>172</td>\n",
       "      <td>UNDESIGNATED SERIES</td>\n",
       "      <td>BUSINESS</td>\n",
       "      <td>GENERAL OPERATING RULES</td>\n",
       "      <td>NaN</td>\n",
       "      <td>90.0</td>\n",
       "      <td>0</td>\n",
       "    </tr>\n",
       "    <tr>\n",
       "      <th>77</th>\n",
       "      <td>CESSNA</td>\n",
       "      <td>172</td>\n",
       "      <td>UNDESIGNATED SERIES</td>\n",
       "      <td>BUSINESS</td>\n",
       "      <td>GENERAL OPERATING RULES</td>\n",
       "      <td>NaN</td>\n",
       "      <td>1800.0</td>\n",
       "      <td>0</td>\n",
       "    </tr>\n",
       "    <tr>\n",
       "      <th>97</th>\n",
       "      <td>CESSNA</td>\n",
       "      <td>172</td>\n",
       "      <td>UNDESIGNATED SERIES</td>\n",
       "      <td>PERSONAL</td>\n",
       "      <td>GENERAL OPERATING RULES</td>\n",
       "      <td>NaN</td>\n",
       "      <td>180.0</td>\n",
       "      <td>0</td>\n",
       "    </tr>\n",
       "    <tr>\n",
       "      <th>181</th>\n",
       "      <td>CESSNA</td>\n",
       "      <td>172</td>\n",
       "      <td>UNDESIGNATED SERIES</td>\n",
       "      <td>INSTRUCTION</td>\n",
       "      <td>GENERAL OPERATING RULES</td>\n",
       "      <td>NaN</td>\n",
       "      <td>46.0</td>\n",
       "      <td>0</td>\n",
       "    </tr>\n",
       "    <tr>\n",
       "      <th>...</th>\n",
       "      <td>...</td>\n",
       "      <td>...</td>\n",
       "      <td>...</td>\n",
       "      <td>...</td>\n",
       "      <td>...</td>\n",
       "      <td>...</td>\n",
       "      <td>...</td>\n",
       "      <td>...</td>\n",
       "    </tr>\n",
       "    <tr>\n",
       "      <th>99877</th>\n",
       "      <td>CESSNA</td>\n",
       "      <td>172</td>\n",
       "      <td>N</td>\n",
       "      <td>NaN</td>\n",
       "      <td>GENERAL OPERATING RULES</td>\n",
       "      <td>0-320 SERIES</td>\n",
       "      <td>445.0</td>\n",
       "      <td>0</td>\n",
       "    </tr>\n",
       "    <tr>\n",
       "      <th>99890</th>\n",
       "      <td>CESSNA</td>\n",
       "      <td>172</td>\n",
       "      <td>P</td>\n",
       "      <td>NaN</td>\n",
       "      <td>GENERAL OPERATING RULES</td>\n",
       "      <td>0-320 SERIES</td>\n",
       "      <td>786.0</td>\n",
       "      <td>0</td>\n",
       "    </tr>\n",
       "    <tr>\n",
       "      <th>99901</th>\n",
       "      <td>CESSNA</td>\n",
       "      <td>172</td>\n",
       "      <td>K</td>\n",
       "      <td>NaN</td>\n",
       "      <td>GENERAL OPERATING RULES</td>\n",
       "      <td>0-300 SER</td>\n",
       "      <td>120.0</td>\n",
       "      <td>0</td>\n",
       "    </tr>\n",
       "    <tr>\n",
       "      <th>99945</th>\n",
       "      <td>CESSNA</td>\n",
       "      <td>172</td>\n",
       "      <td>P</td>\n",
       "      <td>NaN</td>\n",
       "      <td>PILOT SCHOOLS</td>\n",
       "      <td>O-320-D2J</td>\n",
       "      <td>1480.0</td>\n",
       "      <td>0</td>\n",
       "    </tr>\n",
       "    <tr>\n",
       "      <th>99975</th>\n",
       "      <td>CESSNA</td>\n",
       "      <td>172</td>\n",
       "      <td>R</td>\n",
       "      <td>NaN</td>\n",
       "      <td>PILOT SCHOOLS</td>\n",
       "      <td>I0360 SER A&amp;C</td>\n",
       "      <td>880.0</td>\n",
       "      <td>0</td>\n",
       "    </tr>\n",
       "  </tbody>\n",
       "</table>\n",
       "<p>3943 rows × 8 columns</p>\n",
       "</div>"
      ],
      "text/plain": [
       "      Aircraft Make Aircraft Model      Aircraft Series Primary Flight Type  \\\n",
       "4            CESSNA            172  UNDESIGNATED SERIES            PERSONAL   \n",
       "9            CESSNA            172  UNDESIGNATED SERIES            BUSINESS   \n",
       "77           CESSNA            172  UNDESIGNATED SERIES            BUSINESS   \n",
       "97           CESSNA            172  UNDESIGNATED SERIES            PERSONAL   \n",
       "181          CESSNA            172  UNDESIGNATED SERIES         INSTRUCTION   \n",
       "...             ...            ...                  ...                 ...   \n",
       "99877        CESSNA            172                    N                 NaN   \n",
       "99890        CESSNA            172                    P                 NaN   \n",
       "99901        CESSNA            172                    K                 NaN   \n",
       "99945        CESSNA            172                    P                 NaN   \n",
       "99975        CESSNA            172                    R                 NaN   \n",
       "\n",
       "           Flight Conduct Code Aircraft Engine Model  \\\n",
       "4      GENERAL OPERATING RULES                   NaN   \n",
       "9      GENERAL OPERATING RULES                   NaN   \n",
       "77     GENERAL OPERATING RULES                   NaN   \n",
       "97     GENERAL OPERATING RULES                   NaN   \n",
       "181    GENERAL OPERATING RULES                   NaN   \n",
       "...                        ...                   ...   \n",
       "99877  GENERAL OPERATING RULES          0-320 SERIES   \n",
       "99890  GENERAL OPERATING RULES          0-320 SERIES   \n",
       "99901  GENERAL OPERATING RULES             0-300 SER   \n",
       "99945            PILOT SCHOOLS             O-320-D2J   \n",
       "99975            PILOT SCHOOLS         I0360 SER A&C   \n",
       "\n",
       "       PIC Flight Time Total Hrs  Severe  \n",
       "4                          300.0       0  \n",
       "9                           90.0       0  \n",
       "77                        1800.0       0  \n",
       "97                         180.0       0  \n",
       "181                         46.0       0  \n",
       "...                          ...     ...  \n",
       "99877                      445.0       0  \n",
       "99890                      786.0       0  \n",
       "99901                      120.0       0  \n",
       "99945                     1480.0       0  \n",
       "99975                      880.0       0  \n",
       "\n",
       "[3943 rows x 8 columns]"
      ]
     },
     "execution_count": 119,
     "metadata": {},
     "output_type": "execute_result"
    }
   ],
   "source": [
    "High_Inci_Model"
   ]
  },
  {
   "cell_type": "code",
   "execution_count": 120,
   "id": "e9dfbfed",
   "metadata": {},
   "outputs": [
    {
     "data": {
      "text/plain": [
       "CESSNA    3943\n",
       "Name: Aircraft Make, dtype: int64"
      ]
     },
     "execution_count": 120,
     "metadata": {},
     "output_type": "execute_result"
    }
   ],
   "source": [
    "High_Inci_Model[\"Aircraft Make\"].value_counts()"
   ]
  },
  {
   "cell_type": "code",
   "execution_count": 121,
   "id": "b3fcee3f",
   "metadata": {},
   "outputs": [
    {
     "data": {
      "text/plain": [
       "O320H2AD        294\n",
       "O320E2D         242\n",
       "0-320 SERIES    168\n",
       "O320*           167\n",
       "O300D           162\n",
       "               ... \n",
       "O320D2C           1\n",
       "O320E3D           1\n",
       "IO520*            1\n",
       "O320A2B           1\n",
       "O-320-D2J         1\n",
       "Name: Aircraft Engine Model, Length: 69, dtype: int64"
      ]
     },
     "execution_count": 121,
     "metadata": {},
     "output_type": "execute_result"
    }
   ],
   "source": [
    "High_Inci_Model[\"Aircraft Engine Model\"].value_counts()"
   ]
  },
  {
   "cell_type": "code",
   "execution_count": 122,
   "id": "2199eccf",
   "metadata": {},
   "outputs": [
    {
     "data": {
      "text/plain": [
       "PERSONAL                                                       2346\n",
       "INSTRUCTION                                                     883\n",
       "BUSINESS                                                        125\n",
       "INDUSTRIAL/SPECIAL                                               53\n",
       "OTHER                                                            52\n",
       "AIR TAXI (NON-SCHEDULED)                                         20\n",
       "FOR HIRE                                                          6\n",
       "AIR TAXI COMMUTER (SCHEDULED 5 OR MORE ROUNDTRIPS PER WEEK)       5\n",
       "ILLEGAL DRUG, STOLEN AIRCRAFT, ETC.                               3\n",
       "EXECUTIVE                                                         1\n",
       "AIR TAXI (SCHEDULED- NOT COMMUTER)                                1\n",
       "SUPPLEMENTAL OR COMMERCIAL OPERATOR                               1\n",
       "Name: Primary Flight Type, dtype: int64"
      ]
     },
     "execution_count": 122,
     "metadata": {},
     "output_type": "execute_result"
    }
   ],
   "source": [
    "High_Inci_Model[\"Primary Flight Type\"].value_counts()"
   ]
  },
  {
   "cell_type": "code",
   "execution_count": 123,
   "id": "7cf14e7a",
   "metadata": {},
   "outputs": [
    {
     "data": {
      "text/plain": [
       "GENERAL OPERATING RULES    3802\n",
       "PILOT SCHOOLS               110\n",
       "AIR TAXI/COMMUTER            26\n",
       "PARACHUTE JUMPING             3\n",
       "Name: Flight Conduct Code, dtype: int64"
      ]
     },
     "execution_count": 123,
     "metadata": {},
     "output_type": "execute_result"
    }
   ],
   "source": [
    "High_Inci_Model[\"Flight Conduct Code\"].value_counts()"
   ]
  },
  {
   "cell_type": "code",
   "execution_count": 124,
   "id": "50680c50",
   "metadata": {},
   "outputs": [
    {
     "data": {
      "text/plain": [
       "750.0"
      ]
     },
     "execution_count": 124,
     "metadata": {},
     "output_type": "execute_result"
    }
   ],
   "source": [
    "High_Inci_Model[\"PIC Flight Time Total Hrs\"].quantile(0.75)"
   ]
  },
  {
   "cell_type": "markdown",
   "id": "3b89a2c2",
   "metadata": {},
   "source": [
    "After exploring various columns, two key observations were that the make of the most dangerous aircraft model for not severe incidents is the same and also most of flight types for this was personal."
   ]
  },
  {
   "cell_type": "code",
   "execution_count": 125,
   "id": "4da7e768",
   "metadata": {},
   "outputs": [],
   "source": [
    "aircraft_basis_severe = aircraft_basis_data[aircraft_basis_data.Severe == 1]"
   ]
  },
  {
   "cell_type": "code",
   "execution_count": 126,
   "id": "2dd1772f",
   "metadata": {},
   "outputs": [
    {
     "data": {
      "text/plain": [
       "'182'"
      ]
     },
     "execution_count": 126,
     "metadata": {},
     "output_type": "execute_result"
    }
   ],
   "source": [
    "aircraft_basis_severe['Aircraft Model'].value_counts().index[0]"
   ]
  },
  {
   "cell_type": "code",
   "execution_count": 127,
   "id": "5e17c872",
   "metadata": {},
   "outputs": [],
   "source": [
    "Most_Sev_Model = aircraft_basis_severe[aircraft_basis_severe['Aircraft Model'] == \n",
    "                                  aircraft_basis_severe['Aircraft Model'].value_counts().index[0]]"
   ]
  },
  {
   "cell_type": "code",
   "execution_count": 128,
   "id": "f1cc2d14",
   "metadata": {},
   "outputs": [
    {
     "data": {
      "text/html": [
       "<div>\n",
       "<style scoped>\n",
       "    .dataframe tbody tr th:only-of-type {\n",
       "        vertical-align: middle;\n",
       "    }\n",
       "\n",
       "    .dataframe tbody tr th {\n",
       "        vertical-align: top;\n",
       "    }\n",
       "\n",
       "    .dataframe thead th {\n",
       "        text-align: right;\n",
       "    }\n",
       "</style>\n",
       "<table border=\"1\" class=\"dataframe\">\n",
       "  <thead>\n",
       "    <tr style=\"text-align: right;\">\n",
       "      <th></th>\n",
       "      <th>Aircraft Make</th>\n",
       "      <th>Aircraft Model</th>\n",
       "      <th>Aircraft Series</th>\n",
       "      <th>Primary Flight Type</th>\n",
       "      <th>Flight Conduct Code</th>\n",
       "      <th>Aircraft Engine Model</th>\n",
       "      <th>PIC Flight Time Total Hrs</th>\n",
       "      <th>Severe</th>\n",
       "    </tr>\n",
       "  </thead>\n",
       "  <tbody>\n",
       "    <tr>\n",
       "      <th>638</th>\n",
       "      <td>CESSNA</td>\n",
       "      <td>182</td>\n",
       "      <td>A</td>\n",
       "      <td>OTHER</td>\n",
       "      <td>GENERAL OPERATING RULES</td>\n",
       "      <td>NaN</td>\n",
       "      <td>750.0</td>\n",
       "      <td>1</td>\n",
       "    </tr>\n",
       "    <tr>\n",
       "      <th>1926</th>\n",
       "      <td>CESSNA</td>\n",
       "      <td>182</td>\n",
       "      <td>UNDESIGNATED SERIES</td>\n",
       "      <td>OTHER</td>\n",
       "      <td>PARACHUTE JUMPING</td>\n",
       "      <td>NaN</td>\n",
       "      <td>1500.0</td>\n",
       "      <td>1</td>\n",
       "    </tr>\n",
       "    <tr>\n",
       "      <th>2290</th>\n",
       "      <td>CESSNA</td>\n",
       "      <td>182</td>\n",
       "      <td>B</td>\n",
       "      <td>PERSONAL</td>\n",
       "      <td>GENERAL OPERATING RULES</td>\n",
       "      <td>NaN</td>\n",
       "      <td>340.0</td>\n",
       "      <td>1</td>\n",
       "    </tr>\n",
       "    <tr>\n",
       "      <th>2331</th>\n",
       "      <td>CESSNA</td>\n",
       "      <td>182</td>\n",
       "      <td>A</td>\n",
       "      <td>PERSONAL</td>\n",
       "      <td>GENERAL OPERATING RULES</td>\n",
       "      <td>NaN</td>\n",
       "      <td>135.0</td>\n",
       "      <td>1</td>\n",
       "    </tr>\n",
       "    <tr>\n",
       "      <th>2448</th>\n",
       "      <td>CESSNA</td>\n",
       "      <td>182</td>\n",
       "      <td>UNDESIGNATED SERIES</td>\n",
       "      <td>OTHER</td>\n",
       "      <td>PARACHUTE JUMPING</td>\n",
       "      <td>NaN</td>\n",
       "      <td>900.0</td>\n",
       "      <td>1</td>\n",
       "    </tr>\n",
       "    <tr>\n",
       "      <th>...</th>\n",
       "      <td>...</td>\n",
       "      <td>...</td>\n",
       "      <td>...</td>\n",
       "      <td>...</td>\n",
       "      <td>...</td>\n",
       "      <td>...</td>\n",
       "      <td>...</td>\n",
       "      <td>...</td>\n",
       "    </tr>\n",
       "    <tr>\n",
       "      <th>69325</th>\n",
       "      <td>CESSNA</td>\n",
       "      <td>182</td>\n",
       "      <td>UNDESIGNATED SERIES</td>\n",
       "      <td>INDUSTRIAL/SPECIAL</td>\n",
       "      <td>PARACHUTE JUMPING</td>\n",
       "      <td>NaN</td>\n",
       "      <td>4200.0</td>\n",
       "      <td>1</td>\n",
       "    </tr>\n",
       "    <tr>\n",
       "      <th>70571</th>\n",
       "      <td>CESSNA</td>\n",
       "      <td>182</td>\n",
       "      <td>B</td>\n",
       "      <td>INDUSTRIAL/SPECIAL</td>\n",
       "      <td>GENERAL OPERATING RULES</td>\n",
       "      <td>O470U</td>\n",
       "      <td>2400.0</td>\n",
       "      <td>1</td>\n",
       "    </tr>\n",
       "    <tr>\n",
       "      <th>89852</th>\n",
       "      <td>CESSNA</td>\n",
       "      <td>182</td>\n",
       "      <td>F</td>\n",
       "      <td>OTHER</td>\n",
       "      <td>GENERAL OPERATING RULES</td>\n",
       "      <td>NaN</td>\n",
       "      <td>0.0</td>\n",
       "      <td>1</td>\n",
       "    </tr>\n",
       "    <tr>\n",
       "      <th>92398</th>\n",
       "      <td>CESSNA</td>\n",
       "      <td>182</td>\n",
       "      <td>UNDESIGNATED SERIES</td>\n",
       "      <td>NaN</td>\n",
       "      <td>PARACHUTE JUMPING</td>\n",
       "      <td>O-470 SERIES</td>\n",
       "      <td>0.0</td>\n",
       "      <td>1</td>\n",
       "    </tr>\n",
       "    <tr>\n",
       "      <th>93312</th>\n",
       "      <td>CESSNA</td>\n",
       "      <td>182</td>\n",
       "      <td>C</td>\n",
       "      <td>NaN</td>\n",
       "      <td>GENERAL OPERATING RULES</td>\n",
       "      <td>O-470 SERIES</td>\n",
       "      <td>0.0</td>\n",
       "      <td>1</td>\n",
       "    </tr>\n",
       "  </tbody>\n",
       "</table>\n",
       "<p>111 rows × 8 columns</p>\n",
       "</div>"
      ],
      "text/plain": [
       "      Aircraft Make Aircraft Model      Aircraft Series Primary Flight Type  \\\n",
       "638          CESSNA            182                    A               OTHER   \n",
       "1926         CESSNA            182  UNDESIGNATED SERIES               OTHER   \n",
       "2290         CESSNA            182                    B            PERSONAL   \n",
       "2331         CESSNA            182                    A            PERSONAL   \n",
       "2448         CESSNA            182  UNDESIGNATED SERIES               OTHER   \n",
       "...             ...            ...                  ...                 ...   \n",
       "69325        CESSNA            182  UNDESIGNATED SERIES  INDUSTRIAL/SPECIAL   \n",
       "70571        CESSNA            182                    B  INDUSTRIAL/SPECIAL   \n",
       "89852        CESSNA            182                    F               OTHER   \n",
       "92398        CESSNA            182  UNDESIGNATED SERIES                 NaN   \n",
       "93312        CESSNA            182                    C                 NaN   \n",
       "\n",
       "           Flight Conduct Code Aircraft Engine Model  \\\n",
       "638    GENERAL OPERATING RULES                   NaN   \n",
       "1926         PARACHUTE JUMPING                   NaN   \n",
       "2290   GENERAL OPERATING RULES                   NaN   \n",
       "2331   GENERAL OPERATING RULES                   NaN   \n",
       "2448         PARACHUTE JUMPING                   NaN   \n",
       "...                        ...                   ...   \n",
       "69325        PARACHUTE JUMPING                   NaN   \n",
       "70571  GENERAL OPERATING RULES                 O470U   \n",
       "89852  GENERAL OPERATING RULES                   NaN   \n",
       "92398        PARACHUTE JUMPING          O-470 SERIES   \n",
       "93312  GENERAL OPERATING RULES          O-470 SERIES   \n",
       "\n",
       "       PIC Flight Time Total Hrs  Severe  \n",
       "638                        750.0       1  \n",
       "1926                      1500.0       1  \n",
       "2290                       340.0       1  \n",
       "2331                       135.0       1  \n",
       "2448                       900.0       1  \n",
       "...                          ...     ...  \n",
       "69325                     4200.0       1  \n",
       "70571                     2400.0       1  \n",
       "89852                        0.0       1  \n",
       "92398                        0.0       1  \n",
       "93312                        0.0       1  \n",
       "\n",
       "[111 rows x 8 columns]"
      ]
     },
     "execution_count": 128,
     "metadata": {},
     "output_type": "execute_result"
    }
   ],
   "source": [
    "Most_Sev_Model"
   ]
  },
  {
   "cell_type": "code",
   "execution_count": 129,
   "id": "02ab71ee",
   "metadata": {},
   "outputs": [
    {
     "data": {
      "text/plain": [
       "CESSNA    111\n",
       "Name: Aircraft Make, dtype: int64"
      ]
     },
     "execution_count": 129,
     "metadata": {},
     "output_type": "execute_result"
    }
   ],
   "source": [
    "Most_Sev_Model['Aircraft Make'].value_counts()"
   ]
  },
  {
   "cell_type": "code",
   "execution_count": 130,
   "id": "06e9d0dd",
   "metadata": {},
   "outputs": [
    {
     "data": {
      "text/plain": [
       "O470L           10\n",
       "O470*            3\n",
       "O-470 SERIES     2\n",
       "O470R            1\n",
       "O470U            1\n",
       "Name: Aircraft Engine Model, dtype: int64"
      ]
     },
     "execution_count": 130,
     "metadata": {},
     "output_type": "execute_result"
    }
   ],
   "source": [
    "Most_Sev_Model['Aircraft Engine Model'].value_counts()"
   ]
  },
  {
   "cell_type": "code",
   "execution_count": 131,
   "id": "419109e4",
   "metadata": {},
   "outputs": [
    {
     "data": {
      "text/plain": [
       "OTHER                 98\n",
       "PERSONAL               6\n",
       "INDUSTRIAL/SPECIAL     4\n",
       "INSTRUCTION            1\n",
       "Name: Primary Flight Type, dtype: int64"
      ]
     },
     "execution_count": 131,
     "metadata": {},
     "output_type": "execute_result"
    }
   ],
   "source": [
    "Most_Sev_Model['Primary Flight Type'].value_counts()"
   ]
  },
  {
   "cell_type": "code",
   "execution_count": 132,
   "id": "fd33a537",
   "metadata": {},
   "outputs": [
    {
     "data": {
      "text/plain": [
       "PARACHUTE JUMPING          89\n",
       "GENERAL OPERATING RULES    22\n",
       "Name: Flight Conduct Code, dtype: int64"
      ]
     },
     "execution_count": 132,
     "metadata": {},
     "output_type": "execute_result"
    }
   ],
   "source": [
    "Most_Sev_Model['Flight Conduct Code'].value_counts()"
   ]
  },
  {
   "cell_type": "code",
   "execution_count": 133,
   "id": "d47c2a8a",
   "metadata": {},
   "outputs": [
    {
     "data": {
      "text/plain": [
       "1350.0"
      ]
     },
     "execution_count": 133,
     "metadata": {},
     "output_type": "execute_result"
    }
   ],
   "source": [
    "Most_Sev_Model['PIC Flight Time Total Hrs'].quantile(0.75)"
   ]
  },
  {
   "cell_type": "markdown",
   "id": "2b044f78",
   "metadata": {},
   "source": [
    "For the severe incidents it can be observed that the most dangerous aircraft make is same as that for the not severe incidents. Unlike the not severe incidents, here the factors which might be the possible cause were not so clear."
   ]
  },
  {
   "cell_type": "markdown",
   "id": "f654a745",
   "metadata": {},
   "source": [
    "###### Answer to Research Question 3"
   ]
  },
  {
   "cell_type": "markdown",
   "id": "5c28f065",
   "metadata": {},
   "source": [
    "###### From all the above observations, the answer to the third research question is that the most dangerous aircraft model for not severe incidents was 172 and that for severe incidents was 182, both of which are CESSNA make. So, aircraft make could possibly be a factor that might have made those two models the most dangerous. The flight type could also be another factor, but it doesn’t appear to be as clear as the aircraft make."
   ]
  },
  {
   "cell_type": "markdown",
   "id": "83c9d310",
   "metadata": {},
   "source": [
    "###### Research Question 4 - operator basis"
   ]
  },
  {
   "cell_type": "markdown",
   "id": "2738fb83",
   "metadata": {},
   "source": [
    "###### Which was the most dangerous operator and what could be the possible factors from the given data due to which that operator was the most dangerous."
   ]
  },
  {
   "cell_type": "markdown",
   "id": "6e9d4860",
   "metadata": {},
   "source": [
    "To answer this question, the operator would obviously be the main column and create a subset of data with all the relevant columns."
   ]
  },
  {
   "cell_type": "code",
   "execution_count": 134,
   "id": "7926566b",
   "metadata": {},
   "outputs": [],
   "source": [
    "operator_basis_data = av_data_copy[['Aircraft Make','Aircraft Model','Operator','Flight Conduct Code',\n",
    "                                    'Flight Plan Filed Code','Aircraft Registration Nbr','PIC Certificate Type']]"
   ]
  },
  {
   "cell_type": "markdown",
   "id": "95716437",
   "metadata": {},
   "source": [
    "Have a glance of the created subset."
   ]
  },
  {
   "cell_type": "code",
   "execution_count": 135,
   "id": "48005de7",
   "metadata": {},
   "outputs": [
    {
     "data": {
      "text/html": [
       "<div>\n",
       "<style scoped>\n",
       "    .dataframe tbody tr th:only-of-type {\n",
       "        vertical-align: middle;\n",
       "    }\n",
       "\n",
       "    .dataframe tbody tr th {\n",
       "        vertical-align: top;\n",
       "    }\n",
       "\n",
       "    .dataframe thead th {\n",
       "        text-align: right;\n",
       "    }\n",
       "</style>\n",
       "<table border=\"1\" class=\"dataframe\">\n",
       "  <thead>\n",
       "    <tr style=\"text-align: right;\">\n",
       "      <th></th>\n",
       "      <th>Aircraft Make</th>\n",
       "      <th>Aircraft Model</th>\n",
       "      <th>Operator</th>\n",
       "      <th>Flight Conduct Code</th>\n",
       "      <th>Flight Plan Filed Code</th>\n",
       "      <th>Aircraft Registration Nbr</th>\n",
       "      <th>PIC Certificate Type</th>\n",
       "    </tr>\n",
       "  </thead>\n",
       "  <tbody>\n",
       "    <tr>\n",
       "      <th>0</th>\n",
       "      <td>CESSNA</td>\n",
       "      <td>182</td>\n",
       "      <td>NaN</td>\n",
       "      <td>GENERAL OPERATING RULES</td>\n",
       "      <td>NONE</td>\n",
       "      <td>2691Q</td>\n",
       "      <td>PRIVATE PILOT</td>\n",
       "    </tr>\n",
       "    <tr>\n",
       "      <th>1</th>\n",
       "      <td>PIPER</td>\n",
       "      <td>PA18</td>\n",
       "      <td>NaN</td>\n",
       "      <td>GENERAL OPERATING RULES</td>\n",
       "      <td>VISUAL FLIGHT RULES</td>\n",
       "      <td>4073E</td>\n",
       "      <td>STUDENT</td>\n",
       "    </tr>\n",
       "    <tr>\n",
       "      <th>3</th>\n",
       "      <td>CESSNA</td>\n",
       "      <td>310</td>\n",
       "      <td>NaN</td>\n",
       "      <td>GENERAL OPERATING RULES</td>\n",
       "      <td>VISUAL FLIGHT RULES</td>\n",
       "      <td>2250F</td>\n",
       "      <td>COMMERCIAL PILOT FLIGHT INSTRUCTOR</td>\n",
       "    </tr>\n",
       "    <tr>\n",
       "      <th>4</th>\n",
       "      <td>CESSNA</td>\n",
       "      <td>172</td>\n",
       "      <td>NaN</td>\n",
       "      <td>GENERAL OPERATING RULES</td>\n",
       "      <td>NONE</td>\n",
       "      <td>738FD</td>\n",
       "      <td>COMMERCIAL PILOT</td>\n",
       "    </tr>\n",
       "    <tr>\n",
       "      <th>7</th>\n",
       "      <td>PIPER</td>\n",
       "      <td>PA31</td>\n",
       "      <td>NaN</td>\n",
       "      <td>GENERAL OPERATING RULES</td>\n",
       "      <td>VISUAL FLIGHT RULES</td>\n",
       "      <td>27196</td>\n",
       "      <td>COMMERCIAL PILOT</td>\n",
       "    </tr>\n",
       "    <tr>\n",
       "      <th>...</th>\n",
       "      <td>...</td>\n",
       "      <td>...</td>\n",
       "      <td>...</td>\n",
       "      <td>...</td>\n",
       "      <td>...</td>\n",
       "      <td>...</td>\n",
       "      <td>...</td>\n",
       "    </tr>\n",
       "    <tr>\n",
       "      <th>99988</th>\n",
       "      <td>AVIAT</td>\n",
       "      <td>A1</td>\n",
       "      <td>NaN</td>\n",
       "      <td>GENERAL OPERATING RULES</td>\n",
       "      <td>NaN</td>\n",
       "      <td>143HP</td>\n",
       "      <td>PRIVATE PILOT</td>\n",
       "    </tr>\n",
       "    <tr>\n",
       "      <th>99992</th>\n",
       "      <td>CESSNA</td>\n",
       "      <td>172RG</td>\n",
       "      <td>NaN</td>\n",
       "      <td>GENERAL OPERATING RULES</td>\n",
       "      <td>NaN</td>\n",
       "      <td>9647B</td>\n",
       "      <td>COMMERCIAL PILOT FLIGHT INSTRUCTOR</td>\n",
       "    </tr>\n",
       "    <tr>\n",
       "      <th>99996</th>\n",
       "      <td>CESSNA</td>\n",
       "      <td>550</td>\n",
       "      <td>NaN</td>\n",
       "      <td>GENERAL OPERATING RULES</td>\n",
       "      <td>NaN</td>\n",
       "      <td>363CA</td>\n",
       "      <td>UNKNOWN/FOREIGN</td>\n",
       "    </tr>\n",
       "    <tr>\n",
       "      <th>99997</th>\n",
       "      <td>CESSNA</td>\n",
       "      <td>172RG</td>\n",
       "      <td>NaN</td>\n",
       "      <td>GENERAL OPERATING RULES</td>\n",
       "      <td>NaN</td>\n",
       "      <td>6545V</td>\n",
       "      <td>PRIVATE PILOT</td>\n",
       "    </tr>\n",
       "    <tr>\n",
       "      <th>99998</th>\n",
       "      <td>PIPER</td>\n",
       "      <td>PA28</td>\n",
       "      <td>NaN</td>\n",
       "      <td>GENERAL OPERATING RULES</td>\n",
       "      <td>NaN</td>\n",
       "      <td>8338W</td>\n",
       "      <td>STUDENT</td>\n",
       "    </tr>\n",
       "  </tbody>\n",
       "</table>\n",
       "<p>77854 rows × 7 columns</p>\n",
       "</div>"
      ],
      "text/plain": [
       "      Aircraft Make Aircraft Model Operator      Flight Conduct Code  \\\n",
       "0            CESSNA            182      NaN  GENERAL OPERATING RULES   \n",
       "1             PIPER           PA18      NaN  GENERAL OPERATING RULES   \n",
       "3            CESSNA            310      NaN  GENERAL OPERATING RULES   \n",
       "4            CESSNA            172      NaN  GENERAL OPERATING RULES   \n",
       "7             PIPER           PA31      NaN  GENERAL OPERATING RULES   \n",
       "...             ...            ...      ...                      ...   \n",
       "99988         AVIAT             A1      NaN  GENERAL OPERATING RULES   \n",
       "99992        CESSNA          172RG      NaN  GENERAL OPERATING RULES   \n",
       "99996        CESSNA            550      NaN  GENERAL OPERATING RULES   \n",
       "99997        CESSNA          172RG      NaN  GENERAL OPERATING RULES   \n",
       "99998         PIPER           PA28      NaN  GENERAL OPERATING RULES   \n",
       "\n",
       "      Flight Plan Filed Code Aircraft Registration Nbr  \\\n",
       "0                       NONE                     2691Q   \n",
       "1        VISUAL FLIGHT RULES                     4073E   \n",
       "3        VISUAL FLIGHT RULES                     2250F   \n",
       "4                       NONE                     738FD   \n",
       "7        VISUAL FLIGHT RULES                     27196   \n",
       "...                      ...                       ...   \n",
       "99988                    NaN                     143HP   \n",
       "99992                    NaN                     9647B   \n",
       "99996                    NaN                     363CA   \n",
       "99997                    NaN                     6545V   \n",
       "99998                    NaN                     8338W   \n",
       "\n",
       "                     PIC Certificate Type  \n",
       "0                           PRIVATE PILOT  \n",
       "1                                 STUDENT  \n",
       "3      COMMERCIAL PILOT FLIGHT INSTRUCTOR  \n",
       "4                        COMMERCIAL PILOT  \n",
       "7                        COMMERCIAL PILOT  \n",
       "...                                   ...  \n",
       "99988                       PRIVATE PILOT  \n",
       "99992  COMMERCIAL PILOT FLIGHT INSTRUCTOR  \n",
       "99996                     UNKNOWN/FOREIGN  \n",
       "99997                       PRIVATE PILOT  \n",
       "99998                             STUDENT  \n",
       "\n",
       "[77854 rows x 7 columns]"
      ]
     },
     "execution_count": 135,
     "metadata": {},
     "output_type": "execute_result"
    }
   ],
   "source": [
    "operator_basis_data"
   ]
  },
  {
   "cell_type": "markdown",
   "id": "a9dbd3f6",
   "metadata": {},
   "source": [
    "Check missing values for the created subset."
   ]
  },
  {
   "cell_type": "code",
   "execution_count": 136,
   "id": "bf2eb40d",
   "metadata": {},
   "outputs": [
    {
     "data": {
      "text/plain": [
       "Aircraft Make                 1762\n",
       "Aircraft Model                2198\n",
       "Operator                     61362\n",
       "Flight Conduct Code             44\n",
       "Flight Plan Filed Code        9891\n",
       "Aircraft Registration Nbr        0\n",
       "PIC Certificate Type          1239\n",
       "dtype: int64"
      ]
     },
     "execution_count": 136,
     "metadata": {},
     "output_type": "execute_result"
    }
   ],
   "source": [
    "operator_basis_data.isnull().sum()"
   ]
  },
  {
   "cell_type": "markdown",
   "id": "ad395103",
   "metadata": {},
   "source": [
    "From the missing values it can be seen that too much of data for the operator column is missing. So, unlike approach for previous two research questions, here the missing values are to be dropped and the analysis is to be done without segregating data into severe and not severe incidents."
   ]
  },
  {
   "cell_type": "markdown",
   "id": "117ce659",
   "metadata": {},
   "source": [
    "Before dropping the columns, it is better to create a copy of the created subset."
   ]
  },
  {
   "cell_type": "code",
   "execution_count": 137,
   "id": "2a7f9911",
   "metadata": {},
   "outputs": [],
   "source": [
    "operator_basis_data_copy = operator_basis_data.copy()"
   ]
  },
  {
   "cell_type": "markdown",
   "id": "fa352931",
   "metadata": {},
   "source": [
    "Drop observations with missing values in the operator column. Code reference: https://www.kaggle.com/itssuru/eda-cristiano-ronaldo-s-career"
   ]
  },
  {
   "cell_type": "code",
   "execution_count": 138,
   "id": "09382c8e",
   "metadata": {},
   "outputs": [],
   "source": [
    "operator_basis_data_copy = operator_basis_data_copy.dropna(subset=['Operator'])"
   ]
  },
  {
   "cell_type": "markdown",
   "id": "54ca37e9",
   "metadata": {},
   "source": [
    "Check the data frame."
   ]
  },
  {
   "cell_type": "code",
   "execution_count": 139,
   "id": "a7b57469",
   "metadata": {},
   "outputs": [
    {
     "data": {
      "text/html": [
       "<div>\n",
       "<style scoped>\n",
       "    .dataframe tbody tr th:only-of-type {\n",
       "        vertical-align: middle;\n",
       "    }\n",
       "\n",
       "    .dataframe tbody tr th {\n",
       "        vertical-align: top;\n",
       "    }\n",
       "\n",
       "    .dataframe thead th {\n",
       "        text-align: right;\n",
       "    }\n",
       "</style>\n",
       "<table border=\"1\" class=\"dataframe\">\n",
       "  <thead>\n",
       "    <tr style=\"text-align: right;\">\n",
       "      <th></th>\n",
       "      <th>Aircraft Make</th>\n",
       "      <th>Aircraft Model</th>\n",
       "      <th>Operator</th>\n",
       "      <th>Flight Conduct Code</th>\n",
       "      <th>Flight Plan Filed Code</th>\n",
       "      <th>Aircraft Registration Nbr</th>\n",
       "      <th>PIC Certificate Type</th>\n",
       "    </tr>\n",
       "  </thead>\n",
       "  <tbody>\n",
       "    <tr>\n",
       "      <th>27</th>\n",
       "      <td>BELL</td>\n",
       "      <td>206</td>\n",
       "      <td>PETROLEUM HELICOPTERS</td>\n",
       "      <td>AIR TAXI/COMMUTER</td>\n",
       "      <td>INSTRUMENT FLIGHT RULES</td>\n",
       "      <td>9979K</td>\n",
       "      <td>COMMERCIAL PILOT</td>\n",
       "    </tr>\n",
       "    <tr>\n",
       "      <th>29</th>\n",
       "      <td>BELL</td>\n",
       "      <td>206</td>\n",
       "      <td>AIR LOGISTICS</td>\n",
       "      <td>AIR TAXI/COMMUTER</td>\n",
       "      <td>NONE</td>\n",
       "      <td>59516</td>\n",
       "      <td>COMMERCIAL PILOT</td>\n",
       "    </tr>\n",
       "    <tr>\n",
       "      <th>30</th>\n",
       "      <td>BEECH</td>\n",
       "      <td>18</td>\n",
       "      <td>MOUNTAIN AIR CARGO</td>\n",
       "      <td>AIR TAXI/COMMUTER</td>\n",
       "      <td>INSTRUMENT FLIGHT RULES</td>\n",
       "      <td>703M</td>\n",
       "      <td>COMMERCIAL PILOT</td>\n",
       "    </tr>\n",
       "    <tr>\n",
       "      <th>34</th>\n",
       "      <td>CESSNA</td>\n",
       "      <td>310</td>\n",
       "      <td>SKYCRAFT INC</td>\n",
       "      <td>AIR TAXI/COMMUTER</td>\n",
       "      <td>INSTRUMENT FLIGHT RULES</td>\n",
       "      <td>8240Q</td>\n",
       "      <td>COMMERCIAL PILOT</td>\n",
       "    </tr>\n",
       "    <tr>\n",
       "      <th>46</th>\n",
       "      <td>PIPER</td>\n",
       "      <td>PA34</td>\n",
       "      <td>SOLDOTNA AIR SERVICE</td>\n",
       "      <td>AIR TAXI/COMMUTER</td>\n",
       "      <td>VISUAL FLIGHT RULES</td>\n",
       "      <td>41960</td>\n",
       "      <td>COMMERCIAL PILOT</td>\n",
       "    </tr>\n",
       "    <tr>\n",
       "      <th>...</th>\n",
       "      <td>...</td>\n",
       "      <td>...</td>\n",
       "      <td>...</td>\n",
       "      <td>...</td>\n",
       "      <td>...</td>\n",
       "      <td>...</td>\n",
       "      <td>...</td>\n",
       "    </tr>\n",
       "    <tr>\n",
       "      <th>99945</th>\n",
       "      <td>CESSNA</td>\n",
       "      <td>172</td>\n",
       "      <td>WAYMAN AVIATION SERVICE INC</td>\n",
       "      <td>PILOT SCHOOLS</td>\n",
       "      <td>NaN</td>\n",
       "      <td>5352K</td>\n",
       "      <td>PRIVATE PILOT FLIGHT INSTRUCTOR</td>\n",
       "    </tr>\n",
       "    <tr>\n",
       "      <th>99960</th>\n",
       "      <td>BEECH</td>\n",
       "      <td>99</td>\n",
       "      <td>FREIGHT RUNNERS EXPRESS INC</td>\n",
       "      <td>AIR TAXI/COMMUTER</td>\n",
       "      <td>NaN</td>\n",
       "      <td>699CZ</td>\n",
       "      <td>PRIVATE PILOT FLIGHT INSTRUCTOR</td>\n",
       "    </tr>\n",
       "    <tr>\n",
       "      <th>99975</th>\n",
       "      <td>CESSNA</td>\n",
       "      <td>172</td>\n",
       "      <td>AMERICAN FLYERS CO INC</td>\n",
       "      <td>PILOT SCHOOLS</td>\n",
       "      <td>NaN</td>\n",
       "      <td>72AF</td>\n",
       "      <td>PRIVATE PILOT FLIGHT INSTRUCTOR</td>\n",
       "    </tr>\n",
       "    <tr>\n",
       "      <th>99978</th>\n",
       "      <td>TECNAM</td>\n",
       "      <td>P2006T</td>\n",
       "      <td>UPPER LIMIT AVIATION</td>\n",
       "      <td>GENERAL OPERATING RULES</td>\n",
       "      <td>NaN</td>\n",
       "      <td>245TA</td>\n",
       "      <td>PRIVATE PILOT</td>\n",
       "    </tr>\n",
       "    <tr>\n",
       "      <th>99982</th>\n",
       "      <td>ROBINSON</td>\n",
       "      <td>R44</td>\n",
       "      <td>CLOUD 9 HELICOPTERS LLC</td>\n",
       "      <td>GENERAL OPERATING RULES</td>\n",
       "      <td>NaN</td>\n",
       "      <td>4427H</td>\n",
       "      <td>PRIVATE PILOT</td>\n",
       "    </tr>\n",
       "  </tbody>\n",
       "</table>\n",
       "<p>16492 rows × 7 columns</p>\n",
       "</div>"
      ],
      "text/plain": [
       "      Aircraft Make Aircraft Model                     Operator  \\\n",
       "27             BELL            206        PETROLEUM HELICOPTERS   \n",
       "29             BELL            206                AIR LOGISTICS   \n",
       "30            BEECH             18           MOUNTAIN AIR CARGO   \n",
       "34           CESSNA            310                 SKYCRAFT INC   \n",
       "46            PIPER           PA34         SOLDOTNA AIR SERVICE   \n",
       "...             ...            ...                          ...   \n",
       "99945        CESSNA            172  WAYMAN AVIATION SERVICE INC   \n",
       "99960         BEECH             99  FREIGHT RUNNERS EXPRESS INC   \n",
       "99975        CESSNA            172       AMERICAN FLYERS CO INC   \n",
       "99978        TECNAM         P2006T         UPPER LIMIT AVIATION   \n",
       "99982      ROBINSON            R44      CLOUD 9 HELICOPTERS LLC   \n",
       "\n",
       "           Flight Conduct Code   Flight Plan Filed Code  \\\n",
       "27           AIR TAXI/COMMUTER  INSTRUMENT FLIGHT RULES   \n",
       "29           AIR TAXI/COMMUTER                     NONE   \n",
       "30           AIR TAXI/COMMUTER  INSTRUMENT FLIGHT RULES   \n",
       "34           AIR TAXI/COMMUTER  INSTRUMENT FLIGHT RULES   \n",
       "46           AIR TAXI/COMMUTER      VISUAL FLIGHT RULES   \n",
       "...                        ...                      ...   \n",
       "99945            PILOT SCHOOLS                      NaN   \n",
       "99960        AIR TAXI/COMMUTER                      NaN   \n",
       "99975            PILOT SCHOOLS                      NaN   \n",
       "99978  GENERAL OPERATING RULES                      NaN   \n",
       "99982  GENERAL OPERATING RULES                      NaN   \n",
       "\n",
       "      Aircraft Registration Nbr             PIC Certificate Type  \n",
       "27                        9979K                 COMMERCIAL PILOT  \n",
       "29                        59516                 COMMERCIAL PILOT  \n",
       "30                         703M                 COMMERCIAL PILOT  \n",
       "34                        8240Q                 COMMERCIAL PILOT  \n",
       "46                        41960                 COMMERCIAL PILOT  \n",
       "...                         ...                              ...  \n",
       "99945                     5352K  PRIVATE PILOT FLIGHT INSTRUCTOR  \n",
       "99960                     699CZ  PRIVATE PILOT FLIGHT INSTRUCTOR  \n",
       "99975                      72AF  PRIVATE PILOT FLIGHT INSTRUCTOR  \n",
       "99978                     245TA                    PRIVATE PILOT  \n",
       "99982                     4427H                    PRIVATE PILOT  \n",
       "\n",
       "[16492 rows x 7 columns]"
      ]
     },
     "execution_count": 139,
     "metadata": {},
     "output_type": "execute_result"
    }
   ],
   "source": [
    "operator_basis_data_copy"
   ]
  },
  {
   "cell_type": "markdown",
   "id": "837591fa",
   "metadata": {},
   "source": [
    "Find the operator with highest number of incidents."
   ]
  },
  {
   "cell_type": "code",
   "execution_count": 140,
   "id": "08b34635",
   "metadata": {},
   "outputs": [
    {
     "data": {
      "text/plain": [
       "'DELTA AIR LINES INC'"
      ]
     },
     "execution_count": 140,
     "metadata": {},
     "output_type": "execute_result"
    }
   ],
   "source": [
    "operator_basis_data_copy.Operator.value_counts().index[0]"
   ]
  },
  {
   "cell_type": "markdown",
   "id": "a3414e44",
   "metadata": {},
   "source": [
    "Create a further subset data frame exclusively for this operator."
   ]
  },
  {
   "cell_type": "code",
   "execution_count": 141,
   "id": "5c83175a",
   "metadata": {},
   "outputs": [],
   "source": [
    "High_Inci_Operator = operator_basis_data_copy[operator_basis_data_copy.Operator ==\n",
    "                                             operator_basis_data_copy.Operator.value_counts().index[0]]"
   ]
  },
  {
   "cell_type": "markdown",
   "id": "87cb59e3",
   "metadata": {},
   "source": [
    "Check the data for him exclusive to this operator."
   ]
  },
  {
   "cell_type": "code",
   "execution_count": 142,
   "id": "73fafd22",
   "metadata": {},
   "outputs": [
    {
     "data": {
      "text/html": [
       "<div>\n",
       "<style scoped>\n",
       "    .dataframe tbody tr th:only-of-type {\n",
       "        vertical-align: middle;\n",
       "    }\n",
       "\n",
       "    .dataframe tbody tr th {\n",
       "        vertical-align: top;\n",
       "    }\n",
       "\n",
       "    .dataframe thead th {\n",
       "        text-align: right;\n",
       "    }\n",
       "</style>\n",
       "<table border=\"1\" class=\"dataframe\">\n",
       "  <thead>\n",
       "    <tr style=\"text-align: right;\">\n",
       "      <th></th>\n",
       "      <th>Aircraft Make</th>\n",
       "      <th>Aircraft Model</th>\n",
       "      <th>Operator</th>\n",
       "      <th>Flight Conduct Code</th>\n",
       "      <th>Flight Plan Filed Code</th>\n",
       "      <th>Aircraft Registration Nbr</th>\n",
       "      <th>PIC Certificate Type</th>\n",
       "    </tr>\n",
       "  </thead>\n",
       "  <tbody>\n",
       "    <tr>\n",
       "      <th>311</th>\n",
       "      <td>DOUGLAS</td>\n",
       "      <td>DC9</td>\n",
       "      <td>DELTA AIR LINES INC</td>\n",
       "      <td>AIR CARRIER/COMMERCIAL</td>\n",
       "      <td>INSTRUMENT FLIGHT RULES</td>\n",
       "      <td>1289L</td>\n",
       "      <td>AIRLINE TRANSPORT</td>\n",
       "    </tr>\n",
       "    <tr>\n",
       "      <th>3146</th>\n",
       "      <td>DOUGLAS</td>\n",
       "      <td>DC8</td>\n",
       "      <td>DELTA AIR LINES INC</td>\n",
       "      <td>AIR CARRIER/COMMERCIAL</td>\n",
       "      <td>INSTRUMENT FLIGHT RULES</td>\n",
       "      <td>809E</td>\n",
       "      <td>AIRLINE TRANSPORT</td>\n",
       "    </tr>\n",
       "    <tr>\n",
       "      <th>5791</th>\n",
       "      <td>DOUGLAS</td>\n",
       "      <td>DC9</td>\n",
       "      <td>DELTA AIR LINES INC</td>\n",
       "      <td>AIR CARRIER/COMMERCIAL</td>\n",
       "      <td>INSTRUMENT FLIGHT RULES</td>\n",
       "      <td>NR181</td>\n",
       "      <td>AIRLINE TRANSPORT</td>\n",
       "    </tr>\n",
       "    <tr>\n",
       "      <th>9545</th>\n",
       "      <td>LOCKHEED</td>\n",
       "      <td>L1011 385</td>\n",
       "      <td>DELTA AIR LINES INC</td>\n",
       "      <td>FOREIGN AIR CARRIER</td>\n",
       "      <td>INSTRUMENT FLIGHT RULES</td>\n",
       "      <td>714DA</td>\n",
       "      <td>AIRLINE TRANSPORT</td>\n",
       "    </tr>\n",
       "    <tr>\n",
       "      <th>9713</th>\n",
       "      <td>DOUGLAS</td>\n",
       "      <td>DC8</td>\n",
       "      <td>DELTA AIR LINES INC</td>\n",
       "      <td>AIR CARRIER/COMMERCIAL</td>\n",
       "      <td>INSTRUMENT FLIGHT RULES</td>\n",
       "      <td>823E</td>\n",
       "      <td>AIRLINE TRANSPORT</td>\n",
       "    </tr>\n",
       "    <tr>\n",
       "      <th>...</th>\n",
       "      <td>...</td>\n",
       "      <td>...</td>\n",
       "      <td>...</td>\n",
       "      <td>...</td>\n",
       "      <td>...</td>\n",
       "      <td>...</td>\n",
       "      <td>...</td>\n",
       "    </tr>\n",
       "    <tr>\n",
       "      <th>96532</th>\n",
       "      <td>DOUGLAS</td>\n",
       "      <td>DC9</td>\n",
       "      <td>DELTA AIR LINES INC</td>\n",
       "      <td>AIR CARRIER/COMMERCIAL</td>\n",
       "      <td>NaN</td>\n",
       "      <td>770NC</td>\n",
       "      <td>COMMERCIAL PILOT</td>\n",
       "    </tr>\n",
       "    <tr>\n",
       "      <th>97026</th>\n",
       "      <td>MCDONNELL DOUGLAS</td>\n",
       "      <td>MD90</td>\n",
       "      <td>DELTA AIR LINES INC</td>\n",
       "      <td>AIR CARRIER/COMMERCIAL</td>\n",
       "      <td>NaN</td>\n",
       "      <td>963DN</td>\n",
       "      <td>AIRLINE TRANSPORT</td>\n",
       "    </tr>\n",
       "    <tr>\n",
       "      <th>97817</th>\n",
       "      <td>MCDONNELL DOUGLAS</td>\n",
       "      <td>MD88</td>\n",
       "      <td>DELTA AIR LINES INC</td>\n",
       "      <td>AIR CARRIER/COMMERCIAL</td>\n",
       "      <td>NaN</td>\n",
       "      <td>912DE</td>\n",
       "      <td>COMMERCIAL PILOT FLIGHT INSTRUCTOR</td>\n",
       "    </tr>\n",
       "    <tr>\n",
       "      <th>98546</th>\n",
       "      <td>MCDONNELL DOUGLAS</td>\n",
       "      <td>MD88</td>\n",
       "      <td>DELTA AIR LINES INC</td>\n",
       "      <td>AIR CARRIER/COMMERCIAL</td>\n",
       "      <td>NaN</td>\n",
       "      <td>903DE</td>\n",
       "      <td>AIRLINE TRANSPORT</td>\n",
       "    </tr>\n",
       "    <tr>\n",
       "      <th>99588</th>\n",
       "      <td>AIRBUS</td>\n",
       "      <td>A320</td>\n",
       "      <td>DELTA AIR LINES INC</td>\n",
       "      <td>AIR CARRIER/COMMERCIAL</td>\n",
       "      <td>NaN</td>\n",
       "      <td>332NW</td>\n",
       "      <td>AIRLINE TRANSPORT</td>\n",
       "    </tr>\n",
       "  </tbody>\n",
       "</table>\n",
       "<p>401 rows × 7 columns</p>\n",
       "</div>"
      ],
      "text/plain": [
       "           Aircraft Make Aircraft Model             Operator  \\\n",
       "311              DOUGLAS            DC9  DELTA AIR LINES INC   \n",
       "3146             DOUGLAS            DC8  DELTA AIR LINES INC   \n",
       "5791             DOUGLAS            DC9  DELTA AIR LINES INC   \n",
       "9545            LOCKHEED      L1011 385  DELTA AIR LINES INC   \n",
       "9713             DOUGLAS            DC8  DELTA AIR LINES INC   \n",
       "...                  ...            ...                  ...   \n",
       "96532            DOUGLAS            DC9  DELTA AIR LINES INC   \n",
       "97026  MCDONNELL DOUGLAS           MD90  DELTA AIR LINES INC   \n",
       "97817  MCDONNELL DOUGLAS           MD88  DELTA AIR LINES INC   \n",
       "98546  MCDONNELL DOUGLAS           MD88  DELTA AIR LINES INC   \n",
       "99588             AIRBUS           A320  DELTA AIR LINES INC   \n",
       "\n",
       "          Flight Conduct Code   Flight Plan Filed Code  \\\n",
       "311    AIR CARRIER/COMMERCIAL  INSTRUMENT FLIGHT RULES   \n",
       "3146   AIR CARRIER/COMMERCIAL  INSTRUMENT FLIGHT RULES   \n",
       "5791   AIR CARRIER/COMMERCIAL  INSTRUMENT FLIGHT RULES   \n",
       "9545      FOREIGN AIR CARRIER  INSTRUMENT FLIGHT RULES   \n",
       "9713   AIR CARRIER/COMMERCIAL  INSTRUMENT FLIGHT RULES   \n",
       "...                       ...                      ...   \n",
       "96532  AIR CARRIER/COMMERCIAL                      NaN   \n",
       "97026  AIR CARRIER/COMMERCIAL                      NaN   \n",
       "97817  AIR CARRIER/COMMERCIAL                      NaN   \n",
       "98546  AIR CARRIER/COMMERCIAL                      NaN   \n",
       "99588  AIR CARRIER/COMMERCIAL                      NaN   \n",
       "\n",
       "      Aircraft Registration Nbr                PIC Certificate Type  \n",
       "311                       1289L                   AIRLINE TRANSPORT  \n",
       "3146                       809E                   AIRLINE TRANSPORT  \n",
       "5791                      NR181                   AIRLINE TRANSPORT  \n",
       "9545                      714DA                   AIRLINE TRANSPORT  \n",
       "9713                       823E                   AIRLINE TRANSPORT  \n",
       "...                         ...                                 ...  \n",
       "96532                     770NC                    COMMERCIAL PILOT  \n",
       "97026                     963DN                   AIRLINE TRANSPORT  \n",
       "97817                     912DE  COMMERCIAL PILOT FLIGHT INSTRUCTOR  \n",
       "98546                     903DE                   AIRLINE TRANSPORT  \n",
       "99588                     332NW                   AIRLINE TRANSPORT  \n",
       "\n",
       "[401 rows x 7 columns]"
      ]
     },
     "execution_count": 142,
     "metadata": {},
     "output_type": "execute_result"
    }
   ],
   "source": [
    "High_Inci_Operator"
   ]
  },
  {
   "cell_type": "markdown",
   "id": "d0620cfb",
   "metadata": {},
   "source": [
    "Explore various columns of this data frame and note the observations."
   ]
  },
  {
   "cell_type": "code",
   "execution_count": 143,
   "id": "0ca4e999",
   "metadata": {},
   "outputs": [
    {
     "data": {
      "text/plain": [
       "727          89\n",
       "MD88         81\n",
       "757          52\n",
       "737          48\n",
       "L1011 385    48\n",
       "767          24\n",
       "DC9          21\n",
       "MD90         14\n",
       "DC8           6\n",
       "A320          5\n",
       "MD11          4\n",
       "747           2\n",
       "DC10          1\n",
       "1329          1\n",
       "TB10          1\n",
       "777           1\n",
       "A330          1\n",
       "Name: Aircraft Model, dtype: int64"
      ]
     },
     "execution_count": 143,
     "metadata": {},
     "output_type": "execute_result"
    }
   ],
   "source": [
    "High_Inci_Operator['Aircraft Model'].value_counts()"
   ]
  },
  {
   "cell_type": "code",
   "execution_count": 144,
   "id": "1e5928f6",
   "metadata": {},
   "outputs": [
    {
     "data": {
      "text/plain": [
       "BOEING               216\n",
       "MCDONNELL DOUGLAS    100\n",
       "LOCKHEED              49\n",
       "DOUGLAS               27\n",
       "AIRBUS                 6\n",
       "SOCATA                 1\n",
       "Name: Aircraft Make, dtype: int64"
      ]
     },
     "execution_count": 144,
     "metadata": {},
     "output_type": "execute_result"
    }
   ],
   "source": [
    "High_Inci_Operator['Aircraft Make'].value_counts()"
   ]
  },
  {
   "cell_type": "code",
   "execution_count": 145,
   "id": "e3deecc7",
   "metadata": {},
   "outputs": [
    {
     "data": {
      "text/plain": [
       "AIR CARRIER/COMMERCIAL     397\n",
       "FOREIGN AIR CARRIER          2\n",
       "GENERAL OPERATING RULES      2\n",
       "Name: Flight Conduct Code, dtype: int64"
      ]
     },
     "execution_count": 145,
     "metadata": {},
     "output_type": "execute_result"
    }
   ],
   "source": [
    "High_Inci_Operator['Flight Conduct Code'].value_counts()"
   ]
  },
  {
   "cell_type": "code",
   "execution_count": 146,
   "id": "64359400",
   "metadata": {},
   "outputs": [
    {
     "data": {
      "text/plain": [
       "INSTRUMENT FLIGHT RULES    351\n",
       "UNKNOWN                     13\n",
       "VISUAL FLIGHT RULES          2\n",
       "NONE                         1\n",
       "Name: Flight Plan Filed Code, dtype: int64"
      ]
     },
     "execution_count": 146,
     "metadata": {},
     "output_type": "execute_result"
    }
   ],
   "source": [
    "High_Inci_Operator['Flight Plan Filed Code'].value_counts()"
   ]
  },
  {
   "cell_type": "code",
   "execution_count": 147,
   "id": "afe06628",
   "metadata": {},
   "outputs": [
    {
     "data": {
      "text/plain": [
       "AIRLINE TRANSPORT                            354\n",
       "AIRLINE TRANSPORT PILOT FLIGHT INSTRUCTOR     22\n",
       "COMMERCIAL PILOT                               8\n",
       "PRIVATE PILOT                                  1\n",
       "COMMERCIAL PILOT FLIGHT INSTRUCTOR             1\n",
       "Name: PIC Certificate Type, dtype: int64"
      ]
     },
     "execution_count": 147,
     "metadata": {},
     "output_type": "execute_result"
    }
   ],
   "source": [
    "High_Inci_Operator['PIC Certificate Type'].value_counts()"
   ]
  },
  {
   "cell_type": "code",
   "execution_count": 148,
   "id": "81796442",
   "metadata": {},
   "outputs": [
    {
     "data": {
      "text/plain": [
       "953DL    3\n",
       "982DL    3\n",
       "831L     3\n",
       "735D     3\n",
       "543DA    3\n",
       "        ..\n",
       "964DL    1\n",
       "754DL    1\n",
       "320DL    1\n",
       "809E     1\n",
       "903DE    1\n",
       "Name: Aircraft Registration Nbr, Length: 318, dtype: int64"
      ]
     },
     "execution_count": 148,
     "metadata": {},
     "output_type": "execute_result"
    }
   ],
   "source": [
    "High_Inci_Operator['Aircraft Registration Nbr'].value_counts()"
   ]
  },
  {
   "cell_type": "markdown",
   "id": "0a4c97cc",
   "metadata": {},
   "source": [
    "###### Answer to Research Question 4"
   ]
  },
  {
   "cell_type": "markdown",
   "id": "bf9ea751",
   "metadata": {},
   "source": [
    "###### From all the observations, the answer to the fourth research question is that the most dangerous operator it was DELTA AIR LINES INC. One of the possible factors due to which this was the most dangerous operator is the aircraft make that is most possessed by the operator. Whether or not the operating procedures of the operator is another possible factor, is inconclusive."
   ]
  },
  {
   "cell_type": "markdown",
   "id": "bf874e88",
   "metadata": {},
   "source": [
    "###### Research Question 5 - flight type basis"
   ]
  },
  {
   "cell_type": "markdown",
   "id": "12be6173",
   "metadata": {},
   "source": [
    "###### Which was the most dangerous flight type and what could be the possible factors from the given data due to which that flight type was the most dangerous."
   ]
  },
  {
   "cell_type": "markdown",
   "id": "5f676541",
   "metadata": {},
   "source": [
    "To answer this question, the primary flight type would obviously be the main column and create a subset of data with all the relevant columns."
   ]
  },
  {
   "cell_type": "code",
   "execution_count": 149,
   "id": "87f88c9b",
   "metadata": {},
   "outputs": [],
   "source": [
    "flighttype_basis_data = av_data_copy[['Primary Flight Type','Flight Conduct Code','Flight Plan Filed Code',\n",
    "                                      'Aircraft Model','PIC Certificate Type','PIC Flight Time Total Hrs']]"
   ]
  },
  {
   "cell_type": "markdown",
   "id": "619bc683",
   "metadata": {},
   "source": [
    "Have a glance of the created subset."
   ]
  },
  {
   "cell_type": "code",
   "execution_count": 150,
   "id": "ee629b62",
   "metadata": {},
   "outputs": [
    {
     "data": {
      "text/html": [
       "<div>\n",
       "<style scoped>\n",
       "    .dataframe tbody tr th:only-of-type {\n",
       "        vertical-align: middle;\n",
       "    }\n",
       "\n",
       "    .dataframe tbody tr th {\n",
       "        vertical-align: top;\n",
       "    }\n",
       "\n",
       "    .dataframe thead th {\n",
       "        text-align: right;\n",
       "    }\n",
       "</style>\n",
       "<table border=\"1\" class=\"dataframe\">\n",
       "  <thead>\n",
       "    <tr style=\"text-align: right;\">\n",
       "      <th></th>\n",
       "      <th>Primary Flight Type</th>\n",
       "      <th>Flight Conduct Code</th>\n",
       "      <th>Flight Plan Filed Code</th>\n",
       "      <th>Aircraft Model</th>\n",
       "      <th>PIC Certificate Type</th>\n",
       "      <th>PIC Flight Time Total Hrs</th>\n",
       "    </tr>\n",
       "  </thead>\n",
       "  <tbody>\n",
       "    <tr>\n",
       "      <th>0</th>\n",
       "      <td>PERSONAL</td>\n",
       "      <td>GENERAL OPERATING RULES</td>\n",
       "      <td>NONE</td>\n",
       "      <td>182</td>\n",
       "      <td>PRIVATE PILOT</td>\n",
       "      <td>245.0</td>\n",
       "    </tr>\n",
       "    <tr>\n",
       "      <th>1</th>\n",
       "      <td>PERSONAL</td>\n",
       "      <td>GENERAL OPERATING RULES</td>\n",
       "      <td>VISUAL FLIGHT RULES</td>\n",
       "      <td>PA18</td>\n",
       "      <td>STUDENT</td>\n",
       "      <td>200.0</td>\n",
       "    </tr>\n",
       "    <tr>\n",
       "      <th>3</th>\n",
       "      <td>PERSONAL</td>\n",
       "      <td>GENERAL OPERATING RULES</td>\n",
       "      <td>VISUAL FLIGHT RULES</td>\n",
       "      <td>310</td>\n",
       "      <td>COMMERCIAL PILOT FLIGHT INSTRUCTOR</td>\n",
       "      <td>2000.0</td>\n",
       "    </tr>\n",
       "    <tr>\n",
       "      <th>4</th>\n",
       "      <td>PERSONAL</td>\n",
       "      <td>GENERAL OPERATING RULES</td>\n",
       "      <td>NONE</td>\n",
       "      <td>172</td>\n",
       "      <td>COMMERCIAL PILOT</td>\n",
       "      <td>300.0</td>\n",
       "    </tr>\n",
       "    <tr>\n",
       "      <th>7</th>\n",
       "      <td>OTHER</td>\n",
       "      <td>GENERAL OPERATING RULES</td>\n",
       "      <td>VISUAL FLIGHT RULES</td>\n",
       "      <td>PA31</td>\n",
       "      <td>COMMERCIAL PILOT</td>\n",
       "      <td>2700.0</td>\n",
       "    </tr>\n",
       "    <tr>\n",
       "      <th>...</th>\n",
       "      <td>...</td>\n",
       "      <td>...</td>\n",
       "      <td>...</td>\n",
       "      <td>...</td>\n",
       "      <td>...</td>\n",
       "      <td>...</td>\n",
       "    </tr>\n",
       "    <tr>\n",
       "      <th>99988</th>\n",
       "      <td>NaN</td>\n",
       "      <td>GENERAL OPERATING RULES</td>\n",
       "      <td>NaN</td>\n",
       "      <td>A1</td>\n",
       "      <td>PRIVATE PILOT</td>\n",
       "      <td>935.0</td>\n",
       "    </tr>\n",
       "    <tr>\n",
       "      <th>99992</th>\n",
       "      <td>NaN</td>\n",
       "      <td>GENERAL OPERATING RULES</td>\n",
       "      <td>NaN</td>\n",
       "      <td>172RG</td>\n",
       "      <td>COMMERCIAL PILOT FLIGHT INSTRUCTOR</td>\n",
       "      <td>2200.0</td>\n",
       "    </tr>\n",
       "    <tr>\n",
       "      <th>99996</th>\n",
       "      <td>NaN</td>\n",
       "      <td>GENERAL OPERATING RULES</td>\n",
       "      <td>NaN</td>\n",
       "      <td>550</td>\n",
       "      <td>UNKNOWN/FOREIGN</td>\n",
       "      <td>5500.0</td>\n",
       "    </tr>\n",
       "    <tr>\n",
       "      <th>99997</th>\n",
       "      <td>NaN</td>\n",
       "      <td>GENERAL OPERATING RULES</td>\n",
       "      <td>NaN</td>\n",
       "      <td>172RG</td>\n",
       "      <td>PRIVATE PILOT</td>\n",
       "      <td>267.0</td>\n",
       "    </tr>\n",
       "    <tr>\n",
       "      <th>99998</th>\n",
       "      <td>NaN</td>\n",
       "      <td>GENERAL OPERATING RULES</td>\n",
       "      <td>NaN</td>\n",
       "      <td>PA28</td>\n",
       "      <td>STUDENT</td>\n",
       "      <td>18.0</td>\n",
       "    </tr>\n",
       "  </tbody>\n",
       "</table>\n",
       "<p>77854 rows × 6 columns</p>\n",
       "</div>"
      ],
      "text/plain": [
       "      Primary Flight Type      Flight Conduct Code Flight Plan Filed Code  \\\n",
       "0                PERSONAL  GENERAL OPERATING RULES                   NONE   \n",
       "1                PERSONAL  GENERAL OPERATING RULES    VISUAL FLIGHT RULES   \n",
       "3                PERSONAL  GENERAL OPERATING RULES    VISUAL FLIGHT RULES   \n",
       "4                PERSONAL  GENERAL OPERATING RULES                   NONE   \n",
       "7                   OTHER  GENERAL OPERATING RULES    VISUAL FLIGHT RULES   \n",
       "...                   ...                      ...                    ...   \n",
       "99988                 NaN  GENERAL OPERATING RULES                    NaN   \n",
       "99992                 NaN  GENERAL OPERATING RULES                    NaN   \n",
       "99996                 NaN  GENERAL OPERATING RULES                    NaN   \n",
       "99997                 NaN  GENERAL OPERATING RULES                    NaN   \n",
       "99998                 NaN  GENERAL OPERATING RULES                    NaN   \n",
       "\n",
       "      Aircraft Model                PIC Certificate Type  \\\n",
       "0                182                       PRIVATE PILOT   \n",
       "1               PA18                             STUDENT   \n",
       "3                310  COMMERCIAL PILOT FLIGHT INSTRUCTOR   \n",
       "4                172                    COMMERCIAL PILOT   \n",
       "7               PA31                    COMMERCIAL PILOT   \n",
       "...              ...                                 ...   \n",
       "99988             A1                       PRIVATE PILOT   \n",
       "99992          172RG  COMMERCIAL PILOT FLIGHT INSTRUCTOR   \n",
       "99996            550                     UNKNOWN/FOREIGN   \n",
       "99997          172RG                       PRIVATE PILOT   \n",
       "99998           PA28                             STUDENT   \n",
       "\n",
       "       PIC Flight Time Total Hrs  \n",
       "0                          245.0  \n",
       "1                          200.0  \n",
       "3                         2000.0  \n",
       "4                          300.0  \n",
       "7                         2700.0  \n",
       "...                          ...  \n",
       "99988                      935.0  \n",
       "99992                     2200.0  \n",
       "99996                     5500.0  \n",
       "99997                      267.0  \n",
       "99998                       18.0  \n",
       "\n",
       "[77854 rows x 6 columns]"
      ]
     },
     "execution_count": 150,
     "metadata": {},
     "output_type": "execute_result"
    }
   ],
   "source": [
    "flighttype_basis_data"
   ]
  },
  {
   "cell_type": "markdown",
   "id": "13027850",
   "metadata": {},
   "source": [
    "Check missing values for the created subset."
   ]
  },
  {
   "cell_type": "code",
   "execution_count": 151,
   "id": "8e90404d",
   "metadata": {},
   "outputs": [
    {
     "data": {
      "text/plain": [
       "Primary Flight Type          8182\n",
       "Flight Conduct Code            44\n",
       "Flight Plan Filed Code       9891\n",
       "Aircraft Model               2198\n",
       "PIC Certificate Type         1239\n",
       "PIC Flight Time Total Hrs       0\n",
       "dtype: int64"
      ]
     },
     "execution_count": 151,
     "metadata": {},
     "output_type": "execute_result"
    }
   ],
   "source": [
    "flighttype_basis_data.isnull().sum()"
   ]
  },
  {
   "cell_type": "markdown",
   "id": "ec01aceb",
   "metadata": {},
   "source": [
    "The situation again resembles to that of analysis to the fourth research question. So, repeat the whole process that was done as part of analysis for the fourth research question and note the observations."
   ]
  },
  {
   "cell_type": "code",
   "execution_count": 152,
   "id": "c7ca890f",
   "metadata": {},
   "outputs": [],
   "source": [
    "flighttype_basis_data_copy = flighttype_basis_data.dropna(subset=['Primary Flight Type'])"
   ]
  },
  {
   "cell_type": "code",
   "execution_count": 153,
   "id": "96494273",
   "metadata": {},
   "outputs": [
    {
     "data": {
      "text/html": [
       "<div>\n",
       "<style scoped>\n",
       "    .dataframe tbody tr th:only-of-type {\n",
       "        vertical-align: middle;\n",
       "    }\n",
       "\n",
       "    .dataframe tbody tr th {\n",
       "        vertical-align: top;\n",
       "    }\n",
       "\n",
       "    .dataframe thead th {\n",
       "        text-align: right;\n",
       "    }\n",
       "</style>\n",
       "<table border=\"1\" class=\"dataframe\">\n",
       "  <thead>\n",
       "    <tr style=\"text-align: right;\">\n",
       "      <th></th>\n",
       "      <th>Primary Flight Type</th>\n",
       "      <th>Flight Conduct Code</th>\n",
       "      <th>Flight Plan Filed Code</th>\n",
       "      <th>Aircraft Model</th>\n",
       "      <th>PIC Certificate Type</th>\n",
       "      <th>PIC Flight Time Total Hrs</th>\n",
       "    </tr>\n",
       "  </thead>\n",
       "  <tbody>\n",
       "    <tr>\n",
       "      <th>0</th>\n",
       "      <td>PERSONAL</td>\n",
       "      <td>GENERAL OPERATING RULES</td>\n",
       "      <td>NONE</td>\n",
       "      <td>182</td>\n",
       "      <td>PRIVATE PILOT</td>\n",
       "      <td>245.0</td>\n",
       "    </tr>\n",
       "    <tr>\n",
       "      <th>1</th>\n",
       "      <td>PERSONAL</td>\n",
       "      <td>GENERAL OPERATING RULES</td>\n",
       "      <td>VISUAL FLIGHT RULES</td>\n",
       "      <td>PA18</td>\n",
       "      <td>STUDENT</td>\n",
       "      <td>200.0</td>\n",
       "    </tr>\n",
       "    <tr>\n",
       "      <th>3</th>\n",
       "      <td>PERSONAL</td>\n",
       "      <td>GENERAL OPERATING RULES</td>\n",
       "      <td>VISUAL FLIGHT RULES</td>\n",
       "      <td>310</td>\n",
       "      <td>COMMERCIAL PILOT FLIGHT INSTRUCTOR</td>\n",
       "      <td>2000.0</td>\n",
       "    </tr>\n",
       "    <tr>\n",
       "      <th>4</th>\n",
       "      <td>PERSONAL</td>\n",
       "      <td>GENERAL OPERATING RULES</td>\n",
       "      <td>NONE</td>\n",
       "      <td>172</td>\n",
       "      <td>COMMERCIAL PILOT</td>\n",
       "      <td>300.0</td>\n",
       "    </tr>\n",
       "    <tr>\n",
       "      <th>7</th>\n",
       "      <td>OTHER</td>\n",
       "      <td>GENERAL OPERATING RULES</td>\n",
       "      <td>VISUAL FLIGHT RULES</td>\n",
       "      <td>PA31</td>\n",
       "      <td>COMMERCIAL PILOT</td>\n",
       "      <td>2700.0</td>\n",
       "    </tr>\n",
       "    <tr>\n",
       "      <th>...</th>\n",
       "      <td>...</td>\n",
       "      <td>...</td>\n",
       "      <td>...</td>\n",
       "      <td>...</td>\n",
       "      <td>...</td>\n",
       "      <td>...</td>\n",
       "    </tr>\n",
       "    <tr>\n",
       "      <th>90254</th>\n",
       "      <td>SCHEDULED AIR CARRIER</td>\n",
       "      <td>AIR CARRIER/COMMERCIAL</td>\n",
       "      <td>INSTRUMENT FLIGHT RULES</td>\n",
       "      <td>737</td>\n",
       "      <td>NaN</td>\n",
       "      <td>0.0</td>\n",
       "    </tr>\n",
       "    <tr>\n",
       "      <th>90272</th>\n",
       "      <td>EXECUTIVE</td>\n",
       "      <td>GENERAL OPERATING RULES</td>\n",
       "      <td>UNKNOWN</td>\n",
       "      <td>1125</td>\n",
       "      <td>NaN</td>\n",
       "      <td>0.0</td>\n",
       "    </tr>\n",
       "    <tr>\n",
       "      <th>90284</th>\n",
       "      <td>PERSONAL</td>\n",
       "      <td>GENERAL OPERATING RULES</td>\n",
       "      <td>UNKNOWN</td>\n",
       "      <td>36</td>\n",
       "      <td>PRIVATE PILOT</td>\n",
       "      <td>1000.0</td>\n",
       "    </tr>\n",
       "    <tr>\n",
       "      <th>90289</th>\n",
       "      <td>PERSONAL</td>\n",
       "      <td>GENERAL OPERATING RULES</td>\n",
       "      <td>NONE</td>\n",
       "      <td>TAIFUN17E</td>\n",
       "      <td>PRIVATE PILOT</td>\n",
       "      <td>300.0</td>\n",
       "    </tr>\n",
       "    <tr>\n",
       "      <th>90291</th>\n",
       "      <td>PERSONAL</td>\n",
       "      <td>GENERAL OPERATING RULES</td>\n",
       "      <td>UNKNOWN</td>\n",
       "      <td>TR182</td>\n",
       "      <td>COMMERCIAL PILOT</td>\n",
       "      <td>3000.0</td>\n",
       "    </tr>\n",
       "  </tbody>\n",
       "</table>\n",
       "<p>69672 rows × 6 columns</p>\n",
       "</div>"
      ],
      "text/plain": [
       "         Primary Flight Type      Flight Conduct Code  \\\n",
       "0                   PERSONAL  GENERAL OPERATING RULES   \n",
       "1                   PERSONAL  GENERAL OPERATING RULES   \n",
       "3                   PERSONAL  GENERAL OPERATING RULES   \n",
       "4                   PERSONAL  GENERAL OPERATING RULES   \n",
       "7                      OTHER  GENERAL OPERATING RULES   \n",
       "...                      ...                      ...   \n",
       "90254  SCHEDULED AIR CARRIER   AIR CARRIER/COMMERCIAL   \n",
       "90272              EXECUTIVE  GENERAL OPERATING RULES   \n",
       "90284               PERSONAL  GENERAL OPERATING RULES   \n",
       "90289               PERSONAL  GENERAL OPERATING RULES   \n",
       "90291               PERSONAL  GENERAL OPERATING RULES   \n",
       "\n",
       "        Flight Plan Filed Code Aircraft Model  \\\n",
       "0                         NONE            182   \n",
       "1          VISUAL FLIGHT RULES           PA18   \n",
       "3          VISUAL FLIGHT RULES            310   \n",
       "4                         NONE            172   \n",
       "7          VISUAL FLIGHT RULES           PA31   \n",
       "...                        ...            ...   \n",
       "90254  INSTRUMENT FLIGHT RULES            737   \n",
       "90272                  UNKNOWN           1125   \n",
       "90284                  UNKNOWN             36   \n",
       "90289                     NONE      TAIFUN17E   \n",
       "90291                  UNKNOWN          TR182   \n",
       "\n",
       "                     PIC Certificate Type  PIC Flight Time Total Hrs  \n",
       "0                           PRIVATE PILOT                      245.0  \n",
       "1                                 STUDENT                      200.0  \n",
       "3      COMMERCIAL PILOT FLIGHT INSTRUCTOR                     2000.0  \n",
       "4                        COMMERCIAL PILOT                      300.0  \n",
       "7                        COMMERCIAL PILOT                     2700.0  \n",
       "...                                   ...                        ...  \n",
       "90254                                 NaN                        0.0  \n",
       "90272                                 NaN                        0.0  \n",
       "90284                       PRIVATE PILOT                     1000.0  \n",
       "90289                       PRIVATE PILOT                      300.0  \n",
       "90291                    COMMERCIAL PILOT                     3000.0  \n",
       "\n",
       "[69672 rows x 6 columns]"
      ]
     },
     "execution_count": 153,
     "metadata": {},
     "output_type": "execute_result"
    }
   ],
   "source": [
    "flighttype_basis_data_copy"
   ]
  },
  {
   "cell_type": "code",
   "execution_count": 154,
   "id": "a4b40c1e",
   "metadata": {},
   "outputs": [
    {
     "data": {
      "text/plain": [
       "'PERSONAL'"
      ]
     },
     "execution_count": 154,
     "metadata": {},
     "output_type": "execute_result"
    }
   ],
   "source": [
    "flighttype_basis_data_copy['Primary Flight Type'].value_counts().index[0]"
   ]
  },
  {
   "cell_type": "code",
   "execution_count": 155,
   "id": "d765312e",
   "metadata": {},
   "outputs": [],
   "source": [
    "High_Inci_Flighttype = flighttype_basis_data_copy[flighttype_basis_data_copy['Primary Flight Type'] ==\n",
    "                                                 flighttype_basis_data_copy['Primary Flight Type'].value_counts().index[0]]"
   ]
  },
  {
   "cell_type": "code",
   "execution_count": 156,
   "id": "83343096",
   "metadata": {},
   "outputs": [
    {
     "data": {
      "text/html": [
       "<div>\n",
       "<style scoped>\n",
       "    .dataframe tbody tr th:only-of-type {\n",
       "        vertical-align: middle;\n",
       "    }\n",
       "\n",
       "    .dataframe tbody tr th {\n",
       "        vertical-align: top;\n",
       "    }\n",
       "\n",
       "    .dataframe thead th {\n",
       "        text-align: right;\n",
       "    }\n",
       "</style>\n",
       "<table border=\"1\" class=\"dataframe\">\n",
       "  <thead>\n",
       "    <tr style=\"text-align: right;\">\n",
       "      <th></th>\n",
       "      <th>Primary Flight Type</th>\n",
       "      <th>Flight Conduct Code</th>\n",
       "      <th>Flight Plan Filed Code</th>\n",
       "      <th>Aircraft Model</th>\n",
       "      <th>PIC Certificate Type</th>\n",
       "      <th>PIC Flight Time Total Hrs</th>\n",
       "    </tr>\n",
       "  </thead>\n",
       "  <tbody>\n",
       "    <tr>\n",
       "      <th>0</th>\n",
       "      <td>PERSONAL</td>\n",
       "      <td>GENERAL OPERATING RULES</td>\n",
       "      <td>NONE</td>\n",
       "      <td>182</td>\n",
       "      <td>PRIVATE PILOT</td>\n",
       "      <td>245.0</td>\n",
       "    </tr>\n",
       "    <tr>\n",
       "      <th>1</th>\n",
       "      <td>PERSONAL</td>\n",
       "      <td>GENERAL OPERATING RULES</td>\n",
       "      <td>VISUAL FLIGHT RULES</td>\n",
       "      <td>PA18</td>\n",
       "      <td>STUDENT</td>\n",
       "      <td>200.0</td>\n",
       "    </tr>\n",
       "    <tr>\n",
       "      <th>3</th>\n",
       "      <td>PERSONAL</td>\n",
       "      <td>GENERAL OPERATING RULES</td>\n",
       "      <td>VISUAL FLIGHT RULES</td>\n",
       "      <td>310</td>\n",
       "      <td>COMMERCIAL PILOT FLIGHT INSTRUCTOR</td>\n",
       "      <td>2000.0</td>\n",
       "    </tr>\n",
       "    <tr>\n",
       "      <th>4</th>\n",
       "      <td>PERSONAL</td>\n",
       "      <td>GENERAL OPERATING RULES</td>\n",
       "      <td>NONE</td>\n",
       "      <td>172</td>\n",
       "      <td>COMMERCIAL PILOT</td>\n",
       "      <td>300.0</td>\n",
       "    </tr>\n",
       "    <tr>\n",
       "      <th>8</th>\n",
       "      <td>PERSONAL</td>\n",
       "      <td>GENERAL OPERATING RULES</td>\n",
       "      <td>NONE</td>\n",
       "      <td>150</td>\n",
       "      <td>PRIVATE PILOT</td>\n",
       "      <td>450.0</td>\n",
       "    </tr>\n",
       "    <tr>\n",
       "      <th>...</th>\n",
       "      <td>...</td>\n",
       "      <td>...</td>\n",
       "      <td>...</td>\n",
       "      <td>...</td>\n",
       "      <td>...</td>\n",
       "      <td>...</td>\n",
       "    </tr>\n",
       "    <tr>\n",
       "      <th>90244</th>\n",
       "      <td>PERSONAL</td>\n",
       "      <td>GENERAL OPERATING RULES</td>\n",
       "      <td>UNKNOWN</td>\n",
       "      <td>NaN</td>\n",
       "      <td>PILOT NOT CERTIFICATED</td>\n",
       "      <td>0.0</td>\n",
       "    </tr>\n",
       "    <tr>\n",
       "      <th>90249</th>\n",
       "      <td>PERSONAL</td>\n",
       "      <td>GENERAL OPERATING RULES</td>\n",
       "      <td>UNKNOWN</td>\n",
       "      <td>CHALLENGER</td>\n",
       "      <td>PRIVATE PILOT</td>\n",
       "      <td>1200.0</td>\n",
       "    </tr>\n",
       "    <tr>\n",
       "      <th>90284</th>\n",
       "      <td>PERSONAL</td>\n",
       "      <td>GENERAL OPERATING RULES</td>\n",
       "      <td>UNKNOWN</td>\n",
       "      <td>36</td>\n",
       "      <td>PRIVATE PILOT</td>\n",
       "      <td>1000.0</td>\n",
       "    </tr>\n",
       "    <tr>\n",
       "      <th>90289</th>\n",
       "      <td>PERSONAL</td>\n",
       "      <td>GENERAL OPERATING RULES</td>\n",
       "      <td>NONE</td>\n",
       "      <td>TAIFUN17E</td>\n",
       "      <td>PRIVATE PILOT</td>\n",
       "      <td>300.0</td>\n",
       "    </tr>\n",
       "    <tr>\n",
       "      <th>90291</th>\n",
       "      <td>PERSONAL</td>\n",
       "      <td>GENERAL OPERATING RULES</td>\n",
       "      <td>UNKNOWN</td>\n",
       "      <td>TR182</td>\n",
       "      <td>COMMERCIAL PILOT</td>\n",
       "      <td>3000.0</td>\n",
       "    </tr>\n",
       "  </tbody>\n",
       "</table>\n",
       "<p>36115 rows × 6 columns</p>\n",
       "</div>"
      ],
      "text/plain": [
       "      Primary Flight Type      Flight Conduct Code Flight Plan Filed Code  \\\n",
       "0                PERSONAL  GENERAL OPERATING RULES                   NONE   \n",
       "1                PERSONAL  GENERAL OPERATING RULES    VISUAL FLIGHT RULES   \n",
       "3                PERSONAL  GENERAL OPERATING RULES    VISUAL FLIGHT RULES   \n",
       "4                PERSONAL  GENERAL OPERATING RULES                   NONE   \n",
       "8                PERSONAL  GENERAL OPERATING RULES                   NONE   \n",
       "...                   ...                      ...                    ...   \n",
       "90244            PERSONAL  GENERAL OPERATING RULES                UNKNOWN   \n",
       "90249            PERSONAL  GENERAL OPERATING RULES                UNKNOWN   \n",
       "90284            PERSONAL  GENERAL OPERATING RULES                UNKNOWN   \n",
       "90289            PERSONAL  GENERAL OPERATING RULES                   NONE   \n",
       "90291            PERSONAL  GENERAL OPERATING RULES                UNKNOWN   \n",
       "\n",
       "      Aircraft Model                PIC Certificate Type  \\\n",
       "0                182                       PRIVATE PILOT   \n",
       "1               PA18                             STUDENT   \n",
       "3                310  COMMERCIAL PILOT FLIGHT INSTRUCTOR   \n",
       "4                172                    COMMERCIAL PILOT   \n",
       "8                150                       PRIVATE PILOT   \n",
       "...              ...                                 ...   \n",
       "90244            NaN              PILOT NOT CERTIFICATED   \n",
       "90249     CHALLENGER                       PRIVATE PILOT   \n",
       "90284             36                       PRIVATE PILOT   \n",
       "90289      TAIFUN17E                       PRIVATE PILOT   \n",
       "90291          TR182                    COMMERCIAL PILOT   \n",
       "\n",
       "       PIC Flight Time Total Hrs  \n",
       "0                          245.0  \n",
       "1                          200.0  \n",
       "3                         2000.0  \n",
       "4                          300.0  \n",
       "8                          450.0  \n",
       "...                          ...  \n",
       "90244                        0.0  \n",
       "90249                     1200.0  \n",
       "90284                     1000.0  \n",
       "90289                      300.0  \n",
       "90291                     3000.0  \n",
       "\n",
       "[36115 rows x 6 columns]"
      ]
     },
     "execution_count": 156,
     "metadata": {},
     "output_type": "execute_result"
    }
   ],
   "source": [
    "High_Inci_Flighttype"
   ]
  },
  {
   "cell_type": "code",
   "execution_count": 157,
   "id": "76684867",
   "metadata": {},
   "outputs": [
    {
     "data": {
      "text/plain": [
       "PERSONAL    36115\n",
       "Name: Primary Flight Type, dtype: int64"
      ]
     },
     "execution_count": 157,
     "metadata": {},
     "output_type": "execute_result"
    }
   ],
   "source": [
    "High_Inci_Flighttype['Primary Flight Type'].value_counts()"
   ]
  },
  {
   "cell_type": "code",
   "execution_count": 158,
   "id": "96ff9088",
   "metadata": {},
   "outputs": [
    {
     "data": {
      "text/plain": [
       "GENERAL OPERATING RULES    36044\n",
       "PILOT SCHOOLS                 23\n",
       "ULTRALIGHT VEHICLES           21\n",
       "AIR TAXI/COMMUTER             10\n",
       "PARACHUTE JUMPING              8\n",
       "AIR CARRIER/COMMERCIAL         5\n",
       "AGRICULTURAL                   2\n",
       "Name: Flight Conduct Code, dtype: int64"
      ]
     },
     "execution_count": 158,
     "metadata": {},
     "output_type": "execute_result"
    }
   ],
   "source": [
    "High_Inci_Flighttype['Flight Conduct Code'].value_counts()"
   ]
  },
  {
   "cell_type": "code",
   "execution_count": 159,
   "id": "9d36834e",
   "metadata": {},
   "outputs": [
    {
     "data": {
      "text/plain": [
       "NONE                           19843\n",
       "UNKNOWN                         7420\n",
       "VISUAL FLIGHT RULES             4529\n",
       "INSTRUMENT FLIGHT RULES         2752\n",
       "SPECIAL VISUAL FLIGHT RULES       19\n",
       "VISUAL FLIGHT FOLLOWING           10\n",
       "DEFENSE VISUAL FLIGHT RULES        9\n",
       "MILITARY CONTROL                   9\n",
       "AIR TAXI FLIGHT FOLLOWING          7\n",
       "Name: Flight Plan Filed Code, dtype: int64"
      ]
     },
     "execution_count": 159,
     "metadata": {},
     "output_type": "execute_result"
    }
   ],
   "source": [
    "High_Inci_Flighttype['Flight Plan Filed Code'].value_counts()"
   ]
  },
  {
   "cell_type": "code",
   "execution_count": 160,
   "id": "cbdd1561",
   "metadata": {},
   "outputs": [
    {
     "data": {
      "text/plain": [
       "172         2349\n",
       "PA28        2297\n",
       "35          1316\n",
       "182         1293\n",
       "150         1090\n",
       "            ... \n",
       "69A            1\n",
       "N65            1\n",
       "CH47           1\n",
       "1101           1\n",
       "VENTUS B       1\n",
       "Name: Aircraft Model, Length: 811, dtype: int64"
      ]
     },
     "execution_count": 160,
     "metadata": {},
     "output_type": "execute_result"
    }
   ],
   "source": [
    "High_Inci_Flighttype['Aircraft Model'].value_counts()"
   ]
  },
  {
   "cell_type": "code",
   "execution_count": 161,
   "id": "80104c91",
   "metadata": {},
   "outputs": [
    {
     "data": {
      "text/plain": [
       "PRIVATE PILOT                                21558\n",
       "COMMERCIAL PILOT                              7891\n",
       "AIRLINE TRANSPORT                             2150\n",
       "COMMERCIAL PILOT FLIGHT INSTRUCTOR            1762\n",
       "STUDENT                                       1198\n",
       "AIRLINE TRANSPORT PILOT FLIGHT INSTRUCTOR      735\n",
       "UNKNOWN/FOREIGN                                458\n",
       "PILOT NOT CERTIFICATED                          64\n",
       "PRIVATE PILOT FLIGHT INSTRUCTOR                 20\n",
       "RECREATIONAL PILOT                               9\n",
       "SPECIAL PURPOSE                                  7\n",
       "Name: PIC Certificate Type, dtype: int64"
      ]
     },
     "execution_count": 161,
     "metadata": {},
     "output_type": "execute_result"
    }
   ],
   "source": [
    "High_Inci_Flighttype['PIC Certificate Type'].value_counts()"
   ]
  },
  {
   "cell_type": "code",
   "execution_count": 162,
   "id": "61fb8ae1",
   "metadata": {},
   "outputs": [
    {
     "data": {
      "text/plain": [
       "2000.0    639\n",
       "3000.0    575\n",
       "1000.0    570\n",
       "500.0     551\n",
       "1500.0    521\n",
       "         ... \n",
       "3685.0      1\n",
       "6459.0      1\n",
       "3337.0      1\n",
       "2290.0      1\n",
       "3401.0      1\n",
       "Name: PIC Flight Time Total Hrs, Length: 3519, dtype: int64"
      ]
     },
     "execution_count": 162,
     "metadata": {},
     "output_type": "execute_result"
    }
   ],
   "source": [
    "High_Inci_Flighttype['PIC Flight Time Total Hrs'].value_counts()"
   ]
  },
  {
   "cell_type": "markdown",
   "id": "1306f425",
   "metadata": {},
   "source": [
    "###### Answer to Research Question 5"
   ]
  },
  {
   "cell_type": "markdown",
   "id": "1c123c72",
   "metadata": {},
   "source": [
    "###### From all the observations above, the answer to the fifth research question is that the most dangerous flight type was PERSONAL. One of the possible factors due to which this was the most dangerous flight type is the experience of the pilot in command. The observations regarding pilot experience are similar to the analysis done for the third research question and the analysis for both third and fifth research questions seem to be supporting each other."
   ]
  },
  {
   "cell_type": "markdown",
   "id": "673422c4",
   "metadata": {},
   "source": [
    "###### Research Question 6 - engine basis"
   ]
  },
  {
   "cell_type": "markdown",
   "id": "67593f65",
   "metadata": {},
   "source": [
    "###### Which was the most dangerous engine and what could be the possible factors from the given data due to which that engine was the most dangerous."
   ]
  },
  {
   "cell_type": "markdown",
   "id": "36cfbf64",
   "metadata": {},
   "source": [
    "To answer this question, we choose the engine model as the main column and create a subset off data with all the relevant columns."
   ]
  },
  {
   "cell_type": "code",
   "execution_count": 163,
   "id": "2bfe3fae",
   "metadata": {},
   "outputs": [],
   "source": [
    "engine_basis_data = av_data_copy[['Aircraft Engine Make','Aircraft Engine Model','Engine Group Code','Nbr of Engines']]"
   ]
  },
  {
   "cell_type": "markdown",
   "id": "1f01dba5",
   "metadata": {},
   "source": [
    "Have a glance of the created subset."
   ]
  },
  {
   "cell_type": "code",
   "execution_count": 164,
   "id": "e06d3e87",
   "metadata": {},
   "outputs": [
    {
     "data": {
      "text/html": [
       "<div>\n",
       "<style scoped>\n",
       "    .dataframe tbody tr th:only-of-type {\n",
       "        vertical-align: middle;\n",
       "    }\n",
       "\n",
       "    .dataframe tbody tr th {\n",
       "        vertical-align: top;\n",
       "    }\n",
       "\n",
       "    .dataframe thead th {\n",
       "        text-align: right;\n",
       "    }\n",
       "</style>\n",
       "<table border=\"1\" class=\"dataframe\">\n",
       "  <thead>\n",
       "    <tr style=\"text-align: right;\">\n",
       "      <th></th>\n",
       "      <th>Aircraft Engine Make</th>\n",
       "      <th>Aircraft Engine Model</th>\n",
       "      <th>Engine Group Code</th>\n",
       "      <th>Nbr of Engines</th>\n",
       "    </tr>\n",
       "  </thead>\n",
       "  <tbody>\n",
       "    <tr>\n",
       "      <th>0</th>\n",
       "      <td>NaN</td>\n",
       "      <td>NaN</td>\n",
       "      <td>NaN</td>\n",
       "      <td>1.0</td>\n",
       "    </tr>\n",
       "    <tr>\n",
       "      <th>1</th>\n",
       "      <td>NaN</td>\n",
       "      <td>NaN</td>\n",
       "      <td>NaN</td>\n",
       "      <td>1.0</td>\n",
       "    </tr>\n",
       "    <tr>\n",
       "      <th>3</th>\n",
       "      <td>NaN</td>\n",
       "      <td>NaN</td>\n",
       "      <td>NaN</td>\n",
       "      <td>2.0</td>\n",
       "    </tr>\n",
       "    <tr>\n",
       "      <th>4</th>\n",
       "      <td>NaN</td>\n",
       "      <td>NaN</td>\n",
       "      <td>NaN</td>\n",
       "      <td>1.0</td>\n",
       "    </tr>\n",
       "    <tr>\n",
       "      <th>7</th>\n",
       "      <td>NaN</td>\n",
       "      <td>NaN</td>\n",
       "      <td>NaN</td>\n",
       "      <td>2.0</td>\n",
       "    </tr>\n",
       "    <tr>\n",
       "      <th>...</th>\n",
       "      <td>...</td>\n",
       "      <td>...</td>\n",
       "      <td>...</td>\n",
       "      <td>...</td>\n",
       "    </tr>\n",
       "    <tr>\n",
       "      <th>99988</th>\n",
       "      <td>LYCOMI</td>\n",
       "      <td>0-320 SERIES</td>\n",
       "      <td>NaN</td>\n",
       "      <td>NaN</td>\n",
       "    </tr>\n",
       "    <tr>\n",
       "      <th>99992</th>\n",
       "      <td>LYCOMI</td>\n",
       "      <td>O&amp;VO-360 SER</td>\n",
       "      <td>360</td>\n",
       "      <td>1.0</td>\n",
       "    </tr>\n",
       "    <tr>\n",
       "      <th>99996</th>\n",
       "      <td>P&amp;W CA</td>\n",
       "      <td>PW530A</td>\n",
       "      <td>NaN</td>\n",
       "      <td>2.0</td>\n",
       "    </tr>\n",
       "    <tr>\n",
       "      <th>99997</th>\n",
       "      <td>LYCOMI</td>\n",
       "      <td>O&amp;VO-360 SER</td>\n",
       "      <td>NaN</td>\n",
       "      <td>1.0</td>\n",
       "    </tr>\n",
       "    <tr>\n",
       "      <th>99998</th>\n",
       "      <td>LYCOMI</td>\n",
       "      <td>O&amp;VO-360 SER</td>\n",
       "      <td>NaN</td>\n",
       "      <td>NaN</td>\n",
       "    </tr>\n",
       "  </tbody>\n",
       "</table>\n",
       "<p>77854 rows × 4 columns</p>\n",
       "</div>"
      ],
      "text/plain": [
       "      Aircraft Engine Make Aircraft Engine Model Engine Group Code  \\\n",
       "0                      NaN                   NaN               NaN   \n",
       "1                      NaN                   NaN               NaN   \n",
       "3                      NaN                   NaN               NaN   \n",
       "4                      NaN                   NaN               NaN   \n",
       "7                      NaN                   NaN               NaN   \n",
       "...                    ...                   ...               ...   \n",
       "99988               LYCOMI          0-320 SERIES               NaN   \n",
       "99992               LYCOMI          O&VO-360 SER               360   \n",
       "99996               P&W CA                PW530A               NaN   \n",
       "99997               LYCOMI          O&VO-360 SER               NaN   \n",
       "99998               LYCOMI          O&VO-360 SER               NaN   \n",
       "\n",
       "       Nbr of Engines  \n",
       "0                 1.0  \n",
       "1                 1.0  \n",
       "3                 2.0  \n",
       "4                 1.0  \n",
       "7                 2.0  \n",
       "...               ...  \n",
       "99988             NaN  \n",
       "99992             1.0  \n",
       "99996             2.0  \n",
       "99997             1.0  \n",
       "99998             NaN  \n",
       "\n",
       "[77854 rows x 4 columns]"
      ]
     },
     "execution_count": 164,
     "metadata": {},
     "output_type": "execute_result"
    }
   ],
   "source": [
    "engine_basis_data"
   ]
  },
  {
   "cell_type": "markdown",
   "id": "cd592dca",
   "metadata": {},
   "source": [
    "Check missing values for the created subset."
   ]
  },
  {
   "cell_type": "code",
   "execution_count": 165,
   "id": "139d2d47",
   "metadata": {},
   "outputs": [
    {
     "data": {
      "text/plain": [
       "Aircraft Engine Make     48179\n",
       "Aircraft Engine Model    48173\n",
       "Engine Group Code        53128\n",
       "Nbr of Engines            4703\n",
       "dtype: int64"
      ]
     },
     "execution_count": 165,
     "metadata": {},
     "output_type": "execute_result"
    }
   ],
   "source": [
    "engine_basis_data.isnull().sum()"
   ]
  },
  {
   "cell_type": "markdown",
   "id": "d5a4c017",
   "metadata": {},
   "source": [
    "The situation again resembles to that of analysis to the fourth and fifth research question. So, repeat the whole process that was done as part of analysis for the fourth and fifth research question and note the observations."
   ]
  },
  {
   "cell_type": "code",
   "execution_count": 166,
   "id": "422753d6",
   "metadata": {},
   "outputs": [],
   "source": [
    "engine_basis_data_copy = engine_basis_data.dropna(subset=['Aircraft Engine Model'])"
   ]
  },
  {
   "cell_type": "code",
   "execution_count": 167,
   "id": "5c061696",
   "metadata": {},
   "outputs": [
    {
     "data": {
      "text/html": [
       "<div>\n",
       "<style scoped>\n",
       "    .dataframe tbody tr th:only-of-type {\n",
       "        vertical-align: middle;\n",
       "    }\n",
       "\n",
       "    .dataframe tbody tr th {\n",
       "        vertical-align: top;\n",
       "    }\n",
       "\n",
       "    .dataframe thead th {\n",
       "        text-align: right;\n",
       "    }\n",
       "</style>\n",
       "<table border=\"1\" class=\"dataframe\">\n",
       "  <thead>\n",
       "    <tr style=\"text-align: right;\">\n",
       "      <th></th>\n",
       "      <th>Aircraft Engine Make</th>\n",
       "      <th>Aircraft Engine Model</th>\n",
       "      <th>Engine Group Code</th>\n",
       "      <th>Nbr of Engines</th>\n",
       "    </tr>\n",
       "  </thead>\n",
       "  <tbody>\n",
       "    <tr>\n",
       "      <th>17</th>\n",
       "      <td>CONT</td>\n",
       "      <td>IO470E</td>\n",
       "      <td>O470</td>\n",
       "      <td>1.0</td>\n",
       "    </tr>\n",
       "    <tr>\n",
       "      <th>20</th>\n",
       "      <td>CONT</td>\n",
       "      <td>O200A</td>\n",
       "      <td>O200</td>\n",
       "      <td>1.0</td>\n",
       "    </tr>\n",
       "    <tr>\n",
       "      <th>27</th>\n",
       "      <td>ALLSN</td>\n",
       "      <td>250C20B</td>\n",
       "      <td>250C</td>\n",
       "      <td>1.0</td>\n",
       "    </tr>\n",
       "    <tr>\n",
       "      <th>52</th>\n",
       "      <td>LYC</td>\n",
       "      <td>O540E4B5</td>\n",
       "      <td>O540</td>\n",
       "      <td>1.0</td>\n",
       "    </tr>\n",
       "    <tr>\n",
       "      <th>56</th>\n",
       "      <td>LYC</td>\n",
       "      <td>O360A2A</td>\n",
       "      <td>O360</td>\n",
       "      <td>1.0</td>\n",
       "    </tr>\n",
       "    <tr>\n",
       "      <th>...</th>\n",
       "      <td>...</td>\n",
       "      <td>...</td>\n",
       "      <td>...</td>\n",
       "      <td>...</td>\n",
       "    </tr>\n",
       "    <tr>\n",
       "      <th>99988</th>\n",
       "      <td>LYCOMI</td>\n",
       "      <td>0-320 SERIES</td>\n",
       "      <td>NaN</td>\n",
       "      <td>NaN</td>\n",
       "    </tr>\n",
       "    <tr>\n",
       "      <th>99992</th>\n",
       "      <td>LYCOMI</td>\n",
       "      <td>O&amp;VO-360 SER</td>\n",
       "      <td>360</td>\n",
       "      <td>1.0</td>\n",
       "    </tr>\n",
       "    <tr>\n",
       "      <th>99996</th>\n",
       "      <td>P&amp;W CA</td>\n",
       "      <td>PW530A</td>\n",
       "      <td>NaN</td>\n",
       "      <td>2.0</td>\n",
       "    </tr>\n",
       "    <tr>\n",
       "      <th>99997</th>\n",
       "      <td>LYCOMI</td>\n",
       "      <td>O&amp;VO-360 SER</td>\n",
       "      <td>NaN</td>\n",
       "      <td>1.0</td>\n",
       "    </tr>\n",
       "    <tr>\n",
       "      <th>99998</th>\n",
       "      <td>LYCOMI</td>\n",
       "      <td>O&amp;VO-360 SER</td>\n",
       "      <td>NaN</td>\n",
       "      <td>NaN</td>\n",
       "    </tr>\n",
       "  </tbody>\n",
       "</table>\n",
       "<p>29681 rows × 4 columns</p>\n",
       "</div>"
      ],
      "text/plain": [
       "      Aircraft Engine Make Aircraft Engine Model Engine Group Code  \\\n",
       "17                    CONT                IO470E              O470   \n",
       "20                    CONT                 O200A              O200   \n",
       "27                   ALLSN               250C20B              250C   \n",
       "52                     LYC              O540E4B5              O540   \n",
       "56                     LYC               O360A2A              O360   \n",
       "...                    ...                   ...               ...   \n",
       "99988               LYCOMI          0-320 SERIES               NaN   \n",
       "99992               LYCOMI          O&VO-360 SER               360   \n",
       "99996               P&W CA                PW530A               NaN   \n",
       "99997               LYCOMI          O&VO-360 SER               NaN   \n",
       "99998               LYCOMI          O&VO-360 SER               NaN   \n",
       "\n",
       "       Nbr of Engines  \n",
       "17                1.0  \n",
       "20                1.0  \n",
       "27                1.0  \n",
       "52                1.0  \n",
       "56                1.0  \n",
       "...               ...  \n",
       "99988             NaN  \n",
       "99992             1.0  \n",
       "99996             2.0  \n",
       "99997             1.0  \n",
       "99998             NaN  \n",
       "\n",
       "[29681 rows x 4 columns]"
      ]
     },
     "execution_count": 167,
     "metadata": {},
     "output_type": "execute_result"
    }
   ],
   "source": [
    "engine_basis_data_copy"
   ]
  },
  {
   "cell_type": "code",
   "execution_count": 168,
   "id": "eaefc63d",
   "metadata": {},
   "outputs": [
    {
     "data": {
      "text/plain": [
       "'O235L2C'"
      ]
     },
     "execution_count": 168,
     "metadata": {},
     "output_type": "execute_result"
    }
   ],
   "source": [
    "engine_basis_data_copy['Aircraft Engine Model'].value_counts().index[0]"
   ]
  },
  {
   "cell_type": "code",
   "execution_count": 169,
   "id": "4cebbf08",
   "metadata": {},
   "outputs": [],
   "source": [
    "High_Inci_Engine = engine_basis_data_copy[engine_basis_data_copy['Aircraft Engine Model'] ==\n",
    "                                         engine_basis_data_copy['Aircraft Engine Model'].value_counts().index[0]]"
   ]
  },
  {
   "cell_type": "code",
   "execution_count": 170,
   "id": "55694a69",
   "metadata": {},
   "outputs": [
    {
     "data": {
      "text/html": [
       "<div>\n",
       "<style scoped>\n",
       "    .dataframe tbody tr th:only-of-type {\n",
       "        vertical-align: middle;\n",
       "    }\n",
       "\n",
       "    .dataframe tbody tr th {\n",
       "        vertical-align: top;\n",
       "    }\n",
       "\n",
       "    .dataframe thead th {\n",
       "        text-align: right;\n",
       "    }\n",
       "</style>\n",
       "<table border=\"1\" class=\"dataframe\">\n",
       "  <thead>\n",
       "    <tr style=\"text-align: right;\">\n",
       "      <th></th>\n",
       "      <th>Aircraft Engine Make</th>\n",
       "      <th>Aircraft Engine Model</th>\n",
       "      <th>Engine Group Code</th>\n",
       "      <th>Nbr of Engines</th>\n",
       "    </tr>\n",
       "  </thead>\n",
       "  <tbody>\n",
       "    <tr>\n",
       "      <th>3722</th>\n",
       "      <td>LYC</td>\n",
       "      <td>O235L2C</td>\n",
       "      <td>O235</td>\n",
       "      <td>1.0</td>\n",
       "    </tr>\n",
       "    <tr>\n",
       "      <th>3730</th>\n",
       "      <td>LYC</td>\n",
       "      <td>O235L2C</td>\n",
       "      <td>O235</td>\n",
       "      <td>1.0</td>\n",
       "    </tr>\n",
       "    <tr>\n",
       "      <th>5966</th>\n",
       "      <td>LYC</td>\n",
       "      <td>O235L2C</td>\n",
       "      <td>O235</td>\n",
       "      <td>1.0</td>\n",
       "    </tr>\n",
       "    <tr>\n",
       "      <th>6134</th>\n",
       "      <td>LYC</td>\n",
       "      <td>O235L2C</td>\n",
       "      <td>O235</td>\n",
       "      <td>1.0</td>\n",
       "    </tr>\n",
       "    <tr>\n",
       "      <th>6842</th>\n",
       "      <td>LYC</td>\n",
       "      <td>O235L2C</td>\n",
       "      <td>O235</td>\n",
       "      <td>1.0</td>\n",
       "    </tr>\n",
       "    <tr>\n",
       "      <th>...</th>\n",
       "      <td>...</td>\n",
       "      <td>...</td>\n",
       "      <td>...</td>\n",
       "      <td>...</td>\n",
       "    </tr>\n",
       "    <tr>\n",
       "      <th>89493</th>\n",
       "      <td>LYC</td>\n",
       "      <td>O235L2C</td>\n",
       "      <td>O235</td>\n",
       "      <td>1.0</td>\n",
       "    </tr>\n",
       "    <tr>\n",
       "      <th>89960</th>\n",
       "      <td>LYC</td>\n",
       "      <td>O235L2C</td>\n",
       "      <td>O235</td>\n",
       "      <td>1.0</td>\n",
       "    </tr>\n",
       "    <tr>\n",
       "      <th>90006</th>\n",
       "      <td>LYC</td>\n",
       "      <td>O235L2C</td>\n",
       "      <td>O235</td>\n",
       "      <td>1.0</td>\n",
       "    </tr>\n",
       "    <tr>\n",
       "      <th>90591</th>\n",
       "      <td>LYC</td>\n",
       "      <td>O235L2C</td>\n",
       "      <td>O235</td>\n",
       "      <td>1.0</td>\n",
       "    </tr>\n",
       "    <tr>\n",
       "      <th>91882</th>\n",
       "      <td>LYC</td>\n",
       "      <td>O235L2C</td>\n",
       "      <td>O235</td>\n",
       "      <td>1.0</td>\n",
       "    </tr>\n",
       "  </tbody>\n",
       "</table>\n",
       "<p>961 rows × 4 columns</p>\n",
       "</div>"
      ],
      "text/plain": [
       "      Aircraft Engine Make Aircraft Engine Model Engine Group Code  \\\n",
       "3722                   LYC               O235L2C              O235   \n",
       "3730                   LYC               O235L2C              O235   \n",
       "5966                   LYC               O235L2C              O235   \n",
       "6134                   LYC               O235L2C              O235   \n",
       "6842                   LYC               O235L2C              O235   \n",
       "...                    ...                   ...               ...   \n",
       "89493                  LYC               O235L2C              O235   \n",
       "89960                  LYC               O235L2C              O235   \n",
       "90006                  LYC               O235L2C              O235   \n",
       "90591                  LYC               O235L2C              O235   \n",
       "91882                  LYC               O235L2C              O235   \n",
       "\n",
       "       Nbr of Engines  \n",
       "3722              1.0  \n",
       "3730              1.0  \n",
       "5966              1.0  \n",
       "6134              1.0  \n",
       "6842              1.0  \n",
       "...               ...  \n",
       "89493             1.0  \n",
       "89960             1.0  \n",
       "90006             1.0  \n",
       "90591             1.0  \n",
       "91882             1.0  \n",
       "\n",
       "[961 rows x 4 columns]"
      ]
     },
     "execution_count": 170,
     "metadata": {},
     "output_type": "execute_result"
    }
   ],
   "source": [
    "High_Inci_Engine"
   ]
  },
  {
   "cell_type": "code",
   "execution_count": 171,
   "id": "597ef113",
   "metadata": {},
   "outputs": [
    {
     "data": {
      "text/plain": [
       "LYC    961\n",
       "Name: Aircraft Engine Make, dtype: int64"
      ]
     },
     "execution_count": 171,
     "metadata": {},
     "output_type": "execute_result"
    }
   ],
   "source": [
    "High_Inci_Engine['Aircraft Engine Make'].value_counts()"
   ]
  },
  {
   "cell_type": "code",
   "execution_count": 172,
   "id": "46068824",
   "metadata": {},
   "outputs": [
    {
     "data": {
      "text/plain": [
       "O235    961\n",
       "Name: Engine Group Code, dtype: int64"
      ]
     },
     "execution_count": 172,
     "metadata": {},
     "output_type": "execute_result"
    }
   ],
   "source": [
    "High_Inci_Engine['Engine Group Code'].value_counts()"
   ]
  },
  {
   "cell_type": "code",
   "execution_count": 173,
   "id": "80aab9d9",
   "metadata": {},
   "outputs": [
    {
     "data": {
      "text/plain": [
       "1.0    959\n",
       "Name: Nbr of Engines, dtype: int64"
      ]
     },
     "execution_count": 173,
     "metadata": {},
     "output_type": "execute_result"
    }
   ],
   "source": [
    "High_Inci_Engine['Nbr of Engines'].value_counts()"
   ]
  },
  {
   "cell_type": "markdown",
   "id": "77a3d2e3",
   "metadata": {},
   "source": [
    "###### Answer to Research Question 6"
   ]
  },
  {
   "cell_type": "markdown",
   "id": "43c4b012",
   "metadata": {},
   "source": [
    "###### From all the observations above the answer to the sixth research question is that the most dangerous engine model was O235L2C, which is of LYC make. One of the possible factors due to which this was the most dangerous engine is the make of the engine."
   ]
  },
  {
   "cell_type": "markdown",
   "id": "f3a60224",
   "metadata": {},
   "source": [
    "#### All the Research questions have been answered through the analysis of the data."
   ]
  }
 ],
 "metadata": {
  "kernelspec": {
   "display_name": "Python 3 (ipykernel)",
   "language": "python",
   "name": "python3"
  },
  "language_info": {
   "codemirror_mode": {
    "name": "ipython",
    "version": 3
   },
   "file_extension": ".py",
   "mimetype": "text/x-python",
   "name": "python",
   "nbconvert_exporter": "python",
   "pygments_lexer": "ipython3",
   "version": "3.8.8"
  }
 },
 "nbformat": 4,
 "nbformat_minor": 5
}
